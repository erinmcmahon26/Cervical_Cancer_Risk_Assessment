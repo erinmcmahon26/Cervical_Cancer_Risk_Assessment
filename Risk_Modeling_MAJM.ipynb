{
  "nbformat": 4,
  "nbformat_minor": 0,
  "metadata": {
    "colab": {
      "provenance": []
    },
    "kernelspec": {
      "name": "python3",
      "display_name": "Python 3"
    },
    "language_info": {
      "name": "python"
    }
  },
  "cells": [
    {
      "cell_type": "code",
      "source": [
        "!pip install shap"
      ],
      "metadata": {
        "id": "Mzl90TCGnLMf",
        "colab": {
          "base_uri": "https://localhost:8080/"
        },
        "outputId": "1126740d-3e85-4e6e-ae31-391858ffde75"
      },
      "execution_count": null,
      "outputs": [
        {
          "output_type": "stream",
          "name": "stdout",
          "text": [
            "Looking in indexes: https://pypi.org/simple, https://us-python.pkg.dev/colab-wheels/public/simple/\n",
            "Collecting shap\n",
            "  Downloading shap-0.41.0-cp38-cp38-manylinux_2_12_x86_64.manylinux2010_x86_64.whl (575 kB)\n",
            "\u001b[2K     \u001b[90m━━━━━━━━━━━━━━━━━━━━━━━━━━━━━━━━━━━━━━\u001b[0m \u001b[32m575.9/575.9 KB\u001b[0m \u001b[31m11.4 MB/s\u001b[0m eta \u001b[36m0:00:00\u001b[0m\n",
            "\u001b[?25hRequirement already satisfied: numpy in /usr/local/lib/python3.8/dist-packages (from shap) (1.21.6)\n",
            "Requirement already satisfied: scikit-learn in /usr/local/lib/python3.8/dist-packages (from shap) (1.0.2)\n",
            "Requirement already satisfied: packaging>20.9 in /usr/local/lib/python3.8/dist-packages (from shap) (23.0)\n",
            "Collecting slicer==0.0.7\n",
            "  Downloading slicer-0.0.7-py3-none-any.whl (14 kB)\n",
            "Requirement already satisfied: cloudpickle in /usr/local/lib/python3.8/dist-packages (from shap) (2.2.1)\n",
            "Requirement already satisfied: tqdm>4.25.0 in /usr/local/lib/python3.8/dist-packages (from shap) (4.64.1)\n",
            "Requirement already satisfied: pandas in /usr/local/lib/python3.8/dist-packages (from shap) (1.3.5)\n",
            "Requirement already satisfied: scipy in /usr/local/lib/python3.8/dist-packages (from shap) (1.7.3)\n",
            "Requirement already satisfied: numba in /usr/local/lib/python3.8/dist-packages (from shap) (0.56.4)\n",
            "Requirement already satisfied: setuptools in /usr/local/lib/python3.8/dist-packages (from numba->shap) (57.4.0)\n",
            "Requirement already satisfied: importlib-metadata in /usr/local/lib/python3.8/dist-packages (from numba->shap) (6.0.0)\n",
            "Requirement already satisfied: llvmlite<0.40,>=0.39.0dev0 in /usr/local/lib/python3.8/dist-packages (from numba->shap) (0.39.1)\n",
            "Requirement already satisfied: pytz>=2017.3 in /usr/local/lib/python3.8/dist-packages (from pandas->shap) (2022.7.1)\n",
            "Requirement already satisfied: python-dateutil>=2.7.3 in /usr/local/lib/python3.8/dist-packages (from pandas->shap) (2.8.2)\n",
            "Requirement already satisfied: joblib>=0.11 in /usr/local/lib/python3.8/dist-packages (from scikit-learn->shap) (1.2.0)\n",
            "Requirement already satisfied: threadpoolctl>=2.0.0 in /usr/local/lib/python3.8/dist-packages (from scikit-learn->shap) (3.1.0)\n",
            "Requirement already satisfied: six>=1.5 in /usr/local/lib/python3.8/dist-packages (from python-dateutil>=2.7.3->pandas->shap) (1.15.0)\n",
            "Requirement already satisfied: zipp>=0.5 in /usr/local/lib/python3.8/dist-packages (from importlib-metadata->numba->shap) (3.13.0)\n",
            "Installing collected packages: slicer, shap\n",
            "Successfully installed shap-0.41.0 slicer-0.0.7\n"
          ]
        }
      ]
    },
    {
      "cell_type": "code",
      "execution_count": null,
      "metadata": {
        "id": "xUzDzYkhtLhV"
      },
      "outputs": [],
      "source": [
        "#Import packages\n",
        "import numpy as np\n",
        "import pandas as pd\n",
        "import seaborn as sns\n",
        "from google.colab import files\n",
        "import io\n",
        "from google.colab import drive\n",
        "\n",
        "#Metrics/processing imports\n",
        "from sklearn.model_selection import train_test_split\n",
        "from sklearn import metrics\n",
        "import imblearn\n",
        "from imblearn.over_sampling import SMOTE\n",
        "from sklearn.metrics import confusion_matrix, classification_report, plot_confusion_matrix\n",
        "from collections import Counter\n",
        "\n",
        "#Model imports\n",
        "from sklearn.ensemble import RandomForestClassifier\n",
        "from sklearn.linear_model import SGDClassifier\n",
        "from sklearn.ensemble import VotingClassifier\n",
        "from sklearn import svm\n",
        "from sklearn.neighbors import KNeighborsClassifier\n",
        "from sklearn.linear_model import LogisticRegression\n",
        "\n",
        "#Neural net imports\n",
        "import tensorflow as tf\n",
        "from tensorflow.keras.utils import to_categorical\n",
        "from tensorflow import keras\n",
        "from tensorflow.keras import models\n",
        "from tensorflow.keras.models import Sequential\n",
        "from tensorflow.keras.layers import Dense, Flatten\n",
        "import tensorflow.keras.backend as k\n",
        "from tensorflow.keras.optimizers import SGD\n",
        "\n",
        "#Visualization imports\n",
        "import matplotlib.pyplot as plt\n",
        "import seaborn as sns\n",
        "import missingno as msno\n",
        "\n",
        "#Shap values\n",
        "import shap\n",
        "from scipy.special import softmax\n",
        "\n",
        "#Pickle\n",
        "import pickle"
      ]
    },
    {
      "cell_type": "code",
      "source": [
        "#Set seed\n",
        "np.random.seed(1234)"
      ],
      "metadata": {
        "id": "wUCk8DbvqyaM"
      },
      "execution_count": null,
      "outputs": []
    },
    {
      "cell_type": "code",
      "source": [
        "#Load data\n",
        "drive.mount('/content/drive')\n",
        "df =pd.read_csv(\"drive/My Drive/Capstone Project/Cervical_Cancer/kag_risk_factors_cervical_cancer.csv\")\n",
        "df.head()"
      ],
      "metadata": {
        "id": "8r05Jo7ntZSN",
        "colab": {
          "base_uri": "https://localhost:8080/",
          "height": 386
        },
        "outputId": "4154c7c1-c3d1-4297-ffe7-f4188c0f51be"
      },
      "execution_count": null,
      "outputs": [
        {
          "output_type": "stream",
          "name": "stdout",
          "text": [
            "Mounted at /content/drive\n"
          ]
        },
        {
          "output_type": "execute_result",
          "data": {
            "text/plain": [
              "   Age Number of sexual partners First sexual intercourse Num of pregnancies  \\\n",
              "0   18                       4.0                     15.0                1.0   \n",
              "1   15                       1.0                     14.0                1.0   \n",
              "2   34                       1.0                        ?                1.0   \n",
              "3   52                       5.0                     16.0                4.0   \n",
              "4   46                       3.0                     21.0                4.0   \n",
              "\n",
              "  Smokes Smokes (years) Smokes (packs/year) Hormonal Contraceptives  \\\n",
              "0    0.0            0.0                 0.0                     0.0   \n",
              "1    0.0            0.0                 0.0                     0.0   \n",
              "2    0.0            0.0                 0.0                     0.0   \n",
              "3    1.0           37.0                37.0                     1.0   \n",
              "4    0.0            0.0                 0.0                     1.0   \n",
              "\n",
              "  Hormonal Contraceptives (years)  IUD  ... STDs: Time since first diagnosis  \\\n",
              "0                             0.0  0.0  ...                                ?   \n",
              "1                             0.0  0.0  ...                                ?   \n",
              "2                             0.0  0.0  ...                                ?   \n",
              "3                             3.0  0.0  ...                                ?   \n",
              "4                            15.0  0.0  ...                                ?   \n",
              "\n",
              "  STDs: Time since last diagnosis Dx:Cancer Dx:CIN Dx:HPV Dx Hinselmann  \\\n",
              "0                               ?         0      0      0  0          0   \n",
              "1                               ?         0      0      0  0          0   \n",
              "2                               ?         0      0      0  0          0   \n",
              "3                               ?         1      0      1  0          0   \n",
              "4                               ?         0      0      0  0          0   \n",
              "\n",
              "  Schiller Citology Biopsy  \n",
              "0        0        0      0  \n",
              "1        0        0      0  \n",
              "2        0        0      0  \n",
              "3        0        0      0  \n",
              "4        0        0      0  \n",
              "\n",
              "[5 rows x 36 columns]"
            ],
            "text/html": [
              "\n",
              "  <div id=\"df-d0573d23-cbee-4e54-8a44-5733b1fcfbd0\">\n",
              "    <div class=\"colab-df-container\">\n",
              "      <div>\n",
              "<style scoped>\n",
              "    .dataframe tbody tr th:only-of-type {\n",
              "        vertical-align: middle;\n",
              "    }\n",
              "\n",
              "    .dataframe tbody tr th {\n",
              "        vertical-align: top;\n",
              "    }\n",
              "\n",
              "    .dataframe thead th {\n",
              "        text-align: right;\n",
              "    }\n",
              "</style>\n",
              "<table border=\"1\" class=\"dataframe\">\n",
              "  <thead>\n",
              "    <tr style=\"text-align: right;\">\n",
              "      <th></th>\n",
              "      <th>Age</th>\n",
              "      <th>Number of sexual partners</th>\n",
              "      <th>First sexual intercourse</th>\n",
              "      <th>Num of pregnancies</th>\n",
              "      <th>Smokes</th>\n",
              "      <th>Smokes (years)</th>\n",
              "      <th>Smokes (packs/year)</th>\n",
              "      <th>Hormonal Contraceptives</th>\n",
              "      <th>Hormonal Contraceptives (years)</th>\n",
              "      <th>IUD</th>\n",
              "      <th>...</th>\n",
              "      <th>STDs: Time since first diagnosis</th>\n",
              "      <th>STDs: Time since last diagnosis</th>\n",
              "      <th>Dx:Cancer</th>\n",
              "      <th>Dx:CIN</th>\n",
              "      <th>Dx:HPV</th>\n",
              "      <th>Dx</th>\n",
              "      <th>Hinselmann</th>\n",
              "      <th>Schiller</th>\n",
              "      <th>Citology</th>\n",
              "      <th>Biopsy</th>\n",
              "    </tr>\n",
              "  </thead>\n",
              "  <tbody>\n",
              "    <tr>\n",
              "      <th>0</th>\n",
              "      <td>18</td>\n",
              "      <td>4.0</td>\n",
              "      <td>15.0</td>\n",
              "      <td>1.0</td>\n",
              "      <td>0.0</td>\n",
              "      <td>0.0</td>\n",
              "      <td>0.0</td>\n",
              "      <td>0.0</td>\n",
              "      <td>0.0</td>\n",
              "      <td>0.0</td>\n",
              "      <td>...</td>\n",
              "      <td>?</td>\n",
              "      <td>?</td>\n",
              "      <td>0</td>\n",
              "      <td>0</td>\n",
              "      <td>0</td>\n",
              "      <td>0</td>\n",
              "      <td>0</td>\n",
              "      <td>0</td>\n",
              "      <td>0</td>\n",
              "      <td>0</td>\n",
              "    </tr>\n",
              "    <tr>\n",
              "      <th>1</th>\n",
              "      <td>15</td>\n",
              "      <td>1.0</td>\n",
              "      <td>14.0</td>\n",
              "      <td>1.0</td>\n",
              "      <td>0.0</td>\n",
              "      <td>0.0</td>\n",
              "      <td>0.0</td>\n",
              "      <td>0.0</td>\n",
              "      <td>0.0</td>\n",
              "      <td>0.0</td>\n",
              "      <td>...</td>\n",
              "      <td>?</td>\n",
              "      <td>?</td>\n",
              "      <td>0</td>\n",
              "      <td>0</td>\n",
              "      <td>0</td>\n",
              "      <td>0</td>\n",
              "      <td>0</td>\n",
              "      <td>0</td>\n",
              "      <td>0</td>\n",
              "      <td>0</td>\n",
              "    </tr>\n",
              "    <tr>\n",
              "      <th>2</th>\n",
              "      <td>34</td>\n",
              "      <td>1.0</td>\n",
              "      <td>?</td>\n",
              "      <td>1.0</td>\n",
              "      <td>0.0</td>\n",
              "      <td>0.0</td>\n",
              "      <td>0.0</td>\n",
              "      <td>0.0</td>\n",
              "      <td>0.0</td>\n",
              "      <td>0.0</td>\n",
              "      <td>...</td>\n",
              "      <td>?</td>\n",
              "      <td>?</td>\n",
              "      <td>0</td>\n",
              "      <td>0</td>\n",
              "      <td>0</td>\n",
              "      <td>0</td>\n",
              "      <td>0</td>\n",
              "      <td>0</td>\n",
              "      <td>0</td>\n",
              "      <td>0</td>\n",
              "    </tr>\n",
              "    <tr>\n",
              "      <th>3</th>\n",
              "      <td>52</td>\n",
              "      <td>5.0</td>\n",
              "      <td>16.0</td>\n",
              "      <td>4.0</td>\n",
              "      <td>1.0</td>\n",
              "      <td>37.0</td>\n",
              "      <td>37.0</td>\n",
              "      <td>1.0</td>\n",
              "      <td>3.0</td>\n",
              "      <td>0.0</td>\n",
              "      <td>...</td>\n",
              "      <td>?</td>\n",
              "      <td>?</td>\n",
              "      <td>1</td>\n",
              "      <td>0</td>\n",
              "      <td>1</td>\n",
              "      <td>0</td>\n",
              "      <td>0</td>\n",
              "      <td>0</td>\n",
              "      <td>0</td>\n",
              "      <td>0</td>\n",
              "    </tr>\n",
              "    <tr>\n",
              "      <th>4</th>\n",
              "      <td>46</td>\n",
              "      <td>3.0</td>\n",
              "      <td>21.0</td>\n",
              "      <td>4.0</td>\n",
              "      <td>0.0</td>\n",
              "      <td>0.0</td>\n",
              "      <td>0.0</td>\n",
              "      <td>1.0</td>\n",
              "      <td>15.0</td>\n",
              "      <td>0.0</td>\n",
              "      <td>...</td>\n",
              "      <td>?</td>\n",
              "      <td>?</td>\n",
              "      <td>0</td>\n",
              "      <td>0</td>\n",
              "      <td>0</td>\n",
              "      <td>0</td>\n",
              "      <td>0</td>\n",
              "      <td>0</td>\n",
              "      <td>0</td>\n",
              "      <td>0</td>\n",
              "    </tr>\n",
              "  </tbody>\n",
              "</table>\n",
              "<p>5 rows × 36 columns</p>\n",
              "</div>\n",
              "      <button class=\"colab-df-convert\" onclick=\"convertToInteractive('df-d0573d23-cbee-4e54-8a44-5733b1fcfbd0')\"\n",
              "              title=\"Convert this dataframe to an interactive table.\"\n",
              "              style=\"display:none;\">\n",
              "        \n",
              "  <svg xmlns=\"http://www.w3.org/2000/svg\" height=\"24px\"viewBox=\"0 0 24 24\"\n",
              "       width=\"24px\">\n",
              "    <path d=\"M0 0h24v24H0V0z\" fill=\"none\"/>\n",
              "    <path d=\"M18.56 5.44l.94 2.06.94-2.06 2.06-.94-2.06-.94-.94-2.06-.94 2.06-2.06.94zm-11 1L8.5 8.5l.94-2.06 2.06-.94-2.06-.94L8.5 2.5l-.94 2.06-2.06.94zm10 10l.94 2.06.94-2.06 2.06-.94-2.06-.94-.94-2.06-.94 2.06-2.06.94z\"/><path d=\"M17.41 7.96l-1.37-1.37c-.4-.4-.92-.59-1.43-.59-.52 0-1.04.2-1.43.59L10.3 9.45l-7.72 7.72c-.78.78-.78 2.05 0 2.83L4 21.41c.39.39.9.59 1.41.59.51 0 1.02-.2 1.41-.59l7.78-7.78 2.81-2.81c.8-.78.8-2.07 0-2.86zM5.41 20L4 18.59l7.72-7.72 1.47 1.35L5.41 20z\"/>\n",
              "  </svg>\n",
              "      </button>\n",
              "      \n",
              "  <style>\n",
              "    .colab-df-container {\n",
              "      display:flex;\n",
              "      flex-wrap:wrap;\n",
              "      gap: 12px;\n",
              "    }\n",
              "\n",
              "    .colab-df-convert {\n",
              "      background-color: #E8F0FE;\n",
              "      border: none;\n",
              "      border-radius: 50%;\n",
              "      cursor: pointer;\n",
              "      display: none;\n",
              "      fill: #1967D2;\n",
              "      height: 32px;\n",
              "      padding: 0 0 0 0;\n",
              "      width: 32px;\n",
              "    }\n",
              "\n",
              "    .colab-df-convert:hover {\n",
              "      background-color: #E2EBFA;\n",
              "      box-shadow: 0px 1px 2px rgba(60, 64, 67, 0.3), 0px 1px 3px 1px rgba(60, 64, 67, 0.15);\n",
              "      fill: #174EA6;\n",
              "    }\n",
              "\n",
              "    [theme=dark] .colab-df-convert {\n",
              "      background-color: #3B4455;\n",
              "      fill: #D2E3FC;\n",
              "    }\n",
              "\n",
              "    [theme=dark] .colab-df-convert:hover {\n",
              "      background-color: #434B5C;\n",
              "      box-shadow: 0px 1px 3px 1px rgba(0, 0, 0, 0.15);\n",
              "      filter: drop-shadow(0px 1px 2px rgba(0, 0, 0, 0.3));\n",
              "      fill: #FFFFFF;\n",
              "    }\n",
              "  </style>\n",
              "\n",
              "      <script>\n",
              "        const buttonEl =\n",
              "          document.querySelector('#df-d0573d23-cbee-4e54-8a44-5733b1fcfbd0 button.colab-df-convert');\n",
              "        buttonEl.style.display =\n",
              "          google.colab.kernel.accessAllowed ? 'block' : 'none';\n",
              "\n",
              "        async function convertToInteractive(key) {\n",
              "          const element = document.querySelector('#df-d0573d23-cbee-4e54-8a44-5733b1fcfbd0');\n",
              "          const dataTable =\n",
              "            await google.colab.kernel.invokeFunction('convertToInteractive',\n",
              "                                                     [key], {});\n",
              "          if (!dataTable) return;\n",
              "\n",
              "          const docLinkHtml = 'Like what you see? Visit the ' +\n",
              "            '<a target=\"_blank\" href=https://colab.research.google.com/notebooks/data_table.ipynb>data table notebook</a>'\n",
              "            + ' to learn more about interactive tables.';\n",
              "          element.innerHTML = '';\n",
              "          dataTable['output_type'] = 'display_data';\n",
              "          await google.colab.output.renderOutput(dataTable, element);\n",
              "          const docLink = document.createElement('div');\n",
              "          docLink.innerHTML = docLinkHtml;\n",
              "          element.appendChild(docLink);\n",
              "        }\n",
              "      </script>\n",
              "    </div>\n",
              "  </div>\n",
              "  "
            ]
          },
          "metadata": {},
          "execution_count": 5
        }
      ]
    },
    {
      "cell_type": "code",
      "source": [
        "df.describe()"
      ],
      "metadata": {
        "id": "0oQLrCBztZVk",
        "colab": {
          "base_uri": "https://localhost:8080/",
          "height": 399
        },
        "outputId": "b02bb913-2815-4e22-8424-891b408906b4"
      },
      "execution_count": null,
      "outputs": [
        {
          "output_type": "execute_result",
          "data": {
            "text/plain": [
              "              Age  STDs: Number of diagnosis   Dx:Cancer      Dx:CIN  \\\n",
              "count  858.000000                 858.000000  858.000000  858.000000   \n",
              "mean    26.820513                   0.087413    0.020979    0.010490   \n",
              "std      8.497948                   0.302545    0.143398    0.101939   \n",
              "min     13.000000                   0.000000    0.000000    0.000000   \n",
              "25%     20.000000                   0.000000    0.000000    0.000000   \n",
              "50%     25.000000                   0.000000    0.000000    0.000000   \n",
              "75%     32.000000                   0.000000    0.000000    0.000000   \n",
              "max     84.000000                   3.000000    1.000000    1.000000   \n",
              "\n",
              "           Dx:HPV          Dx  Hinselmann    Schiller    Citology      Biopsy  \n",
              "count  858.000000  858.000000  858.000000  858.000000  858.000000  858.000000  \n",
              "mean     0.020979    0.027972    0.040793    0.086247    0.051282    0.064103  \n",
              "std      0.143398    0.164989    0.197925    0.280892    0.220701    0.245078  \n",
              "min      0.000000    0.000000    0.000000    0.000000    0.000000    0.000000  \n",
              "25%      0.000000    0.000000    0.000000    0.000000    0.000000    0.000000  \n",
              "50%      0.000000    0.000000    0.000000    0.000000    0.000000    0.000000  \n",
              "75%      0.000000    0.000000    0.000000    0.000000    0.000000    0.000000  \n",
              "max      1.000000    1.000000    1.000000    1.000000    1.000000    1.000000  "
            ],
            "text/html": [
              "\n",
              "  <div id=\"df-534d157e-72cb-462c-9287-c842419780a3\">\n",
              "    <div class=\"colab-df-container\">\n",
              "      <div>\n",
              "<style scoped>\n",
              "    .dataframe tbody tr th:only-of-type {\n",
              "        vertical-align: middle;\n",
              "    }\n",
              "\n",
              "    .dataframe tbody tr th {\n",
              "        vertical-align: top;\n",
              "    }\n",
              "\n",
              "    .dataframe thead th {\n",
              "        text-align: right;\n",
              "    }\n",
              "</style>\n",
              "<table border=\"1\" class=\"dataframe\">\n",
              "  <thead>\n",
              "    <tr style=\"text-align: right;\">\n",
              "      <th></th>\n",
              "      <th>Age</th>\n",
              "      <th>STDs: Number of diagnosis</th>\n",
              "      <th>Dx:Cancer</th>\n",
              "      <th>Dx:CIN</th>\n",
              "      <th>Dx:HPV</th>\n",
              "      <th>Dx</th>\n",
              "      <th>Hinselmann</th>\n",
              "      <th>Schiller</th>\n",
              "      <th>Citology</th>\n",
              "      <th>Biopsy</th>\n",
              "    </tr>\n",
              "  </thead>\n",
              "  <tbody>\n",
              "    <tr>\n",
              "      <th>count</th>\n",
              "      <td>858.000000</td>\n",
              "      <td>858.000000</td>\n",
              "      <td>858.000000</td>\n",
              "      <td>858.000000</td>\n",
              "      <td>858.000000</td>\n",
              "      <td>858.000000</td>\n",
              "      <td>858.000000</td>\n",
              "      <td>858.000000</td>\n",
              "      <td>858.000000</td>\n",
              "      <td>858.000000</td>\n",
              "    </tr>\n",
              "    <tr>\n",
              "      <th>mean</th>\n",
              "      <td>26.820513</td>\n",
              "      <td>0.087413</td>\n",
              "      <td>0.020979</td>\n",
              "      <td>0.010490</td>\n",
              "      <td>0.020979</td>\n",
              "      <td>0.027972</td>\n",
              "      <td>0.040793</td>\n",
              "      <td>0.086247</td>\n",
              "      <td>0.051282</td>\n",
              "      <td>0.064103</td>\n",
              "    </tr>\n",
              "    <tr>\n",
              "      <th>std</th>\n",
              "      <td>8.497948</td>\n",
              "      <td>0.302545</td>\n",
              "      <td>0.143398</td>\n",
              "      <td>0.101939</td>\n",
              "      <td>0.143398</td>\n",
              "      <td>0.164989</td>\n",
              "      <td>0.197925</td>\n",
              "      <td>0.280892</td>\n",
              "      <td>0.220701</td>\n",
              "      <td>0.245078</td>\n",
              "    </tr>\n",
              "    <tr>\n",
              "      <th>min</th>\n",
              "      <td>13.000000</td>\n",
              "      <td>0.000000</td>\n",
              "      <td>0.000000</td>\n",
              "      <td>0.000000</td>\n",
              "      <td>0.000000</td>\n",
              "      <td>0.000000</td>\n",
              "      <td>0.000000</td>\n",
              "      <td>0.000000</td>\n",
              "      <td>0.000000</td>\n",
              "      <td>0.000000</td>\n",
              "    </tr>\n",
              "    <tr>\n",
              "      <th>25%</th>\n",
              "      <td>20.000000</td>\n",
              "      <td>0.000000</td>\n",
              "      <td>0.000000</td>\n",
              "      <td>0.000000</td>\n",
              "      <td>0.000000</td>\n",
              "      <td>0.000000</td>\n",
              "      <td>0.000000</td>\n",
              "      <td>0.000000</td>\n",
              "      <td>0.000000</td>\n",
              "      <td>0.000000</td>\n",
              "    </tr>\n",
              "    <tr>\n",
              "      <th>50%</th>\n",
              "      <td>25.000000</td>\n",
              "      <td>0.000000</td>\n",
              "      <td>0.000000</td>\n",
              "      <td>0.000000</td>\n",
              "      <td>0.000000</td>\n",
              "      <td>0.000000</td>\n",
              "      <td>0.000000</td>\n",
              "      <td>0.000000</td>\n",
              "      <td>0.000000</td>\n",
              "      <td>0.000000</td>\n",
              "    </tr>\n",
              "    <tr>\n",
              "      <th>75%</th>\n",
              "      <td>32.000000</td>\n",
              "      <td>0.000000</td>\n",
              "      <td>0.000000</td>\n",
              "      <td>0.000000</td>\n",
              "      <td>0.000000</td>\n",
              "      <td>0.000000</td>\n",
              "      <td>0.000000</td>\n",
              "      <td>0.000000</td>\n",
              "      <td>0.000000</td>\n",
              "      <td>0.000000</td>\n",
              "    </tr>\n",
              "    <tr>\n",
              "      <th>max</th>\n",
              "      <td>84.000000</td>\n",
              "      <td>3.000000</td>\n",
              "      <td>1.000000</td>\n",
              "      <td>1.000000</td>\n",
              "      <td>1.000000</td>\n",
              "      <td>1.000000</td>\n",
              "      <td>1.000000</td>\n",
              "      <td>1.000000</td>\n",
              "      <td>1.000000</td>\n",
              "      <td>1.000000</td>\n",
              "    </tr>\n",
              "  </tbody>\n",
              "</table>\n",
              "</div>\n",
              "      <button class=\"colab-df-convert\" onclick=\"convertToInteractive('df-534d157e-72cb-462c-9287-c842419780a3')\"\n",
              "              title=\"Convert this dataframe to an interactive table.\"\n",
              "              style=\"display:none;\">\n",
              "        \n",
              "  <svg xmlns=\"http://www.w3.org/2000/svg\" height=\"24px\"viewBox=\"0 0 24 24\"\n",
              "       width=\"24px\">\n",
              "    <path d=\"M0 0h24v24H0V0z\" fill=\"none\"/>\n",
              "    <path d=\"M18.56 5.44l.94 2.06.94-2.06 2.06-.94-2.06-.94-.94-2.06-.94 2.06-2.06.94zm-11 1L8.5 8.5l.94-2.06 2.06-.94-2.06-.94L8.5 2.5l-.94 2.06-2.06.94zm10 10l.94 2.06.94-2.06 2.06-.94-2.06-.94-.94-2.06-.94 2.06-2.06.94z\"/><path d=\"M17.41 7.96l-1.37-1.37c-.4-.4-.92-.59-1.43-.59-.52 0-1.04.2-1.43.59L10.3 9.45l-7.72 7.72c-.78.78-.78 2.05 0 2.83L4 21.41c.39.39.9.59 1.41.59.51 0 1.02-.2 1.41-.59l7.78-7.78 2.81-2.81c.8-.78.8-2.07 0-2.86zM5.41 20L4 18.59l7.72-7.72 1.47 1.35L5.41 20z\"/>\n",
              "  </svg>\n",
              "      </button>\n",
              "      \n",
              "  <style>\n",
              "    .colab-df-container {\n",
              "      display:flex;\n",
              "      flex-wrap:wrap;\n",
              "      gap: 12px;\n",
              "    }\n",
              "\n",
              "    .colab-df-convert {\n",
              "      background-color: #E8F0FE;\n",
              "      border: none;\n",
              "      border-radius: 50%;\n",
              "      cursor: pointer;\n",
              "      display: none;\n",
              "      fill: #1967D2;\n",
              "      height: 32px;\n",
              "      padding: 0 0 0 0;\n",
              "      width: 32px;\n",
              "    }\n",
              "\n",
              "    .colab-df-convert:hover {\n",
              "      background-color: #E2EBFA;\n",
              "      box-shadow: 0px 1px 2px rgba(60, 64, 67, 0.3), 0px 1px 3px 1px rgba(60, 64, 67, 0.15);\n",
              "      fill: #174EA6;\n",
              "    }\n",
              "\n",
              "    [theme=dark] .colab-df-convert {\n",
              "      background-color: #3B4455;\n",
              "      fill: #D2E3FC;\n",
              "    }\n",
              "\n",
              "    [theme=dark] .colab-df-convert:hover {\n",
              "      background-color: #434B5C;\n",
              "      box-shadow: 0px 1px 3px 1px rgba(0, 0, 0, 0.15);\n",
              "      filter: drop-shadow(0px 1px 2px rgba(0, 0, 0, 0.3));\n",
              "      fill: #FFFFFF;\n",
              "    }\n",
              "  </style>\n",
              "\n",
              "      <script>\n",
              "        const buttonEl =\n",
              "          document.querySelector('#df-534d157e-72cb-462c-9287-c842419780a3 button.colab-df-convert');\n",
              "        buttonEl.style.display =\n",
              "          google.colab.kernel.accessAllowed ? 'block' : 'none';\n",
              "\n",
              "        async function convertToInteractive(key) {\n",
              "          const element = document.querySelector('#df-534d157e-72cb-462c-9287-c842419780a3');\n",
              "          const dataTable =\n",
              "            await google.colab.kernel.invokeFunction('convertToInteractive',\n",
              "                                                     [key], {});\n",
              "          if (!dataTable) return;\n",
              "\n",
              "          const docLinkHtml = 'Like what you see? Visit the ' +\n",
              "            '<a target=\"_blank\" href=https://colab.research.google.com/notebooks/data_table.ipynb>data table notebook</a>'\n",
              "            + ' to learn more about interactive tables.';\n",
              "          element.innerHTML = '';\n",
              "          dataTable['output_type'] = 'display_data';\n",
              "          await google.colab.output.renderOutput(dataTable, element);\n",
              "          const docLink = document.createElement('div');\n",
              "          docLink.innerHTML = docLinkHtml;\n",
              "          element.appendChild(docLink);\n",
              "        }\n",
              "      </script>\n",
              "    </div>\n",
              "  </div>\n",
              "  "
            ]
          },
          "metadata": {},
          "execution_count": 6
        }
      ]
    },
    {
      "cell_type": "code",
      "source": [
        "#Let's inspect the data\n",
        "print(df.columns)\n",
        "\n",
        "#Let's rename the columns so they are usable \n",
        "df.rename({\n",
        "           'Age': 'age', \n",
        "           'Number of sexual partners': 'num_sex_partners',\n",
        "           'First sexual intercourse': 'first_sex',\n",
        "           'Num of pregnancies': 'num_preg',\n",
        "           'Smokes': 'smoker',\n",
        "           'Smokes (years)': 'smoke_years',\n",
        "           'Smokes (packs/year)': 'pack_years',\n",
        "           'Hormonal Contraceptives': 'contracept', \n",
        "           'Hormonal Contraceptives (years)': 'contracept_years',\n",
        "           'IUD': 'iud',\n",
        "           'IUD (years)': 'iud_years',\n",
        "           'STDs': 'stds',\n",
        "           'STDs (number)': 'stds_num',\n",
        "           'STDs:condylomatosis': 'std_condy', \n",
        "           'STDs:cervical condylomatosis': 'std_cerv_condy',\n",
        "           'STDs:vaginal condylomatosis': 'std_vag_condy',\n",
        "           'STDs:vulvo-perineal condylomatosis': 'std_vulvperi_condy',\n",
        "           'STDs:syphilis': 'std_syphilis',\n",
        "           'STDs:pelvic inflammatory disease': 'std_pid',\n",
        "           'STDs:genital herpes': 'std_herpes',\n",
        "           'STDs:molluscum contagiosum': 'std_molluscum', \n",
        "           'STDs:AIDS': 'std_aids',\n",
        "           'STDs:HIV': 'std_hiv',\n",
        "           'STDs:Hepatitis B': 'std_hep_b',\n",
        "           'STDs:HPV': 'std_hpv',\n",
        "           'STDs: Number of diagnosis': 'std_num_dx',\n",
        "           'STDs: Time since first diagnosis': 'std_time_first_dx',\n",
        "           'STDs: Time since last diagnosis': 'std_time_last_dx',\n",
        "           'Dx:Cancer': 'cancer', \n",
        "           'Dx:CIN': 'cin', \n",
        "           'Dx:HPV': 'hpv', \n",
        "           'Dx': 'dx', \n",
        "           'Hinselmann': 'hinselmann',\n",
        "           'Schiller': 'schiller', \n",
        "           'Citology': 'cytology',\n",
        "           'Biopsy': 'biopsy'\n",
        "           }, \n",
        "          axis=1, \n",
        "          inplace=True)\n"
      ],
      "metadata": {
        "id": "A9uTcMsxtZYd",
        "colab": {
          "base_uri": "https://localhost:8080/"
        },
        "outputId": "de137c48-ebf2-488d-c206-535abfd31590"
      },
      "execution_count": null,
      "outputs": [
        {
          "output_type": "stream",
          "name": "stdout",
          "text": [
            "Index(['Age', 'Number of sexual partners', 'First sexual intercourse',\n",
            "       'Num of pregnancies', 'Smokes', 'Smokes (years)', 'Smokes (packs/year)',\n",
            "       'Hormonal Contraceptives', 'Hormonal Contraceptives (years)', 'IUD',\n",
            "       'IUD (years)', 'STDs', 'STDs (number)', 'STDs:condylomatosis',\n",
            "       'STDs:cervical condylomatosis', 'STDs:vaginal condylomatosis',\n",
            "       'STDs:vulvo-perineal condylomatosis', 'STDs:syphilis',\n",
            "       'STDs:pelvic inflammatory disease', 'STDs:genital herpes',\n",
            "       'STDs:molluscum contagiosum', 'STDs:AIDS', 'STDs:HIV',\n",
            "       'STDs:Hepatitis B', 'STDs:HPV', 'STDs: Number of diagnosis',\n",
            "       'STDs: Time since first diagnosis', 'STDs: Time since last diagnosis',\n",
            "       'Dx:Cancer', 'Dx:CIN', 'Dx:HPV', 'Dx', 'Hinselmann', 'Schiller',\n",
            "       'Citology', 'Biopsy'],\n",
            "      dtype='object')\n"
          ]
        }
      ]
    },
    {
      "cell_type": "code",
      "source": [
        "print(df.columns)"
      ],
      "metadata": {
        "id": "ql8MoVbLtZbo",
        "colab": {
          "base_uri": "https://localhost:8080/"
        },
        "outputId": "7a24fef0-1ab6-4092-b018-bd2535752c18"
      },
      "execution_count": null,
      "outputs": [
        {
          "output_type": "stream",
          "name": "stdout",
          "text": [
            "Index(['age', 'num_sex_partners', 'first_sex', 'num_preg', 'smoker',\n",
            "       'smoke_years', 'pack_years', 'contracept', 'contracept_years', 'iud',\n",
            "       'iud_years', 'stds', 'stds_num', 'std_condy', 'std_cerv_condy',\n",
            "       'std_vag_condy', 'std_vulvperi_condy', 'std_syphilis', 'std_pid',\n",
            "       'std_herpes', 'std_molluscum', 'std_aids', 'std_hiv', 'std_hep_b',\n",
            "       'std_hpv', 'std_num_dx', 'std_time_first_dx', 'std_time_last_dx',\n",
            "       'cancer', 'cin', 'hpv', 'dx', 'hinselmann', 'schiller', 'cytology',\n",
            "       'biopsy'],\n",
            "      dtype='object')\n"
          ]
        }
      ]
    },
    {
      "cell_type": "code",
      "source": [
        "df.shape  "
      ],
      "metadata": {
        "id": "27gj4pkqtZer",
        "colab": {
          "base_uri": "https://localhost:8080/"
        },
        "outputId": "6bfb023d-5e50-47c4-cf87-4fe3e4ddccb9"
      },
      "execution_count": null,
      "outputs": [
        {
          "output_type": "execute_result",
          "data": {
            "text/plain": [
              "(858, 36)"
            ]
          },
          "metadata": {},
          "execution_count": 9
        }
      ]
    },
    {
      "cell_type": "code",
      "source": [
        "#Describing numeric values\n",
        "df.describe().T"
      ],
      "metadata": {
        "id": "IF_9R_7_tZvF",
        "colab": {
          "base_uri": "https://localhost:8080/",
          "height": 363
        },
        "outputId": "69f6fcd5-5a9d-4c93-a8a6-b2327ba97fd1"
      },
      "execution_count": null,
      "outputs": [
        {
          "output_type": "execute_result",
          "data": {
            "text/plain": [
              "            count       mean       std   min   25%   50%   75%   max\n",
              "age         858.0  26.820513  8.497948  13.0  20.0  25.0  32.0  84.0\n",
              "std_num_dx  858.0   0.087413  0.302545   0.0   0.0   0.0   0.0   3.0\n",
              "cancer      858.0   0.020979  0.143398   0.0   0.0   0.0   0.0   1.0\n",
              "cin         858.0   0.010490  0.101939   0.0   0.0   0.0   0.0   1.0\n",
              "hpv         858.0   0.020979  0.143398   0.0   0.0   0.0   0.0   1.0\n",
              "dx          858.0   0.027972  0.164989   0.0   0.0   0.0   0.0   1.0\n",
              "hinselmann  858.0   0.040793  0.197925   0.0   0.0   0.0   0.0   1.0\n",
              "schiller    858.0   0.086247  0.280892   0.0   0.0   0.0   0.0   1.0\n",
              "cytology    858.0   0.051282  0.220701   0.0   0.0   0.0   0.0   1.0\n",
              "biopsy      858.0   0.064103  0.245078   0.0   0.0   0.0   0.0   1.0"
            ],
            "text/html": [
              "\n",
              "  <div id=\"df-9d06b832-9943-4775-83a3-7c94da194172\">\n",
              "    <div class=\"colab-df-container\">\n",
              "      <div>\n",
              "<style scoped>\n",
              "    .dataframe tbody tr th:only-of-type {\n",
              "        vertical-align: middle;\n",
              "    }\n",
              "\n",
              "    .dataframe tbody tr th {\n",
              "        vertical-align: top;\n",
              "    }\n",
              "\n",
              "    .dataframe thead th {\n",
              "        text-align: right;\n",
              "    }\n",
              "</style>\n",
              "<table border=\"1\" class=\"dataframe\">\n",
              "  <thead>\n",
              "    <tr style=\"text-align: right;\">\n",
              "      <th></th>\n",
              "      <th>count</th>\n",
              "      <th>mean</th>\n",
              "      <th>std</th>\n",
              "      <th>min</th>\n",
              "      <th>25%</th>\n",
              "      <th>50%</th>\n",
              "      <th>75%</th>\n",
              "      <th>max</th>\n",
              "    </tr>\n",
              "  </thead>\n",
              "  <tbody>\n",
              "    <tr>\n",
              "      <th>age</th>\n",
              "      <td>858.0</td>\n",
              "      <td>26.820513</td>\n",
              "      <td>8.497948</td>\n",
              "      <td>13.0</td>\n",
              "      <td>20.0</td>\n",
              "      <td>25.0</td>\n",
              "      <td>32.0</td>\n",
              "      <td>84.0</td>\n",
              "    </tr>\n",
              "    <tr>\n",
              "      <th>std_num_dx</th>\n",
              "      <td>858.0</td>\n",
              "      <td>0.087413</td>\n",
              "      <td>0.302545</td>\n",
              "      <td>0.0</td>\n",
              "      <td>0.0</td>\n",
              "      <td>0.0</td>\n",
              "      <td>0.0</td>\n",
              "      <td>3.0</td>\n",
              "    </tr>\n",
              "    <tr>\n",
              "      <th>cancer</th>\n",
              "      <td>858.0</td>\n",
              "      <td>0.020979</td>\n",
              "      <td>0.143398</td>\n",
              "      <td>0.0</td>\n",
              "      <td>0.0</td>\n",
              "      <td>0.0</td>\n",
              "      <td>0.0</td>\n",
              "      <td>1.0</td>\n",
              "    </tr>\n",
              "    <tr>\n",
              "      <th>cin</th>\n",
              "      <td>858.0</td>\n",
              "      <td>0.010490</td>\n",
              "      <td>0.101939</td>\n",
              "      <td>0.0</td>\n",
              "      <td>0.0</td>\n",
              "      <td>0.0</td>\n",
              "      <td>0.0</td>\n",
              "      <td>1.0</td>\n",
              "    </tr>\n",
              "    <tr>\n",
              "      <th>hpv</th>\n",
              "      <td>858.0</td>\n",
              "      <td>0.020979</td>\n",
              "      <td>0.143398</td>\n",
              "      <td>0.0</td>\n",
              "      <td>0.0</td>\n",
              "      <td>0.0</td>\n",
              "      <td>0.0</td>\n",
              "      <td>1.0</td>\n",
              "    </tr>\n",
              "    <tr>\n",
              "      <th>dx</th>\n",
              "      <td>858.0</td>\n",
              "      <td>0.027972</td>\n",
              "      <td>0.164989</td>\n",
              "      <td>0.0</td>\n",
              "      <td>0.0</td>\n",
              "      <td>0.0</td>\n",
              "      <td>0.0</td>\n",
              "      <td>1.0</td>\n",
              "    </tr>\n",
              "    <tr>\n",
              "      <th>hinselmann</th>\n",
              "      <td>858.0</td>\n",
              "      <td>0.040793</td>\n",
              "      <td>0.197925</td>\n",
              "      <td>0.0</td>\n",
              "      <td>0.0</td>\n",
              "      <td>0.0</td>\n",
              "      <td>0.0</td>\n",
              "      <td>1.0</td>\n",
              "    </tr>\n",
              "    <tr>\n",
              "      <th>schiller</th>\n",
              "      <td>858.0</td>\n",
              "      <td>0.086247</td>\n",
              "      <td>0.280892</td>\n",
              "      <td>0.0</td>\n",
              "      <td>0.0</td>\n",
              "      <td>0.0</td>\n",
              "      <td>0.0</td>\n",
              "      <td>1.0</td>\n",
              "    </tr>\n",
              "    <tr>\n",
              "      <th>cytology</th>\n",
              "      <td>858.0</td>\n",
              "      <td>0.051282</td>\n",
              "      <td>0.220701</td>\n",
              "      <td>0.0</td>\n",
              "      <td>0.0</td>\n",
              "      <td>0.0</td>\n",
              "      <td>0.0</td>\n",
              "      <td>1.0</td>\n",
              "    </tr>\n",
              "    <tr>\n",
              "      <th>biopsy</th>\n",
              "      <td>858.0</td>\n",
              "      <td>0.064103</td>\n",
              "      <td>0.245078</td>\n",
              "      <td>0.0</td>\n",
              "      <td>0.0</td>\n",
              "      <td>0.0</td>\n",
              "      <td>0.0</td>\n",
              "      <td>1.0</td>\n",
              "    </tr>\n",
              "  </tbody>\n",
              "</table>\n",
              "</div>\n",
              "      <button class=\"colab-df-convert\" onclick=\"convertToInteractive('df-9d06b832-9943-4775-83a3-7c94da194172')\"\n",
              "              title=\"Convert this dataframe to an interactive table.\"\n",
              "              style=\"display:none;\">\n",
              "        \n",
              "  <svg xmlns=\"http://www.w3.org/2000/svg\" height=\"24px\"viewBox=\"0 0 24 24\"\n",
              "       width=\"24px\">\n",
              "    <path d=\"M0 0h24v24H0V0z\" fill=\"none\"/>\n",
              "    <path d=\"M18.56 5.44l.94 2.06.94-2.06 2.06-.94-2.06-.94-.94-2.06-.94 2.06-2.06.94zm-11 1L8.5 8.5l.94-2.06 2.06-.94-2.06-.94L8.5 2.5l-.94 2.06-2.06.94zm10 10l.94 2.06.94-2.06 2.06-.94-2.06-.94-.94-2.06-.94 2.06-2.06.94z\"/><path d=\"M17.41 7.96l-1.37-1.37c-.4-.4-.92-.59-1.43-.59-.52 0-1.04.2-1.43.59L10.3 9.45l-7.72 7.72c-.78.78-.78 2.05 0 2.83L4 21.41c.39.39.9.59 1.41.59.51 0 1.02-.2 1.41-.59l7.78-7.78 2.81-2.81c.8-.78.8-2.07 0-2.86zM5.41 20L4 18.59l7.72-7.72 1.47 1.35L5.41 20z\"/>\n",
              "  </svg>\n",
              "      </button>\n",
              "      \n",
              "  <style>\n",
              "    .colab-df-container {\n",
              "      display:flex;\n",
              "      flex-wrap:wrap;\n",
              "      gap: 12px;\n",
              "    }\n",
              "\n",
              "    .colab-df-convert {\n",
              "      background-color: #E8F0FE;\n",
              "      border: none;\n",
              "      border-radius: 50%;\n",
              "      cursor: pointer;\n",
              "      display: none;\n",
              "      fill: #1967D2;\n",
              "      height: 32px;\n",
              "      padding: 0 0 0 0;\n",
              "      width: 32px;\n",
              "    }\n",
              "\n",
              "    .colab-df-convert:hover {\n",
              "      background-color: #E2EBFA;\n",
              "      box-shadow: 0px 1px 2px rgba(60, 64, 67, 0.3), 0px 1px 3px 1px rgba(60, 64, 67, 0.15);\n",
              "      fill: #174EA6;\n",
              "    }\n",
              "\n",
              "    [theme=dark] .colab-df-convert {\n",
              "      background-color: #3B4455;\n",
              "      fill: #D2E3FC;\n",
              "    }\n",
              "\n",
              "    [theme=dark] .colab-df-convert:hover {\n",
              "      background-color: #434B5C;\n",
              "      box-shadow: 0px 1px 3px 1px rgba(0, 0, 0, 0.15);\n",
              "      filter: drop-shadow(0px 1px 2px rgba(0, 0, 0, 0.3));\n",
              "      fill: #FFFFFF;\n",
              "    }\n",
              "  </style>\n",
              "\n",
              "      <script>\n",
              "        const buttonEl =\n",
              "          document.querySelector('#df-9d06b832-9943-4775-83a3-7c94da194172 button.colab-df-convert');\n",
              "        buttonEl.style.display =\n",
              "          google.colab.kernel.accessAllowed ? 'block' : 'none';\n",
              "\n",
              "        async function convertToInteractive(key) {\n",
              "          const element = document.querySelector('#df-9d06b832-9943-4775-83a3-7c94da194172');\n",
              "          const dataTable =\n",
              "            await google.colab.kernel.invokeFunction('convertToInteractive',\n",
              "                                                     [key], {});\n",
              "          if (!dataTable) return;\n",
              "\n",
              "          const docLinkHtml = 'Like what you see? Visit the ' +\n",
              "            '<a target=\"_blank\" href=https://colab.research.google.com/notebooks/data_table.ipynb>data table notebook</a>'\n",
              "            + ' to learn more about interactive tables.';\n",
              "          element.innerHTML = '';\n",
              "          dataTable['output_type'] = 'display_data';\n",
              "          await google.colab.output.renderOutput(dataTable, element);\n",
              "          const docLink = document.createElement('div');\n",
              "          docLink.innerHTML = docLinkHtml;\n",
              "          element.appendChild(docLink);\n",
              "        }\n",
              "      </script>\n",
              "    </div>\n",
              "  </div>\n",
              "  "
            ]
          },
          "metadata": {},
          "execution_count": 10
        }
      ]
    },
    {
      "cell_type": "code",
      "source": [
        "#Describing categorical values\n",
        "df.describe(include='all').T"
      ],
      "metadata": {
        "id": "SAaDOcXMtZyO",
        "colab": {
          "base_uri": "https://localhost:8080/",
          "height": 1000
        },
        "outputId": "b4c8ddcc-1d58-417b-8d7b-4e6c8c3a9777"
      },
      "execution_count": null,
      "outputs": [
        {
          "output_type": "execute_result",
          "data": {
            "text/plain": [
              "                    count unique   top freq       mean       std   min   25%  \\\n",
              "age                 858.0    NaN   NaN  NaN  26.820513  8.497948  13.0  20.0   \n",
              "num_sex_partners      858     13   2.0  272        NaN       NaN   NaN   NaN   \n",
              "first_sex             858     22  15.0  163        NaN       NaN   NaN   NaN   \n",
              "num_preg              858     12   1.0  270        NaN       NaN   NaN   NaN   \n",
              "smoker                858      3   0.0  722        NaN       NaN   NaN   NaN   \n",
              "smoke_years           858     31   0.0  722        NaN       NaN   NaN   NaN   \n",
              "pack_years            858     63   0.0  722        NaN       NaN   NaN   NaN   \n",
              "contracept            858      3   1.0  481        NaN       NaN   NaN   NaN   \n",
              "contracept_years      858     41   0.0  269        NaN       NaN   NaN   NaN   \n",
              "iud                   858      3   0.0  658        NaN       NaN   NaN   NaN   \n",
              "iud_years             858     27   0.0  658        NaN       NaN   NaN   NaN   \n",
              "stds                  858      3   0.0  674        NaN       NaN   NaN   NaN   \n",
              "stds_num              858      6   0.0  674        NaN       NaN   NaN   NaN   \n",
              "std_condy             858      3   0.0  709        NaN       NaN   NaN   NaN   \n",
              "std_cerv_condy        858      2   0.0  753        NaN       NaN   NaN   NaN   \n",
              "std_vag_condy         858      3   0.0  749        NaN       NaN   NaN   NaN   \n",
              "std_vulvperi_condy    858      3   0.0  710        NaN       NaN   NaN   NaN   \n",
              "std_syphilis          858      3   0.0  735        NaN       NaN   NaN   NaN   \n",
              "std_pid               858      3   0.0  752        NaN       NaN   NaN   NaN   \n",
              "std_herpes            858      3   0.0  752        NaN       NaN   NaN   NaN   \n",
              "std_molluscum         858      3   0.0  752        NaN       NaN   NaN   NaN   \n",
              "std_aids              858      2   0.0  753        NaN       NaN   NaN   NaN   \n",
              "std_hiv               858      3   0.0  735        NaN       NaN   NaN   NaN   \n",
              "std_hep_b             858      3   0.0  752        NaN       NaN   NaN   NaN   \n",
              "std_hpv               858      3   0.0  751        NaN       NaN   NaN   NaN   \n",
              "std_num_dx          858.0    NaN   NaN  NaN   0.087413  0.302545   0.0   0.0   \n",
              "std_time_first_dx     858     19     ?  787        NaN       NaN   NaN   NaN   \n",
              "std_time_last_dx      858     19     ?  787        NaN       NaN   NaN   NaN   \n",
              "cancer              858.0    NaN   NaN  NaN   0.020979  0.143398   0.0   0.0   \n",
              "cin                 858.0    NaN   NaN  NaN    0.01049  0.101939   0.0   0.0   \n",
              "hpv                 858.0    NaN   NaN  NaN   0.020979  0.143398   0.0   0.0   \n",
              "dx                  858.0    NaN   NaN  NaN   0.027972  0.164989   0.0   0.0   \n",
              "hinselmann          858.0    NaN   NaN  NaN   0.040793  0.197925   0.0   0.0   \n",
              "schiller            858.0    NaN   NaN  NaN   0.086247  0.280892   0.0   0.0   \n",
              "cytology            858.0    NaN   NaN  NaN   0.051282  0.220701   0.0   0.0   \n",
              "biopsy              858.0    NaN   NaN  NaN   0.064103  0.245078   0.0   0.0   \n",
              "\n",
              "                     50%   75%   max  \n",
              "age                 25.0  32.0  84.0  \n",
              "num_sex_partners     NaN   NaN   NaN  \n",
              "first_sex            NaN   NaN   NaN  \n",
              "num_preg             NaN   NaN   NaN  \n",
              "smoker               NaN   NaN   NaN  \n",
              "smoke_years          NaN   NaN   NaN  \n",
              "pack_years           NaN   NaN   NaN  \n",
              "contracept           NaN   NaN   NaN  \n",
              "contracept_years     NaN   NaN   NaN  \n",
              "iud                  NaN   NaN   NaN  \n",
              "iud_years            NaN   NaN   NaN  \n",
              "stds                 NaN   NaN   NaN  \n",
              "stds_num             NaN   NaN   NaN  \n",
              "std_condy            NaN   NaN   NaN  \n",
              "std_cerv_condy       NaN   NaN   NaN  \n",
              "std_vag_condy        NaN   NaN   NaN  \n",
              "std_vulvperi_condy   NaN   NaN   NaN  \n",
              "std_syphilis         NaN   NaN   NaN  \n",
              "std_pid              NaN   NaN   NaN  \n",
              "std_herpes           NaN   NaN   NaN  \n",
              "std_molluscum        NaN   NaN   NaN  \n",
              "std_aids             NaN   NaN   NaN  \n",
              "std_hiv              NaN   NaN   NaN  \n",
              "std_hep_b            NaN   NaN   NaN  \n",
              "std_hpv              NaN   NaN   NaN  \n",
              "std_num_dx           0.0   0.0   3.0  \n",
              "std_time_first_dx    NaN   NaN   NaN  \n",
              "std_time_last_dx     NaN   NaN   NaN  \n",
              "cancer               0.0   0.0   1.0  \n",
              "cin                  0.0   0.0   1.0  \n",
              "hpv                  0.0   0.0   1.0  \n",
              "dx                   0.0   0.0   1.0  \n",
              "hinselmann           0.0   0.0   1.0  \n",
              "schiller             0.0   0.0   1.0  \n",
              "cytology             0.0   0.0   1.0  \n",
              "biopsy               0.0   0.0   1.0  "
            ],
            "text/html": [
              "\n",
              "  <div id=\"df-723942d5-841a-4bfe-83d5-bbdafca93736\">\n",
              "    <div class=\"colab-df-container\">\n",
              "      <div>\n",
              "<style scoped>\n",
              "    .dataframe tbody tr th:only-of-type {\n",
              "        vertical-align: middle;\n",
              "    }\n",
              "\n",
              "    .dataframe tbody tr th {\n",
              "        vertical-align: top;\n",
              "    }\n",
              "\n",
              "    .dataframe thead th {\n",
              "        text-align: right;\n",
              "    }\n",
              "</style>\n",
              "<table border=\"1\" class=\"dataframe\">\n",
              "  <thead>\n",
              "    <tr style=\"text-align: right;\">\n",
              "      <th></th>\n",
              "      <th>count</th>\n",
              "      <th>unique</th>\n",
              "      <th>top</th>\n",
              "      <th>freq</th>\n",
              "      <th>mean</th>\n",
              "      <th>std</th>\n",
              "      <th>min</th>\n",
              "      <th>25%</th>\n",
              "      <th>50%</th>\n",
              "      <th>75%</th>\n",
              "      <th>max</th>\n",
              "    </tr>\n",
              "  </thead>\n",
              "  <tbody>\n",
              "    <tr>\n",
              "      <th>age</th>\n",
              "      <td>858.0</td>\n",
              "      <td>NaN</td>\n",
              "      <td>NaN</td>\n",
              "      <td>NaN</td>\n",
              "      <td>26.820513</td>\n",
              "      <td>8.497948</td>\n",
              "      <td>13.0</td>\n",
              "      <td>20.0</td>\n",
              "      <td>25.0</td>\n",
              "      <td>32.0</td>\n",
              "      <td>84.0</td>\n",
              "    </tr>\n",
              "    <tr>\n",
              "      <th>num_sex_partners</th>\n",
              "      <td>858</td>\n",
              "      <td>13</td>\n",
              "      <td>2.0</td>\n",
              "      <td>272</td>\n",
              "      <td>NaN</td>\n",
              "      <td>NaN</td>\n",
              "      <td>NaN</td>\n",
              "      <td>NaN</td>\n",
              "      <td>NaN</td>\n",
              "      <td>NaN</td>\n",
              "      <td>NaN</td>\n",
              "    </tr>\n",
              "    <tr>\n",
              "      <th>first_sex</th>\n",
              "      <td>858</td>\n",
              "      <td>22</td>\n",
              "      <td>15.0</td>\n",
              "      <td>163</td>\n",
              "      <td>NaN</td>\n",
              "      <td>NaN</td>\n",
              "      <td>NaN</td>\n",
              "      <td>NaN</td>\n",
              "      <td>NaN</td>\n",
              "      <td>NaN</td>\n",
              "      <td>NaN</td>\n",
              "    </tr>\n",
              "    <tr>\n",
              "      <th>num_preg</th>\n",
              "      <td>858</td>\n",
              "      <td>12</td>\n",
              "      <td>1.0</td>\n",
              "      <td>270</td>\n",
              "      <td>NaN</td>\n",
              "      <td>NaN</td>\n",
              "      <td>NaN</td>\n",
              "      <td>NaN</td>\n",
              "      <td>NaN</td>\n",
              "      <td>NaN</td>\n",
              "      <td>NaN</td>\n",
              "    </tr>\n",
              "    <tr>\n",
              "      <th>smoker</th>\n",
              "      <td>858</td>\n",
              "      <td>3</td>\n",
              "      <td>0.0</td>\n",
              "      <td>722</td>\n",
              "      <td>NaN</td>\n",
              "      <td>NaN</td>\n",
              "      <td>NaN</td>\n",
              "      <td>NaN</td>\n",
              "      <td>NaN</td>\n",
              "      <td>NaN</td>\n",
              "      <td>NaN</td>\n",
              "    </tr>\n",
              "    <tr>\n",
              "      <th>smoke_years</th>\n",
              "      <td>858</td>\n",
              "      <td>31</td>\n",
              "      <td>0.0</td>\n",
              "      <td>722</td>\n",
              "      <td>NaN</td>\n",
              "      <td>NaN</td>\n",
              "      <td>NaN</td>\n",
              "      <td>NaN</td>\n",
              "      <td>NaN</td>\n",
              "      <td>NaN</td>\n",
              "      <td>NaN</td>\n",
              "    </tr>\n",
              "    <tr>\n",
              "      <th>pack_years</th>\n",
              "      <td>858</td>\n",
              "      <td>63</td>\n",
              "      <td>0.0</td>\n",
              "      <td>722</td>\n",
              "      <td>NaN</td>\n",
              "      <td>NaN</td>\n",
              "      <td>NaN</td>\n",
              "      <td>NaN</td>\n",
              "      <td>NaN</td>\n",
              "      <td>NaN</td>\n",
              "      <td>NaN</td>\n",
              "    </tr>\n",
              "    <tr>\n",
              "      <th>contracept</th>\n",
              "      <td>858</td>\n",
              "      <td>3</td>\n",
              "      <td>1.0</td>\n",
              "      <td>481</td>\n",
              "      <td>NaN</td>\n",
              "      <td>NaN</td>\n",
              "      <td>NaN</td>\n",
              "      <td>NaN</td>\n",
              "      <td>NaN</td>\n",
              "      <td>NaN</td>\n",
              "      <td>NaN</td>\n",
              "    </tr>\n",
              "    <tr>\n",
              "      <th>contracept_years</th>\n",
              "      <td>858</td>\n",
              "      <td>41</td>\n",
              "      <td>0.0</td>\n",
              "      <td>269</td>\n",
              "      <td>NaN</td>\n",
              "      <td>NaN</td>\n",
              "      <td>NaN</td>\n",
              "      <td>NaN</td>\n",
              "      <td>NaN</td>\n",
              "      <td>NaN</td>\n",
              "      <td>NaN</td>\n",
              "    </tr>\n",
              "    <tr>\n",
              "      <th>iud</th>\n",
              "      <td>858</td>\n",
              "      <td>3</td>\n",
              "      <td>0.0</td>\n",
              "      <td>658</td>\n",
              "      <td>NaN</td>\n",
              "      <td>NaN</td>\n",
              "      <td>NaN</td>\n",
              "      <td>NaN</td>\n",
              "      <td>NaN</td>\n",
              "      <td>NaN</td>\n",
              "      <td>NaN</td>\n",
              "    </tr>\n",
              "    <tr>\n",
              "      <th>iud_years</th>\n",
              "      <td>858</td>\n",
              "      <td>27</td>\n",
              "      <td>0.0</td>\n",
              "      <td>658</td>\n",
              "      <td>NaN</td>\n",
              "      <td>NaN</td>\n",
              "      <td>NaN</td>\n",
              "      <td>NaN</td>\n",
              "      <td>NaN</td>\n",
              "      <td>NaN</td>\n",
              "      <td>NaN</td>\n",
              "    </tr>\n",
              "    <tr>\n",
              "      <th>stds</th>\n",
              "      <td>858</td>\n",
              "      <td>3</td>\n",
              "      <td>0.0</td>\n",
              "      <td>674</td>\n",
              "      <td>NaN</td>\n",
              "      <td>NaN</td>\n",
              "      <td>NaN</td>\n",
              "      <td>NaN</td>\n",
              "      <td>NaN</td>\n",
              "      <td>NaN</td>\n",
              "      <td>NaN</td>\n",
              "    </tr>\n",
              "    <tr>\n",
              "      <th>stds_num</th>\n",
              "      <td>858</td>\n",
              "      <td>6</td>\n",
              "      <td>0.0</td>\n",
              "      <td>674</td>\n",
              "      <td>NaN</td>\n",
              "      <td>NaN</td>\n",
              "      <td>NaN</td>\n",
              "      <td>NaN</td>\n",
              "      <td>NaN</td>\n",
              "      <td>NaN</td>\n",
              "      <td>NaN</td>\n",
              "    </tr>\n",
              "    <tr>\n",
              "      <th>std_condy</th>\n",
              "      <td>858</td>\n",
              "      <td>3</td>\n",
              "      <td>0.0</td>\n",
              "      <td>709</td>\n",
              "      <td>NaN</td>\n",
              "      <td>NaN</td>\n",
              "      <td>NaN</td>\n",
              "      <td>NaN</td>\n",
              "      <td>NaN</td>\n",
              "      <td>NaN</td>\n",
              "      <td>NaN</td>\n",
              "    </tr>\n",
              "    <tr>\n",
              "      <th>std_cerv_condy</th>\n",
              "      <td>858</td>\n",
              "      <td>2</td>\n",
              "      <td>0.0</td>\n",
              "      <td>753</td>\n",
              "      <td>NaN</td>\n",
              "      <td>NaN</td>\n",
              "      <td>NaN</td>\n",
              "      <td>NaN</td>\n",
              "      <td>NaN</td>\n",
              "      <td>NaN</td>\n",
              "      <td>NaN</td>\n",
              "    </tr>\n",
              "    <tr>\n",
              "      <th>std_vag_condy</th>\n",
              "      <td>858</td>\n",
              "      <td>3</td>\n",
              "      <td>0.0</td>\n",
              "      <td>749</td>\n",
              "      <td>NaN</td>\n",
              "      <td>NaN</td>\n",
              "      <td>NaN</td>\n",
              "      <td>NaN</td>\n",
              "      <td>NaN</td>\n",
              "      <td>NaN</td>\n",
              "      <td>NaN</td>\n",
              "    </tr>\n",
              "    <tr>\n",
              "      <th>std_vulvperi_condy</th>\n",
              "      <td>858</td>\n",
              "      <td>3</td>\n",
              "      <td>0.0</td>\n",
              "      <td>710</td>\n",
              "      <td>NaN</td>\n",
              "      <td>NaN</td>\n",
              "      <td>NaN</td>\n",
              "      <td>NaN</td>\n",
              "      <td>NaN</td>\n",
              "      <td>NaN</td>\n",
              "      <td>NaN</td>\n",
              "    </tr>\n",
              "    <tr>\n",
              "      <th>std_syphilis</th>\n",
              "      <td>858</td>\n",
              "      <td>3</td>\n",
              "      <td>0.0</td>\n",
              "      <td>735</td>\n",
              "      <td>NaN</td>\n",
              "      <td>NaN</td>\n",
              "      <td>NaN</td>\n",
              "      <td>NaN</td>\n",
              "      <td>NaN</td>\n",
              "      <td>NaN</td>\n",
              "      <td>NaN</td>\n",
              "    </tr>\n",
              "    <tr>\n",
              "      <th>std_pid</th>\n",
              "      <td>858</td>\n",
              "      <td>3</td>\n",
              "      <td>0.0</td>\n",
              "      <td>752</td>\n",
              "      <td>NaN</td>\n",
              "      <td>NaN</td>\n",
              "      <td>NaN</td>\n",
              "      <td>NaN</td>\n",
              "      <td>NaN</td>\n",
              "      <td>NaN</td>\n",
              "      <td>NaN</td>\n",
              "    </tr>\n",
              "    <tr>\n",
              "      <th>std_herpes</th>\n",
              "      <td>858</td>\n",
              "      <td>3</td>\n",
              "      <td>0.0</td>\n",
              "      <td>752</td>\n",
              "      <td>NaN</td>\n",
              "      <td>NaN</td>\n",
              "      <td>NaN</td>\n",
              "      <td>NaN</td>\n",
              "      <td>NaN</td>\n",
              "      <td>NaN</td>\n",
              "      <td>NaN</td>\n",
              "    </tr>\n",
              "    <tr>\n",
              "      <th>std_molluscum</th>\n",
              "      <td>858</td>\n",
              "      <td>3</td>\n",
              "      <td>0.0</td>\n",
              "      <td>752</td>\n",
              "      <td>NaN</td>\n",
              "      <td>NaN</td>\n",
              "      <td>NaN</td>\n",
              "      <td>NaN</td>\n",
              "      <td>NaN</td>\n",
              "      <td>NaN</td>\n",
              "      <td>NaN</td>\n",
              "    </tr>\n",
              "    <tr>\n",
              "      <th>std_aids</th>\n",
              "      <td>858</td>\n",
              "      <td>2</td>\n",
              "      <td>0.0</td>\n",
              "      <td>753</td>\n",
              "      <td>NaN</td>\n",
              "      <td>NaN</td>\n",
              "      <td>NaN</td>\n",
              "      <td>NaN</td>\n",
              "      <td>NaN</td>\n",
              "      <td>NaN</td>\n",
              "      <td>NaN</td>\n",
              "    </tr>\n",
              "    <tr>\n",
              "      <th>std_hiv</th>\n",
              "      <td>858</td>\n",
              "      <td>3</td>\n",
              "      <td>0.0</td>\n",
              "      <td>735</td>\n",
              "      <td>NaN</td>\n",
              "      <td>NaN</td>\n",
              "      <td>NaN</td>\n",
              "      <td>NaN</td>\n",
              "      <td>NaN</td>\n",
              "      <td>NaN</td>\n",
              "      <td>NaN</td>\n",
              "    </tr>\n",
              "    <tr>\n",
              "      <th>std_hep_b</th>\n",
              "      <td>858</td>\n",
              "      <td>3</td>\n",
              "      <td>0.0</td>\n",
              "      <td>752</td>\n",
              "      <td>NaN</td>\n",
              "      <td>NaN</td>\n",
              "      <td>NaN</td>\n",
              "      <td>NaN</td>\n",
              "      <td>NaN</td>\n",
              "      <td>NaN</td>\n",
              "      <td>NaN</td>\n",
              "    </tr>\n",
              "    <tr>\n",
              "      <th>std_hpv</th>\n",
              "      <td>858</td>\n",
              "      <td>3</td>\n",
              "      <td>0.0</td>\n",
              "      <td>751</td>\n",
              "      <td>NaN</td>\n",
              "      <td>NaN</td>\n",
              "      <td>NaN</td>\n",
              "      <td>NaN</td>\n",
              "      <td>NaN</td>\n",
              "      <td>NaN</td>\n",
              "      <td>NaN</td>\n",
              "    </tr>\n",
              "    <tr>\n",
              "      <th>std_num_dx</th>\n",
              "      <td>858.0</td>\n",
              "      <td>NaN</td>\n",
              "      <td>NaN</td>\n",
              "      <td>NaN</td>\n",
              "      <td>0.087413</td>\n",
              "      <td>0.302545</td>\n",
              "      <td>0.0</td>\n",
              "      <td>0.0</td>\n",
              "      <td>0.0</td>\n",
              "      <td>0.0</td>\n",
              "      <td>3.0</td>\n",
              "    </tr>\n",
              "    <tr>\n",
              "      <th>std_time_first_dx</th>\n",
              "      <td>858</td>\n",
              "      <td>19</td>\n",
              "      <td>?</td>\n",
              "      <td>787</td>\n",
              "      <td>NaN</td>\n",
              "      <td>NaN</td>\n",
              "      <td>NaN</td>\n",
              "      <td>NaN</td>\n",
              "      <td>NaN</td>\n",
              "      <td>NaN</td>\n",
              "      <td>NaN</td>\n",
              "    </tr>\n",
              "    <tr>\n",
              "      <th>std_time_last_dx</th>\n",
              "      <td>858</td>\n",
              "      <td>19</td>\n",
              "      <td>?</td>\n",
              "      <td>787</td>\n",
              "      <td>NaN</td>\n",
              "      <td>NaN</td>\n",
              "      <td>NaN</td>\n",
              "      <td>NaN</td>\n",
              "      <td>NaN</td>\n",
              "      <td>NaN</td>\n",
              "      <td>NaN</td>\n",
              "    </tr>\n",
              "    <tr>\n",
              "      <th>cancer</th>\n",
              "      <td>858.0</td>\n",
              "      <td>NaN</td>\n",
              "      <td>NaN</td>\n",
              "      <td>NaN</td>\n",
              "      <td>0.020979</td>\n",
              "      <td>0.143398</td>\n",
              "      <td>0.0</td>\n",
              "      <td>0.0</td>\n",
              "      <td>0.0</td>\n",
              "      <td>0.0</td>\n",
              "      <td>1.0</td>\n",
              "    </tr>\n",
              "    <tr>\n",
              "      <th>cin</th>\n",
              "      <td>858.0</td>\n",
              "      <td>NaN</td>\n",
              "      <td>NaN</td>\n",
              "      <td>NaN</td>\n",
              "      <td>0.01049</td>\n",
              "      <td>0.101939</td>\n",
              "      <td>0.0</td>\n",
              "      <td>0.0</td>\n",
              "      <td>0.0</td>\n",
              "      <td>0.0</td>\n",
              "      <td>1.0</td>\n",
              "    </tr>\n",
              "    <tr>\n",
              "      <th>hpv</th>\n",
              "      <td>858.0</td>\n",
              "      <td>NaN</td>\n",
              "      <td>NaN</td>\n",
              "      <td>NaN</td>\n",
              "      <td>0.020979</td>\n",
              "      <td>0.143398</td>\n",
              "      <td>0.0</td>\n",
              "      <td>0.0</td>\n",
              "      <td>0.0</td>\n",
              "      <td>0.0</td>\n",
              "      <td>1.0</td>\n",
              "    </tr>\n",
              "    <tr>\n",
              "      <th>dx</th>\n",
              "      <td>858.0</td>\n",
              "      <td>NaN</td>\n",
              "      <td>NaN</td>\n",
              "      <td>NaN</td>\n",
              "      <td>0.027972</td>\n",
              "      <td>0.164989</td>\n",
              "      <td>0.0</td>\n",
              "      <td>0.0</td>\n",
              "      <td>0.0</td>\n",
              "      <td>0.0</td>\n",
              "      <td>1.0</td>\n",
              "    </tr>\n",
              "    <tr>\n",
              "      <th>hinselmann</th>\n",
              "      <td>858.0</td>\n",
              "      <td>NaN</td>\n",
              "      <td>NaN</td>\n",
              "      <td>NaN</td>\n",
              "      <td>0.040793</td>\n",
              "      <td>0.197925</td>\n",
              "      <td>0.0</td>\n",
              "      <td>0.0</td>\n",
              "      <td>0.0</td>\n",
              "      <td>0.0</td>\n",
              "      <td>1.0</td>\n",
              "    </tr>\n",
              "    <tr>\n",
              "      <th>schiller</th>\n",
              "      <td>858.0</td>\n",
              "      <td>NaN</td>\n",
              "      <td>NaN</td>\n",
              "      <td>NaN</td>\n",
              "      <td>0.086247</td>\n",
              "      <td>0.280892</td>\n",
              "      <td>0.0</td>\n",
              "      <td>0.0</td>\n",
              "      <td>0.0</td>\n",
              "      <td>0.0</td>\n",
              "      <td>1.0</td>\n",
              "    </tr>\n",
              "    <tr>\n",
              "      <th>cytology</th>\n",
              "      <td>858.0</td>\n",
              "      <td>NaN</td>\n",
              "      <td>NaN</td>\n",
              "      <td>NaN</td>\n",
              "      <td>0.051282</td>\n",
              "      <td>0.220701</td>\n",
              "      <td>0.0</td>\n",
              "      <td>0.0</td>\n",
              "      <td>0.0</td>\n",
              "      <td>0.0</td>\n",
              "      <td>1.0</td>\n",
              "    </tr>\n",
              "    <tr>\n",
              "      <th>biopsy</th>\n",
              "      <td>858.0</td>\n",
              "      <td>NaN</td>\n",
              "      <td>NaN</td>\n",
              "      <td>NaN</td>\n",
              "      <td>0.064103</td>\n",
              "      <td>0.245078</td>\n",
              "      <td>0.0</td>\n",
              "      <td>0.0</td>\n",
              "      <td>0.0</td>\n",
              "      <td>0.0</td>\n",
              "      <td>1.0</td>\n",
              "    </tr>\n",
              "  </tbody>\n",
              "</table>\n",
              "</div>\n",
              "      <button class=\"colab-df-convert\" onclick=\"convertToInteractive('df-723942d5-841a-4bfe-83d5-bbdafca93736')\"\n",
              "              title=\"Convert this dataframe to an interactive table.\"\n",
              "              style=\"display:none;\">\n",
              "        \n",
              "  <svg xmlns=\"http://www.w3.org/2000/svg\" height=\"24px\"viewBox=\"0 0 24 24\"\n",
              "       width=\"24px\">\n",
              "    <path d=\"M0 0h24v24H0V0z\" fill=\"none\"/>\n",
              "    <path d=\"M18.56 5.44l.94 2.06.94-2.06 2.06-.94-2.06-.94-.94-2.06-.94 2.06-2.06.94zm-11 1L8.5 8.5l.94-2.06 2.06-.94-2.06-.94L8.5 2.5l-.94 2.06-2.06.94zm10 10l.94 2.06.94-2.06 2.06-.94-2.06-.94-.94-2.06-.94 2.06-2.06.94z\"/><path d=\"M17.41 7.96l-1.37-1.37c-.4-.4-.92-.59-1.43-.59-.52 0-1.04.2-1.43.59L10.3 9.45l-7.72 7.72c-.78.78-.78 2.05 0 2.83L4 21.41c.39.39.9.59 1.41.59.51 0 1.02-.2 1.41-.59l7.78-7.78 2.81-2.81c.8-.78.8-2.07 0-2.86zM5.41 20L4 18.59l7.72-7.72 1.47 1.35L5.41 20z\"/>\n",
              "  </svg>\n",
              "      </button>\n",
              "      \n",
              "  <style>\n",
              "    .colab-df-container {\n",
              "      display:flex;\n",
              "      flex-wrap:wrap;\n",
              "      gap: 12px;\n",
              "    }\n",
              "\n",
              "    .colab-df-convert {\n",
              "      background-color: #E8F0FE;\n",
              "      border: none;\n",
              "      border-radius: 50%;\n",
              "      cursor: pointer;\n",
              "      display: none;\n",
              "      fill: #1967D2;\n",
              "      height: 32px;\n",
              "      padding: 0 0 0 0;\n",
              "      width: 32px;\n",
              "    }\n",
              "\n",
              "    .colab-df-convert:hover {\n",
              "      background-color: #E2EBFA;\n",
              "      box-shadow: 0px 1px 2px rgba(60, 64, 67, 0.3), 0px 1px 3px 1px rgba(60, 64, 67, 0.15);\n",
              "      fill: #174EA6;\n",
              "    }\n",
              "\n",
              "    [theme=dark] .colab-df-convert {\n",
              "      background-color: #3B4455;\n",
              "      fill: #D2E3FC;\n",
              "    }\n",
              "\n",
              "    [theme=dark] .colab-df-convert:hover {\n",
              "      background-color: #434B5C;\n",
              "      box-shadow: 0px 1px 3px 1px rgba(0, 0, 0, 0.15);\n",
              "      filter: drop-shadow(0px 1px 2px rgba(0, 0, 0, 0.3));\n",
              "      fill: #FFFFFF;\n",
              "    }\n",
              "  </style>\n",
              "\n",
              "      <script>\n",
              "        const buttonEl =\n",
              "          document.querySelector('#df-723942d5-841a-4bfe-83d5-bbdafca93736 button.colab-df-convert');\n",
              "        buttonEl.style.display =\n",
              "          google.colab.kernel.accessAllowed ? 'block' : 'none';\n",
              "\n",
              "        async function convertToInteractive(key) {\n",
              "          const element = document.querySelector('#df-723942d5-841a-4bfe-83d5-bbdafca93736');\n",
              "          const dataTable =\n",
              "            await google.colab.kernel.invokeFunction('convertToInteractive',\n",
              "                                                     [key], {});\n",
              "          if (!dataTable) return;\n",
              "\n",
              "          const docLinkHtml = 'Like what you see? Visit the ' +\n",
              "            '<a target=\"_blank\" href=https://colab.research.google.com/notebooks/data_table.ipynb>data table notebook</a>'\n",
              "            + ' to learn more about interactive tables.';\n",
              "          element.innerHTML = '';\n",
              "          dataTable['output_type'] = 'display_data';\n",
              "          await google.colab.output.renderOutput(dataTable, element);\n",
              "          const docLink = document.createElement('div');\n",
              "          docLink.innerHTML = docLinkHtml;\n",
              "          element.appendChild(docLink);\n",
              "        }\n",
              "      </script>\n",
              "    </div>\n",
              "  </div>\n",
              "  "
            ]
          },
          "metadata": {},
          "execution_count": 11
        }
      ]
    },
    {
      "cell_type": "code",
      "source": [
        "#Correlations\n",
        "df.corr()"
      ],
      "metadata": {
        "id": "kmhvbrPRtZ1W",
        "colab": {
          "base_uri": "https://localhost:8080/",
          "height": 427
        },
        "outputId": "eeb41dc3-4e59-40d0-aa39-35e3d6b3f7dc"
      },
      "execution_count": null,
      "outputs": [
        {
          "output_type": "execute_result",
          "data": {
            "text/plain": [
              "                 age  std_num_dx    cancer       cin       hpv        dx  \\\n",
              "age         1.000000   -0.001606  0.110340  0.061443  0.101722  0.092635   \n",
              "std_num_dx -0.001606    1.000000 -0.015423  0.008070 -0.015423 -0.002289   \n",
              "cancer      0.110340   -0.015423  1.000000 -0.015072  0.886508  0.665647   \n",
              "cin         0.061443    0.008070 -0.015072  1.000000 -0.015072  0.606939   \n",
              "hpv         0.101722   -0.015423  0.886508 -0.015072  1.000000  0.616327   \n",
              "dx          0.092635   -0.002289  0.665647  0.606939  0.616327  1.000000   \n",
              "hinselmann -0.003967    0.076787  0.134264 -0.021233  0.134264  0.072215   \n",
              "schiller    0.103283    0.130873  0.157812  0.009119  0.157812  0.098952   \n",
              "cytology   -0.016862    0.055114  0.113446 -0.023938  0.113446  0.088740   \n",
              "biopsy      0.055956    0.097449  0.160905  0.113172  0.160905  0.157607   \n",
              "\n",
              "            hinselmann  schiller  cytology    biopsy  \n",
              "age          -0.003967  0.103283 -0.016862  0.055956  \n",
              "std_num_dx    0.076787  0.130873  0.055114  0.097449  \n",
              "cancer        0.134264  0.157812  0.113446  0.160905  \n",
              "cin          -0.021233  0.009119 -0.023938  0.113172  \n",
              "hpv           0.134264  0.157812  0.113446  0.160905  \n",
              "dx            0.072215  0.098952  0.088740  0.157607  \n",
              "hinselmann    1.000000  0.650249  0.192467  0.547417  \n",
              "schiller      0.650249  1.000000  0.361486  0.733204  \n",
              "cytology      0.192467  0.361486  1.000000  0.327466  \n",
              "biopsy        0.547417  0.733204  0.327466  1.000000  "
            ],
            "text/html": [
              "\n",
              "  <div id=\"df-b458f061-f115-4daf-831f-5b3f106c4cf1\">\n",
              "    <div class=\"colab-df-container\">\n",
              "      <div>\n",
              "<style scoped>\n",
              "    .dataframe tbody tr th:only-of-type {\n",
              "        vertical-align: middle;\n",
              "    }\n",
              "\n",
              "    .dataframe tbody tr th {\n",
              "        vertical-align: top;\n",
              "    }\n",
              "\n",
              "    .dataframe thead th {\n",
              "        text-align: right;\n",
              "    }\n",
              "</style>\n",
              "<table border=\"1\" class=\"dataframe\">\n",
              "  <thead>\n",
              "    <tr style=\"text-align: right;\">\n",
              "      <th></th>\n",
              "      <th>age</th>\n",
              "      <th>std_num_dx</th>\n",
              "      <th>cancer</th>\n",
              "      <th>cin</th>\n",
              "      <th>hpv</th>\n",
              "      <th>dx</th>\n",
              "      <th>hinselmann</th>\n",
              "      <th>schiller</th>\n",
              "      <th>cytology</th>\n",
              "      <th>biopsy</th>\n",
              "    </tr>\n",
              "  </thead>\n",
              "  <tbody>\n",
              "    <tr>\n",
              "      <th>age</th>\n",
              "      <td>1.000000</td>\n",
              "      <td>-0.001606</td>\n",
              "      <td>0.110340</td>\n",
              "      <td>0.061443</td>\n",
              "      <td>0.101722</td>\n",
              "      <td>0.092635</td>\n",
              "      <td>-0.003967</td>\n",
              "      <td>0.103283</td>\n",
              "      <td>-0.016862</td>\n",
              "      <td>0.055956</td>\n",
              "    </tr>\n",
              "    <tr>\n",
              "      <th>std_num_dx</th>\n",
              "      <td>-0.001606</td>\n",
              "      <td>1.000000</td>\n",
              "      <td>-0.015423</td>\n",
              "      <td>0.008070</td>\n",
              "      <td>-0.015423</td>\n",
              "      <td>-0.002289</td>\n",
              "      <td>0.076787</td>\n",
              "      <td>0.130873</td>\n",
              "      <td>0.055114</td>\n",
              "      <td>0.097449</td>\n",
              "    </tr>\n",
              "    <tr>\n",
              "      <th>cancer</th>\n",
              "      <td>0.110340</td>\n",
              "      <td>-0.015423</td>\n",
              "      <td>1.000000</td>\n",
              "      <td>-0.015072</td>\n",
              "      <td>0.886508</td>\n",
              "      <td>0.665647</td>\n",
              "      <td>0.134264</td>\n",
              "      <td>0.157812</td>\n",
              "      <td>0.113446</td>\n",
              "      <td>0.160905</td>\n",
              "    </tr>\n",
              "    <tr>\n",
              "      <th>cin</th>\n",
              "      <td>0.061443</td>\n",
              "      <td>0.008070</td>\n",
              "      <td>-0.015072</td>\n",
              "      <td>1.000000</td>\n",
              "      <td>-0.015072</td>\n",
              "      <td>0.606939</td>\n",
              "      <td>-0.021233</td>\n",
              "      <td>0.009119</td>\n",
              "      <td>-0.023938</td>\n",
              "      <td>0.113172</td>\n",
              "    </tr>\n",
              "    <tr>\n",
              "      <th>hpv</th>\n",
              "      <td>0.101722</td>\n",
              "      <td>-0.015423</td>\n",
              "      <td>0.886508</td>\n",
              "      <td>-0.015072</td>\n",
              "      <td>1.000000</td>\n",
              "      <td>0.616327</td>\n",
              "      <td>0.134264</td>\n",
              "      <td>0.157812</td>\n",
              "      <td>0.113446</td>\n",
              "      <td>0.160905</td>\n",
              "    </tr>\n",
              "    <tr>\n",
              "      <th>dx</th>\n",
              "      <td>0.092635</td>\n",
              "      <td>-0.002289</td>\n",
              "      <td>0.665647</td>\n",
              "      <td>0.606939</td>\n",
              "      <td>0.616327</td>\n",
              "      <td>1.000000</td>\n",
              "      <td>0.072215</td>\n",
              "      <td>0.098952</td>\n",
              "      <td>0.088740</td>\n",
              "      <td>0.157607</td>\n",
              "    </tr>\n",
              "    <tr>\n",
              "      <th>hinselmann</th>\n",
              "      <td>-0.003967</td>\n",
              "      <td>0.076787</td>\n",
              "      <td>0.134264</td>\n",
              "      <td>-0.021233</td>\n",
              "      <td>0.134264</td>\n",
              "      <td>0.072215</td>\n",
              "      <td>1.000000</td>\n",
              "      <td>0.650249</td>\n",
              "      <td>0.192467</td>\n",
              "      <td>0.547417</td>\n",
              "    </tr>\n",
              "    <tr>\n",
              "      <th>schiller</th>\n",
              "      <td>0.103283</td>\n",
              "      <td>0.130873</td>\n",
              "      <td>0.157812</td>\n",
              "      <td>0.009119</td>\n",
              "      <td>0.157812</td>\n",
              "      <td>0.098952</td>\n",
              "      <td>0.650249</td>\n",
              "      <td>1.000000</td>\n",
              "      <td>0.361486</td>\n",
              "      <td>0.733204</td>\n",
              "    </tr>\n",
              "    <tr>\n",
              "      <th>cytology</th>\n",
              "      <td>-0.016862</td>\n",
              "      <td>0.055114</td>\n",
              "      <td>0.113446</td>\n",
              "      <td>-0.023938</td>\n",
              "      <td>0.113446</td>\n",
              "      <td>0.088740</td>\n",
              "      <td>0.192467</td>\n",
              "      <td>0.361486</td>\n",
              "      <td>1.000000</td>\n",
              "      <td>0.327466</td>\n",
              "    </tr>\n",
              "    <tr>\n",
              "      <th>biopsy</th>\n",
              "      <td>0.055956</td>\n",
              "      <td>0.097449</td>\n",
              "      <td>0.160905</td>\n",
              "      <td>0.113172</td>\n",
              "      <td>0.160905</td>\n",
              "      <td>0.157607</td>\n",
              "      <td>0.547417</td>\n",
              "      <td>0.733204</td>\n",
              "      <td>0.327466</td>\n",
              "      <td>1.000000</td>\n",
              "    </tr>\n",
              "  </tbody>\n",
              "</table>\n",
              "</div>\n",
              "      <button class=\"colab-df-convert\" onclick=\"convertToInteractive('df-b458f061-f115-4daf-831f-5b3f106c4cf1')\"\n",
              "              title=\"Convert this dataframe to an interactive table.\"\n",
              "              style=\"display:none;\">\n",
              "        \n",
              "  <svg xmlns=\"http://www.w3.org/2000/svg\" height=\"24px\"viewBox=\"0 0 24 24\"\n",
              "       width=\"24px\">\n",
              "    <path d=\"M0 0h24v24H0V0z\" fill=\"none\"/>\n",
              "    <path d=\"M18.56 5.44l.94 2.06.94-2.06 2.06-.94-2.06-.94-.94-2.06-.94 2.06-2.06.94zm-11 1L8.5 8.5l.94-2.06 2.06-.94-2.06-.94L8.5 2.5l-.94 2.06-2.06.94zm10 10l.94 2.06.94-2.06 2.06-.94-2.06-.94-.94-2.06-.94 2.06-2.06.94z\"/><path d=\"M17.41 7.96l-1.37-1.37c-.4-.4-.92-.59-1.43-.59-.52 0-1.04.2-1.43.59L10.3 9.45l-7.72 7.72c-.78.78-.78 2.05 0 2.83L4 21.41c.39.39.9.59 1.41.59.51 0 1.02-.2 1.41-.59l7.78-7.78 2.81-2.81c.8-.78.8-2.07 0-2.86zM5.41 20L4 18.59l7.72-7.72 1.47 1.35L5.41 20z\"/>\n",
              "  </svg>\n",
              "      </button>\n",
              "      \n",
              "  <style>\n",
              "    .colab-df-container {\n",
              "      display:flex;\n",
              "      flex-wrap:wrap;\n",
              "      gap: 12px;\n",
              "    }\n",
              "\n",
              "    .colab-df-convert {\n",
              "      background-color: #E8F0FE;\n",
              "      border: none;\n",
              "      border-radius: 50%;\n",
              "      cursor: pointer;\n",
              "      display: none;\n",
              "      fill: #1967D2;\n",
              "      height: 32px;\n",
              "      padding: 0 0 0 0;\n",
              "      width: 32px;\n",
              "    }\n",
              "\n",
              "    .colab-df-convert:hover {\n",
              "      background-color: #E2EBFA;\n",
              "      box-shadow: 0px 1px 2px rgba(60, 64, 67, 0.3), 0px 1px 3px 1px rgba(60, 64, 67, 0.15);\n",
              "      fill: #174EA6;\n",
              "    }\n",
              "\n",
              "    [theme=dark] .colab-df-convert {\n",
              "      background-color: #3B4455;\n",
              "      fill: #D2E3FC;\n",
              "    }\n",
              "\n",
              "    [theme=dark] .colab-df-convert:hover {\n",
              "      background-color: #434B5C;\n",
              "      box-shadow: 0px 1px 3px 1px rgba(0, 0, 0, 0.15);\n",
              "      filter: drop-shadow(0px 1px 2px rgba(0, 0, 0, 0.3));\n",
              "      fill: #FFFFFF;\n",
              "    }\n",
              "  </style>\n",
              "\n",
              "      <script>\n",
              "        const buttonEl =\n",
              "          document.querySelector('#df-b458f061-f115-4daf-831f-5b3f106c4cf1 button.colab-df-convert');\n",
              "        buttonEl.style.display =\n",
              "          google.colab.kernel.accessAllowed ? 'block' : 'none';\n",
              "\n",
              "        async function convertToInteractive(key) {\n",
              "          const element = document.querySelector('#df-b458f061-f115-4daf-831f-5b3f106c4cf1');\n",
              "          const dataTable =\n",
              "            await google.colab.kernel.invokeFunction('convertToInteractive',\n",
              "                                                     [key], {});\n",
              "          if (!dataTable) return;\n",
              "\n",
              "          const docLinkHtml = 'Like what you see? Visit the ' +\n",
              "            '<a target=\"_blank\" href=https://colab.research.google.com/notebooks/data_table.ipynb>data table notebook</a>'\n",
              "            + ' to learn more about interactive tables.';\n",
              "          element.innerHTML = '';\n",
              "          dataTable['output_type'] = 'display_data';\n",
              "          await google.colab.output.renderOutput(dataTable, element);\n",
              "          const docLink = document.createElement('div');\n",
              "          docLink.innerHTML = docLinkHtml;\n",
              "          element.appendChild(docLink);\n",
              "        }\n",
              "      </script>\n",
              "    </div>\n",
              "  </div>\n",
              "  "
            ]
          },
          "metadata": {},
          "execution_count": 12
        }
      ]
    },
    {
      "cell_type": "code",
      "source": [
        "#Looks like some cells have \"?\" which is NA\n",
        "#We have to convert these to NAs\n",
        "df = df.replace('?', np.nan)"
      ],
      "metadata": {
        "id": "XMo6sMEFtonr"
      },
      "execution_count": null,
      "outputs": []
    },
    {
      "cell_type": "code",
      "source": [
        "#Looking at missing values\n",
        "df.isnull().sum()"
      ],
      "metadata": {
        "id": "fdHqmleEtoqi",
        "colab": {
          "base_uri": "https://localhost:8080/"
        },
        "outputId": "77144e94-a258-41b6-870f-350074b7f3de"
      },
      "execution_count": null,
      "outputs": [
        {
          "output_type": "execute_result",
          "data": {
            "text/plain": [
              "age                     0\n",
              "num_sex_partners       26\n",
              "first_sex               7\n",
              "num_preg               56\n",
              "smoker                 13\n",
              "smoke_years            13\n",
              "pack_years             13\n",
              "contracept            108\n",
              "contracept_years      108\n",
              "iud                   117\n",
              "iud_years             117\n",
              "stds                  105\n",
              "stds_num              105\n",
              "std_condy             105\n",
              "std_cerv_condy        105\n",
              "std_vag_condy         105\n",
              "std_vulvperi_condy    105\n",
              "std_syphilis          105\n",
              "std_pid               105\n",
              "std_herpes            105\n",
              "std_molluscum         105\n",
              "std_aids              105\n",
              "std_hiv               105\n",
              "std_hep_b             105\n",
              "std_hpv               105\n",
              "std_num_dx              0\n",
              "std_time_first_dx     787\n",
              "std_time_last_dx      787\n",
              "cancer                  0\n",
              "cin                     0\n",
              "hpv                     0\n",
              "dx                      0\n",
              "hinselmann              0\n",
              "schiller                0\n",
              "cytology                0\n",
              "biopsy                  0\n",
              "dtype: int64"
            ]
          },
          "metadata": {},
          "execution_count": 14
        }
      ]
    },
    {
      "cell_type": "code",
      "source": [
        "#Visualize missing values\n",
        "msno.matrix(df)"
      ],
      "metadata": {
        "id": "YcS8XzO5totp",
        "colab": {
          "base_uri": "https://localhost:8080/",
          "height": 340
        },
        "outputId": "c433efce-6425-469e-8062-a6a865b2487f"
      },
      "execution_count": null,
      "outputs": [
        {
          "output_type": "execute_result",
          "data": {
            "text/plain": [
              "<matplotlib.axes._subplots.AxesSubplot at 0x7ff300c85b50>"
            ]
          },
          "metadata": {},
          "execution_count": 15
        },
        {
          "output_type": "display_data",
          "data": {
            "text/plain": [
              "<Figure size 1800x720 with 2 Axes>"
            ],
            "image/png": "[encoded data removed]"
          },
          "metadata": {
            "needs_background": "light"
          }
        }
      ]
    },
    {
      "cell_type": "code",
      "source": [
        "#Two columns have 787 missing values, let's drop those\n",
        "df.drop(['std_time_first_dx', 'std_time_last_dx'], axis=1, inplace = True)"
      ],
      "metadata": {
        "id": "GRisaLWBtowR"
      },
      "execution_count": null,
      "outputs": []
    },
    {
      "cell_type": "code",
      "source": [
        "# fill pack_years and stds null vals with 0, not median\n",
        "df[['pack_years','stds']] = df[['pack_years','stds']].fillna(0)\n",
        "\n",
        "# fill other null values with median\n",
        "df = df.fillna(df.median())\n",
        "df.isnull().sum()\n",
        "df.to_csv(\"cleaned.csv\")"
      ],
      "metadata": {
        "id": "kWK3PCoCtozJ"
      },
      "execution_count": null,
      "outputs": []
    },
    {
      "cell_type": "code",
      "source": [
        "#Create some visualizations\n",
        "sns.set(style='whitegrid', palette=\"deep\", font_scale=1.1, rc={\"figure.figsize\": [8, 5]})\n",
        "sns.distplot(\n",
        "    df['age'], norm_hist=False, kde=False, bins=20, hist_kws={\"alpha\": 1}\n",
        ").set(xlabel='Age', ylabel='Count');"
      ],
      "metadata": {
        "id": "UzaccrYHt1w0",
        "colab": {
          "base_uri": "https://localhost:8080/",
          "height": 380
        },
        "outputId": "051608e5-ca78-4245-d234-0f3a64ce0c41"
      },
      "execution_count": null,
      "outputs": [
        {
          "output_type": "stream",
          "name": "stderr",
          "text": [
            "`distplot` is a deprecated function and will be removed in a future version. Please adapt your code to use either `displot` (a figure-level function with similar flexibility) or `histplot` (an axes-level function for histograms).\n"
          ]
        },
        {
          "output_type": "display_data",
          "data": {
            "text/plain": [
              "<Figure size 576x360 with 1 Axes>"
            ],
            "image/png": "[encoded data removed]"
          },
          "metadata": {}
        }
      ]
    },
    {
      "cell_type": "code",
      "source": [
        "print(\"The minimum age is:\", df['age'].min())\n",
        "print(\"Old df shape\", df.shape)\n",
        "#The minimum age is 13, we should get rid of anyone who is below 21\n",
        "\n",
        "df = df.loc[df['age'] >= 21]\n",
        "print(\"New df shape\", df.shape)"
      ],
      "metadata": {
        "id": "yNzQjG-st1z8",
        "colab": {
          "base_uri": "https://localhost:8080/"
        },
        "outputId": "f95954c9-a12b-402d-c2d2-d136b8cec008"
      },
      "execution_count": null,
      "outputs": [
        {
          "output_type": "stream",
          "name": "stdout",
          "text": [
            "The minimum age is: 13\n",
            "Old df shape (858, 34)\n",
            "New df shape (634, 34)\n"
          ]
        }
      ]
    },
    {
      "cell_type": "code",
      "source": [
        "df.value_counts('cancer')\n",
        "#We have 617 non cancer and 17 cancer "
      ],
      "metadata": {
        "id": "p_9MhAPTt13F",
        "colab": {
          "base_uri": "https://localhost:8080/"
        },
        "outputId": "f4a60680-98c5-4e36-8347-707f22abcc3e"
      },
      "execution_count": null,
      "outputs": [
        {
          "output_type": "execute_result",
          "data": {
            "text/plain": [
              "cancer\n",
              "0    617\n",
              "1     17\n",
              "dtype: int64"
            ]
          },
          "metadata": {},
          "execution_count": 19
        }
      ]
    },
    {
      "cell_type": "code",
      "source": [
        "#Some more visualizations\n",
        "df['stds_num'] = df['stds_num'].astype(np.float16)\n",
        "\n",
        "sns.lmplot(x = 'age', y = 'stds_num', data = df, fit_reg=False, hue = 'cancer')\n"
      ],
      "metadata": {
        "id": "OYLMRSNet5Ub",
        "colab": {
          "base_uri": "https://localhost:8080/",
          "height": 489
        },
        "outputId": "5e547750-e888-4cd8-bb13-dc3bbe0fa084"
      },
      "execution_count": null,
      "outputs": [
        {
          "output_type": "stream",
          "name": "stderr",
          "text": [
            "\n",
            "A value is trying to be set on a copy of a slice from a DataFrame.\n",
            "Try using .loc[row_indexer,col_indexer] = value instead\n",
            "\n",
            "See the caveats in the documentation: https://pandas.pydata.org/pandas-docs/stable/user_guide/indexing.html#returning-a-view-versus-a-copy\n"
          ]
        },
        {
          "output_type": "execute_result",
          "data": {
            "text/plain": [
              "<seaborn.axisgrid.FacetGrid at 0x7f2a20684d60>"
            ]
          },
          "metadata": {},
          "execution_count": 20
        },
        {
          "output_type": "display_data",
          "data": {
            "text/plain": [
              "<Figure size 414.805x360 with 1 Axes>"
            ],
            "image/png": "[encoded data removed]"
          },
          "metadata": {}
        }
      ]
    },
    {
      "cell_type": "code",
      "source": [
        "df['smoke_years'] = df['smoke_years'].astype(np.float16)\n",
        "sns.lmplot(x = 'age', y = 'smoke_years', data = df, fit_reg=False, hue = 'cancer')\n"
      ],
      "metadata": {
        "id": "6IUf4lGCt5XS",
        "colab": {
          "base_uri": "https://localhost:8080/",
          "height": 380
        },
        "outputId": "fd55e89c-790c-4a17-e498-47d8d2a321f5"
      },
      "execution_count": null,
      "outputs": [
        {
          "output_type": "execute_result",
          "data": {
            "text/plain": [
              "<seaborn.axisgrid.FacetGrid at 0x7f2a205f4a60>"
            ]
          },
          "metadata": {},
          "execution_count": 21
        },
        {
          "output_type": "display_data",
          "data": {
            "text/plain": [
              "<Figure size 414.805x360 with 1 Axes>"
            ],
            "image/png": "[encoded data removed]"
          },
          "metadata": {}
        }
      ]
    },
    {
      "cell_type": "code",
      "source": [
        "df['num_sex_partners'] = df['num_sex_partners'].astype(np.float16)\n",
        "sns.lmplot(x = 'age', y = 'num_sex_partners', data = df, fit_reg=False, hue = 'cancer')\n"
      ],
      "metadata": {
        "id": "y2JujDykt5aX",
        "colab": {
          "base_uri": "https://localhost:8080/",
          "height": 380
        },
        "outputId": "2c9d6cb0-8f87-40d2-b07b-f91a9ca0c709"
      },
      "execution_count": null,
      "outputs": [
        {
          "output_type": "execute_result",
          "data": {
            "text/plain": [
              "<seaborn.axisgrid.FacetGrid at 0x7f2a20519be0>"
            ]
          },
          "metadata": {},
          "execution_count": 22
        },
        {
          "output_type": "display_data",
          "data": {
            "text/plain": [
              "<Figure size 414.805x360 with 1 Axes>"
            ],
            "image/png": "[encoded data removed]"
          },
          "metadata": {}
        }
      ]
    },
    {
      "cell_type": "code",
      "source": [
        "#Converting them all to floats\n",
        "df = df.astype(np.float16)"
      ],
      "metadata": {
        "id": "FWOc5w6ut5dD"
      },
      "execution_count": null,
      "outputs": []
    },
    {
      "cell_type": "code",
      "source": [
        "for v in df.columns:\n",
        "    print(df[v].value_counts())"
      ],
      "metadata": {
        "id": "YxKz9B6Wt5hc",
        "colab": {
          "base_uri": "https://localhost:8080/"
        },
        "outputId": "316d56c0-bacb-41b1-9ff3-e5dd31f9f667"
      },
      "execution_count": null,
      "outputs": [
        {
          "output_type": "stream",
          "name": "stdout",
          "text": [
            "23.0    54\n",
            "21.0    46\n",
            "24.0    39\n",
            "25.0    39\n",
            "26.0    38\n",
            "28.0    37\n",
            "30.0    35\n",
            "29.0    33\n",
            "27.0    33\n",
            "22.0    30\n",
            "35.0    29\n",
            "33.0    28\n",
            "31.0    27\n",
            "36.0    24\n",
            "34.0    24\n",
            "32.0    18\n",
            "37.0    17\n",
            "41.0    13\n",
            "40.0    12\n",
            "38.0     9\n",
            "39.0     9\n",
            "44.0     6\n",
            "45.0     6\n",
            "42.0     6\n",
            "43.0     5\n",
            "46.0     3\n",
            "48.0     2\n",
            "70.0     2\n",
            "49.0     2\n",
            "52.0     2\n",
            "59.0     1\n",
            "79.0     1\n",
            "84.0     1\n",
            "47.0     1\n",
            "50.0     1\n",
            "51.0     1\n",
            "Name: age, dtype: int64\n",
            "2.0     219\n",
            "3.0     169\n",
            "1.0     128\n",
            "4.0      61\n",
            "5.0      37\n",
            "6.0       9\n",
            "7.0       4\n",
            "8.0       4\n",
            "15.0      1\n",
            "10.0      1\n",
            "9.0       1\n",
            "Name: num_sex_partners, dtype: int64\n",
            "17.0    132\n",
            "18.0    119\n",
            "15.0     95\n",
            "16.0     78\n",
            "19.0     57\n",
            "20.0     36\n",
            "14.0     29\n",
            "21.0     20\n",
            "13.0     15\n",
            "23.0      9\n",
            "22.0      9\n",
            "26.0      7\n",
            "27.0      6\n",
            "24.0      6\n",
            "29.0      5\n",
            "12.0      3\n",
            "28.0      3\n",
            "25.0      2\n",
            "32.0      1\n",
            "11.0      1\n",
            "10.0      1\n",
            "Name: first_sex, dtype: int64\n",
            "2.0     221\n",
            "3.0     134\n",
            "1.0     132\n",
            "4.0      70\n",
            "5.0      35\n",
            "6.0      18\n",
            "0.0      14\n",
            "7.0       6\n",
            "8.0       2\n",
            "11.0      1\n",
            "10.0      1\n",
            "Name: num_preg, dtype: int64\n",
            "0.0    541\n",
            "1.0     93\n",
            "Name: smoker, dtype: int64\n",
            "0.000000     541\n",
            "1.266602      13\n",
            "9.000000       9\n",
            "16.000000      6\n",
            "5.000000       6\n",
            "8.000000       6\n",
            "11.000000      5\n",
            "10.000000      5\n",
            "14.000000      4\n",
            "15.000000      4\n",
            "19.000000      3\n",
            "6.000000       3\n",
            "2.000000       3\n",
            "3.000000       3\n",
            "12.000000      3\n",
            "7.000000       3\n",
            "22.000000      2\n",
            "4.000000       2\n",
            "13.000000      2\n",
            "37.000000      1\n",
            "0.500000       1\n",
            "21.000000      1\n",
            "18.000000      1\n",
            "34.000000      1\n",
            "1.000000       1\n",
            "32.000000      1\n",
            "24.000000      1\n",
            "28.000000      1\n",
            "20.000000      1\n",
            "0.160034       1\n",
            "Name: smoke_years, dtype: int64\n",
            "0.000000     541\n",
            "0.513184      15\n",
            "2.000000       4\n",
            "1.000000       4\n",
            "0.750000       3\n",
            "6.000000       3\n",
            "1.349609       2\n",
            "2.800781       2\n",
            "3.000000       2\n",
            "4.500000       2\n",
            "1.200195       2\n",
            "1.400391       2\n",
            "0.160034       2\n",
            "12.000000      2\n",
            "8.000000       2\n",
            "2.400391       2\n",
            "9.000000       2\n",
            "0.799805       2\n",
            "1.599609       2\n",
            "1.299805       1\n",
            "0.049988       1\n",
            "4.800781       1\n",
            "0.399902       1\n",
            "0.001000       1\n",
            "0.370117       1\n",
            "2.199219       1\n",
            "2.699219       1\n",
            "5.500000       1\n",
            "7.000000       1\n",
            "0.899902       1\n",
            "22.000000      1\n",
            "1.650391       1\n",
            "2.500000       1\n",
            "2.250000       1\n",
            "4.000000       1\n",
            "7.601562       1\n",
            "0.700195       1\n",
            "0.099976       1\n",
            "1.250000       1\n",
            "3.400391       1\n",
            "0.040009       1\n",
            "19.000000      1\n",
            "21.000000      1\n",
            "0.320068       1\n",
            "2.599609       1\n",
            "15.000000      1\n",
            "5.699219       1\n",
            "3.300781       1\n",
            "3.500000       1\n",
            "0.024994       1\n",
            "2.750000       1\n",
            "0.199951       1\n",
            "5.000000       1\n",
            "2.099609       1\n",
            "37.000000      1\n",
            "7.500000       1\n",
            "0.300049       1\n",
            "Name: pack_years, dtype: int64\n",
            "1.0    458\n",
            "0.0    176\n",
            "Name: contracept, dtype: int64\n",
            "0.000000     176\n",
            "0.500000      89\n",
            "1.000000      55\n",
            "3.000000      34\n",
            "2.000000      33\n",
            "5.000000      32\n",
            "0.250000      29\n",
            "6.000000      24\n",
            "7.000000      21\n",
            "8.000000      18\n",
            "4.000000      18\n",
            "0.080017      14\n",
            "9.000000      12\n",
            "10.000000     11\n",
            "0.160034      10\n",
            "15.000000      6\n",
            "0.660156       5\n",
            "0.330078       5\n",
            "12.000000      4\n",
            "20.000000      4\n",
            "0.750000       4\n",
            "0.580078       3\n",
            "0.419922       3\n",
            "1.500000       2\n",
            "16.000000      2\n",
            "0.669922       2\n",
            "19.000000      2\n",
            "2.281250       2\n",
            "13.000000      2\n",
            "11.000000      2\n",
            "22.000000      1\n",
            "14.000000      1\n",
            "2.500000       1\n",
            "4.500000       1\n",
            "6.500000       1\n",
            "0.170044       1\n",
            "3.500000       1\n",
            "0.409912       1\n",
            "30.000000      1\n",
            "17.000000      1\n",
            "Name: contracept_years, dtype: int64\n",
            "0.0    551\n",
            "1.0     83\n",
            "Name: iud, dtype: int64\n",
            "0.000000     551\n",
            "3.000000      11\n",
            "2.000000      10\n",
            "5.000000       9\n",
            "1.000000       8\n",
            "8.000000       7\n",
            "7.000000       7\n",
            "6.000000       5\n",
            "4.000000       5\n",
            "11.000000      3\n",
            "0.080017       2\n",
            "0.500000       2\n",
            "0.330078       1\n",
            "9.000000       1\n",
            "0.409912       1\n",
            "0.160034       1\n",
            "0.910156       1\n",
            "1.500000       1\n",
            "10.000000      1\n",
            "12.000000      1\n",
            "15.000000      1\n",
            "0.250000       1\n",
            "17.000000      1\n",
            "19.000000      1\n",
            "0.580078       1\n",
            "0.170044       1\n",
            "Name: iud_years, dtype: int64\n",
            "0.0    575\n",
            "1.0     59\n",
            "Name: stds, dtype: int64\n",
            "0.0    575\n",
            "1.0     29\n",
            "2.0     26\n",
            "3.0      4\n",
            "Name: stds_num, dtype: int64\n",
            "0.0    604\n",
            "1.0     30\n",
            "Name: std_condy, dtype: int64\n",
            "0.0    634\n",
            "Name: std_cerv_condy, dtype: int64\n",
            "0.0    631\n",
            "1.0      3\n",
            "Name: std_vag_condy, dtype: int64\n",
            "0.0    605\n",
            "1.0     29\n",
            "Name: std_vulvperi_condy, dtype: int64\n",
            "0.0    621\n",
            "1.0     13\n",
            "Name: std_syphilis, dtype: int64\n",
            "0.0    633\n",
            "1.0      1\n",
            "Name: std_pid, dtype: int64\n",
            "0.0    634\n",
            "Name: std_herpes, dtype: int64\n",
            "0.0    633\n",
            "1.0      1\n",
            "Name: std_molluscum, dtype: int64\n",
            "0.0    634\n",
            "Name: std_aids, dtype: int64\n",
            "0.0    620\n",
            "1.0     14\n",
            "Name: std_hiv, dtype: int64\n",
            "0.0    634\n",
            "Name: std_hep_b, dtype: int64\n",
            "0.0    632\n",
            "1.0      2\n",
            "Name: std_hpv, dtype: int64\n",
            "0.0    582\n",
            "1.0     52\n",
            "Name: std_num_dx, dtype: int64\n",
            "0.0    617\n",
            "1.0     17\n",
            "Name: cancer, dtype: int64\n",
            "0.0    625\n",
            "1.0      9\n",
            "Name: cin, dtype: int64\n",
            "0.0    617\n",
            "1.0     17\n",
            "Name: hpv, dtype: int64\n",
            "0.0    611\n",
            "1.0     23\n",
            "Name: dx, dtype: int64\n",
            "0.0    607\n",
            "1.0     27\n",
            "Name: hinselmann, dtype: int64\n",
            "0.0    573\n",
            "1.0     61\n",
            "Name: schiller, dtype: int64\n",
            "0.0    604\n",
            "1.0     30\n",
            "Name: cytology, dtype: int64\n",
            "0.0    589\n",
            "1.0     45\n",
            "Name: biopsy, dtype: int64\n"
          ]
        }
      ]
    },
    {
      "cell_type": "code",
      "source": [
        "#df.columns\n",
        "\n",
        "#Drop: std_cerv_condy, std_vag_condy, std_pid, std_herpes, std_molluscum, std_aids, std_hep_b, std_hpv due to lack of observations\n",
        "\n",
        "df.drop('std_cerv_condy', axis = 1, inplace = True)\n",
        "df.drop('std_vag_condy', axis = 1, inplace = True)\n",
        "df.drop('std_pid', axis = 1, inplace = True)\n",
        "df.drop('std_herpes', axis = 1, inplace = True)\n",
        "df.drop('std_molluscum', axis = 1, inplace = True)\n",
        "df.drop('std_aids', axis = 1, inplace = True)\n",
        "df.drop('std_hep_b', axis = 1, inplace = True)\n",
        "df.drop('std_hpv', axis = 1, inplace = True)"
      ],
      "metadata": {
        "id": "bkIjN843t5kU"
      },
      "execution_count": null,
      "outputs": []
    },
    {
      "cell_type": "code",
      "source": [
        "#The columns about how the sample was obtained are useless\n",
        "#Dropping hinselmann, schiller, cytology, biopsy\n",
        "\n",
        "df.drop('hinselmann', axis = 1, inplace = True)\n",
        "df.drop('schiller', axis = 1, inplace = True)\n",
        "df.drop('cytology', axis = 1, inplace = True)\n",
        "df.drop('biopsy', axis = 1, inplace = True)"
      ],
      "metadata": {
        "id": "s2fNf50guFgH"
      },
      "execution_count": null,
      "outputs": []
    },
    {
      "cell_type": "code",
      "source": [
        "#The hpv variable is the exact same as the cancer variable\n",
        "df.drop('hpv', axis = 1, inplace = True)\n",
        "\n",
        "#I looked online and no one could define what the dx variable was so we're getting rid of it \n",
        "df.drop('dx', axis = 1, inplace = True)\n"
      ],
      "metadata": {
        "id": "a9vqOTJ-uFmW"
      },
      "execution_count": null,
      "outputs": []
    },
    {
      "cell_type": "code",
      "source": [
        "#Let's build a baseline decision tree model\n",
        "\n",
        "#Get labels as an array and not as an array \n",
        "labels = np.array(df['cancer'])\n",
        "columns_labels = df['cancer']\n",
        "\n",
        "#Drop cancer variable (and HPV variable)\n",
        "df.drop('cancer', axis = 1, inplace = True)\n",
        "df_list = list(df.columns)\n",
        "\n",
        "#Create dummies/one hot encoding\n",
        "df_dum = pd.get_dummies(df)\n",
        "df_list_dum = list(df_dum.columns)"
      ],
      "metadata": {
        "id": "1kAhSfNluFpO"
      },
      "execution_count": null,
      "outputs": []
    },
    {
      "cell_type": "code",
      "source": [
        "# Split the data into training and testing sets\n",
        "train_df, test_df, train_labels, test_labels = train_test_split(df_dum, labels, test_size = 0.25, random_state = 42)\n",
        "print('Training Features Shape:', train_df.shape)\n",
        "print('Training Labels Shape:', train_labels.shape)\n",
        "print('Testing Features Shape:', test_df.shape)\n",
        "print('Testing Labels Shape:', test_labels.shape)\n"
      ],
      "metadata": {
        "id": "OenucXKJuFsF",
        "colab": {
          "base_uri": "https://localhost:8080/"
        },
        "outputId": "12aa37f3-5c19-4034-ab29-3b9c18ce2e0c"
      },
      "execution_count": null,
      "outputs": [
        {
          "output_type": "stream",
          "name": "stdout",
          "text": [
            "Training Features Shape: (475, 19)\n",
            "Training Labels Shape: (475,)\n",
            "Testing Features Shape: (159, 19)\n",
            "Testing Labels Shape: (159,)\n"
          ]
        }
      ]
    },
    {
      "cell_type": "code",
      "source": [
        "# Instantiate model with 1000 decision trees\n",
        "rf = RandomForestClassifier(n_estimators = 1000, random_state = 42)\n",
        "\n",
        "# Train the model on training data\n",
        "rf.fit(train_df, train_labels)\n",
        "\n",
        "y_pred=rf.predict(test_df)\n"
      ],
      "metadata": {
        "id": "0HQU-sDduFus"
      },
      "execution_count": null,
      "outputs": []
    },
    {
      "cell_type": "code",
      "source": [
        "# Model Accuracy, how often is the classifier correct?\n",
        "print(\"Test Accuracy:\",metrics.accuracy_score(test_labels, y_pred))"
      ],
      "metadata": {
        "id": "qeeV_9YyuNqw",
        "colab": {
          "base_uri": "https://localhost:8080/"
        },
        "outputId": "3d0bcafa-9716-4445-e511-9e5b3313ff4b"
      },
      "execution_count": null,
      "outputs": [
        {
          "output_type": "stream",
          "name": "stdout",
          "text": [
            "Test Accuracy: 0.9811320754716981\n"
          ]
        }
      ]
    },
    {
      "cell_type": "code",
      "source": [
        "feature_imp = pd.Series(rf.feature_importances_,index=df_dum.columns).sort_values(ascending=False)\n",
        "feature_imp"
      ],
      "metadata": {
        "id": "FhPA1yKjuNwe",
        "colab": {
          "base_uri": "https://localhost:8080/"
        },
        "outputId": "9ec689f7-4700-4f6d-b764-8b96e42028b4"
      },
      "execution_count": null,
      "outputs": [
        {
          "output_type": "execute_result",
          "data": {
            "text/plain": [
              "age                   0.186091\n",
              "contracept_years      0.176154\n",
              "first_sex             0.154102\n",
              "num_sex_partners      0.117749\n",
              "num_preg              0.098539\n",
              "iud_years             0.070197\n",
              "pack_years            0.043511\n",
              "smoke_years           0.043052\n",
              "contracept            0.023575\n",
              "iud                   0.021491\n",
              "stds_num              0.017794\n",
              "stds                  0.012771\n",
              "std_num_dx            0.010220\n",
              "smoker                0.007831\n",
              "std_condy             0.006457\n",
              "std_vulvperi_condy    0.004793\n",
              "std_hiv               0.003064\n",
              "std_syphilis          0.001991\n",
              "cin                   0.000617\n",
              "dtype: float64"
            ]
          },
          "metadata": {},
          "execution_count": 32
        }
      ]
    },
    {
      "cell_type": "code",
      "source": [
        "%matplotlib inline\n",
        "# Creating a bar plot\n",
        "sns.barplot(x=feature_imp, y=feature_imp.index)\n",
        "# Add labels to your graph\n",
        "plt.xlabel('Feature Importance Score')\n",
        "plt.ylabel('Features')\n",
        "plt.title(\"Visualizing Important Features\")\n",
        "plt.legend()\n",
        "plt.show()"
      ],
      "metadata": {
        "id": "jhroX9GBuNzm",
        "colab": {
          "base_uri": "https://localhost:8080/",
          "height": 322
        },
        "outputId": "fde536e3-382d-4b98-cd63-8a25ce47f848"
      },
      "execution_count": null,
      "outputs": [
        {
          "output_type": "stream",
          "name": "stderr",
          "text": [
            "WARNING:matplotlib.legend:No handles with labels found to put in legend.\n"
          ]
        },
        {
          "output_type": "display_data",
          "data": {
            "text/plain": [
              "<Figure size 432x288 with 1 Axes>"
            ],
            "image/png": "[encoded data removed]"
          },
          "metadata": {
            "needs_background": "light"
          }
        }
      ]
    },
    {
      "cell_type": "code",
      "source": [
        "#This all makes sense\n",
        "#We could drop least important features: cin, std_syphilis, std_hiv, std_condy, std_vulvperi_condy\n",
        "#Let's get a more parsimonius baseline mode\n",
        "df.drop('cin', axis = 1, inplace = True)\n",
        "df.drop('std_syphilis', axis = 1, inplace = True)\n",
        "df.drop('std_hiv', axis = 1, inplace = True)\n",
        "df.drop('std_condy', axis = 1, inplace = True)\n",
        "df.drop('std_vulvperi_condy', axis = 1, inplace = True)\n",
        "\n",
        "#Create dummies/one hot encoding\n",
        "df_dum = pd.get_dummies(df)\n",
        "df_list_dum = list(df_dum.columns)\n",
        "\n",
        "# Split the data into training and testing sets\n",
        "train_df, test_df, train_labels, test_labels = train_test_split(df_dum, labels, test_size = 0.25, random_state = 42)\n",
        "print('Training Features Shape:', train_df.shape)\n",
        "print('Training Labels Shape:', train_labels.shape)\n",
        "print('Testing Features Shape:', test_df.shape)\n",
        "print('Testing Labels Shape:', test_labels.shape)\n"
      ],
      "metadata": {
        "id": "E1UReeB3uN2u",
        "colab": {
          "base_uri": "https://localhost:8080/"
        },
        "outputId": "bbe33251-5ba1-4f5a-a378-f5a12b1a9c6c"
      },
      "execution_count": null,
      "outputs": [
        {
          "output_type": "stream",
          "name": "stdout",
          "text": [
            "Training Features Shape: (475, 14)\n",
            "Training Labels Shape: (475,)\n",
            "Testing Features Shape: (159, 14)\n",
            "Testing Labels Shape: (159,)\n"
          ]
        }
      ]
    },
    {
      "cell_type": "code",
      "source": [
        "# Train the model on training data\n",
        "rf = RandomForestClassifier(n_estimators = 1000, random_state = 42)\n",
        "\n",
        "rf.fit(train_df, train_labels)\n",
        "\n",
        "y_pred=rf.predict(test_df)\n",
        "print(\"Accuracy:\",metrics.accuracy_score(test_labels, y_pred))"
      ],
      "metadata": {
        "id": "R1Up2MpmuN52",
        "colab": {
          "base_uri": "https://localhost:8080/"
        },
        "outputId": "e4f402e8-533a-4770-8161-104b3c1be973"
      },
      "execution_count": null,
      "outputs": [
        {
          "output_type": "stream",
          "name": "stdout",
          "text": [
            "Accuracy: 0.9811320754716981\n"
          ]
        }
      ]
    },
    {
      "cell_type": "code",
      "source": [
        "feature_imp = pd.Series(rf.feature_importances_,index=df_dum.columns).sort_values(ascending=False)\n",
        "feature_imp"
      ],
      "metadata": {
        "id": "c_xW0W3PuYrs",
        "colab": {
          "base_uri": "https://localhost:8080/"
        },
        "outputId": "3aa7435c-bde0-4bd4-cd50-d11eb6430b99"
      },
      "execution_count": null,
      "outputs": [
        {
          "output_type": "execute_result",
          "data": {
            "text/plain": [
              "age                 0.187704\n",
              "contracept_years    0.176647\n",
              "first_sex           0.158491\n",
              "num_sex_partners    0.114913\n",
              "num_preg            0.103606\n",
              "iud_years           0.071381\n",
              "pack_years          0.042708\n",
              "smoke_years         0.042602\n",
              "contracept          0.026038\n",
              "iud                 0.023577\n",
              "stds_num            0.019641\n",
              "stds                0.014434\n",
              "std_num_dx          0.009629\n",
              "smoker              0.008629\n",
              "dtype: float64"
            ]
          },
          "metadata": {},
          "execution_count": 36
        }
      ]
    },
    {
      "cell_type": "code",
      "source": [
        "%matplotlib inline\n",
        "# Creating a bar plot\n",
        "sns.barplot(x=feature_imp, y=feature_imp.index)\n",
        "# Add labels to your graph\n",
        "plt.xlabel('Feature Importance Score')\n",
        "plt.ylabel('Features')\n",
        "plt.title(\"Visualizing Important Features\")\n",
        "plt.legend()\n",
        "plt.show()"
      ],
      "metadata": {
        "id": "Ff6SX-cLuYu9",
        "colab": {
          "base_uri": "https://localhost:8080/",
          "height": 322
        },
        "outputId": "7d69eae2-e081-43f9-850c-53991bebe8ef"
      },
      "execution_count": null,
      "outputs": [
        {
          "output_type": "stream",
          "name": "stderr",
          "text": [
            "WARNING:matplotlib.legend:No handles with labels found to put in legend.\n"
          ]
        },
        {
          "output_type": "display_data",
          "data": {
            "text/plain": [
              "<Figure size 432x288 with 1 Axes>"
            ],
            "image/png": "[encoded data removed]"
          },
          "metadata": {
            "needs_background": "light"
          }
        }
      ]
    },
    {
      "cell_type": "code",
      "source": [
        "print(df['std_num_dx'].value_counts())\n",
        "print(df['stds'].value_counts())"
      ],
      "metadata": {
        "colab": {
          "base_uri": "https://localhost:8080/"
        },
        "id": "m9vOX89lZJYG",
        "outputId": "b0902e4e-1d70-4829-8561-ac1d5feae763"
      },
      "execution_count": null,
      "outputs": [
        {
          "output_type": "stream",
          "name": "stdout",
          "text": [
            "0.0    582\n",
            "1.0     52\n",
            "Name: std_num_dx, dtype: int64\n",
            "0.0    575\n",
            "1.0     59\n",
            "Name: stds, dtype: int64\n"
          ]
        }
      ]
    },
    {
      "cell_type": "code",
      "source": [
        "#Dropping additional features per convo with Julia\n",
        "df.drop('contracept', axis = 1, inplace = True)\n",
        "df.drop('iud', axis = 1, inplace = True)\n",
        "df.drop('std_num_dx', axis = 1, inplace = True)\n",
        "df.drop('stds', axis = 1, inplace = True)\n",
        "df.drop('smoker', axis = 1, inplace = True)\n",
        "df.drop('smoke_years', axis = 1, inplace = True)\n",
        "\n",
        "#These are the final variables to keep\n",
        "#Age\n",
        "#Contracept_years - # years on contraception\n",
        "#First_sex - age first intercourse\n",
        "#Num_sex_partners\n",
        "#Num_preg\n",
        "#Iud_years - # years with IUD\n",
        "#Pack_years\n",
        "#Stds - number of STD diagnoses\n"
      ],
      "metadata": {
        "id": "8bZYHTknYu2W"
      },
      "execution_count": null,
      "outputs": []
    },
    {
      "cell_type": "code",
      "source": [
        "#Now let's try to expand the dataset with smote \n",
        "#Synthetic minority oversampling technique\n",
        "#Used when there is imbalanced classification, i.e. too few examples of the minority class \n",
        "#We can oversample the examples in the minority class \n",
        "#https://machinelearningmastery.com/smote-oversampling-for-imbalanced-classification/\n",
        "\n",
        "#An improvement on duplicating examples from the minority class is to synthesize \n",
        "#new examples from the minority class. This is a type of data augmentation for tabular \n",
        "#data and can be very effective.\n",
        "#SMOTE works by selecting examples that are close in the feature space, drawing a line\n",
        "#between the examples in the feature space and drawing a new sample at a point along that line.\n",
        "\n",
        "# Transform the dataset\n",
        "oversample = SMOTE() #Completely balance\n",
        "df, columns_labels = oversample.fit_resample(df, columns_labels)\n",
        "\n",
        "counter = Counter(columns_labels)\n",
        "print(counter)\n",
        "\n",
        "#Awesome, we have more observations now !"
      ],
      "metadata": {
        "id": "aSeELM1Vua9g",
        "colab": {
          "base_uri": "https://localhost:8080/"
        },
        "outputId": "85771bd1-0a82-4738-98d5-a60780ab9a3c"
      },
      "execution_count": null,
      "outputs": [
        {
          "output_type": "stream",
          "name": "stdout",
          "text": [
            "Counter({0.0: 617, 1.0: 617})\n"
          ]
        }
      ]
    },
    {
      "cell_type": "code",
      "source": [
        "df = pd.concat([df, columns_labels], axis=1)"
      ],
      "metadata": {
        "id": "O_1HIaXabOHr"
      },
      "execution_count": null,
      "outputs": []
    },
    {
      "cell_type": "code",
      "source": [
        "df.head()"
      ],
      "metadata": {
        "colab": {
          "base_uri": "https://localhost:8080/",
          "height": 206
        },
        "id": "_hRkDDO_bTgx",
        "outputId": "ba41f271-bb53-4a30-ef4a-114aee090712"
      },
      "execution_count": null,
      "outputs": [
        {
          "output_type": "execute_result",
          "data": {
            "text/plain": [
              "    age  num_sex_partners  first_sex  num_preg  pack_years  contracept_years  \\\n",
              "0  34.0               1.0       17.0       1.0    0.000000               0.0   \n",
              "1  52.0               5.0       16.0       4.0   37.000000               3.0   \n",
              "2  46.0               3.0       21.0       4.0    0.000000              15.0   \n",
              "3  42.0               3.0       23.0       2.0    0.000000               0.0   \n",
              "4  51.0               3.0       17.0       6.0    3.400391               0.0   \n",
              "\n",
              "   iud_years  stds_num  cancer  \n",
              "0        0.0       0.0     0.0  \n",
              "1        0.0       0.0     1.0  \n",
              "2        0.0       0.0     0.0  \n",
              "3        0.0       0.0     0.0  \n",
              "4        7.0       0.0     0.0  "
            ],
            "text/html": [
              "\n",
              "  <div id=\"df-fd1584c9-4624-4457-9465-7bed004ff21f\">\n",
              "    <div class=\"colab-df-container\">\n",
              "      <div>\n",
              "<style scoped>\n",
              "    .dataframe tbody tr th:only-of-type {\n",
              "        vertical-align: middle;\n",
              "    }\n",
              "\n",
              "    .dataframe tbody tr th {\n",
              "        vertical-align: top;\n",
              "    }\n",
              "\n",
              "    .dataframe thead th {\n",
              "        text-align: right;\n",
              "    }\n",
              "</style>\n",
              "<table border=\"1\" class=\"dataframe\">\n",
              "  <thead>\n",
              "    <tr style=\"text-align: right;\">\n",
              "      <th></th>\n",
              "      <th>age</th>\n",
              "      <th>num_sex_partners</th>\n",
              "      <th>first_sex</th>\n",
              "      <th>num_preg</th>\n",
              "      <th>pack_years</th>\n",
              "      <th>contracept_years</th>\n",
              "      <th>iud_years</th>\n",
              "      <th>stds_num</th>\n",
              "      <th>cancer</th>\n",
              "    </tr>\n",
              "  </thead>\n",
              "  <tbody>\n",
              "    <tr>\n",
              "      <th>0</th>\n",
              "      <td>34.0</td>\n",
              "      <td>1.0</td>\n",
              "      <td>17.0</td>\n",
              "      <td>1.0</td>\n",
              "      <td>0.000000</td>\n",
              "      <td>0.0</td>\n",
              "      <td>0.0</td>\n",
              "      <td>0.0</td>\n",
              "      <td>0.0</td>\n",
              "    </tr>\n",
              "    <tr>\n",
              "      <th>1</th>\n",
              "      <td>52.0</td>\n",
              "      <td>5.0</td>\n",
              "      <td>16.0</td>\n",
              "      <td>4.0</td>\n",
              "      <td>37.000000</td>\n",
              "      <td>3.0</td>\n",
              "      <td>0.0</td>\n",
              "      <td>0.0</td>\n",
              "      <td>1.0</td>\n",
              "    </tr>\n",
              "    <tr>\n",
              "      <th>2</th>\n",
              "      <td>46.0</td>\n",
              "      <td>3.0</td>\n",
              "      <td>21.0</td>\n",
              "      <td>4.0</td>\n",
              "      <td>0.000000</td>\n",
              "      <td>15.0</td>\n",
              "      <td>0.0</td>\n",
              "      <td>0.0</td>\n",
              "      <td>0.0</td>\n",
              "    </tr>\n",
              "    <tr>\n",
              "      <th>3</th>\n",
              "      <td>42.0</td>\n",
              "      <td>3.0</td>\n",
              "      <td>23.0</td>\n",
              "      <td>2.0</td>\n",
              "      <td>0.000000</td>\n",
              "      <td>0.0</td>\n",
              "      <td>0.0</td>\n",
              "      <td>0.0</td>\n",
              "      <td>0.0</td>\n",
              "    </tr>\n",
              "    <tr>\n",
              "      <th>4</th>\n",
              "      <td>51.0</td>\n",
              "      <td>3.0</td>\n",
              "      <td>17.0</td>\n",
              "      <td>6.0</td>\n",
              "      <td>3.400391</td>\n",
              "      <td>0.0</td>\n",
              "      <td>7.0</td>\n",
              "      <td>0.0</td>\n",
              "      <td>0.0</td>\n",
              "    </tr>\n",
              "  </tbody>\n",
              "</table>\n",
              "</div>\n",
              "      <button class=\"colab-df-convert\" onclick=\"convertToInteractive('df-fd1584c9-4624-4457-9465-7bed004ff21f')\"\n",
              "              title=\"Convert this dataframe to an interactive table.\"\n",
              "              style=\"display:none;\">\n",
              "        \n",
              "  <svg xmlns=\"http://www.w3.org/2000/svg\" height=\"24px\"viewBox=\"0 0 24 24\"\n",
              "       width=\"24px\">\n",
              "    <path d=\"M0 0h24v24H0V0z\" fill=\"none\"/>\n",
              "    <path d=\"M18.56 5.44l.94 2.06.94-2.06 2.06-.94-2.06-.94-.94-2.06-.94 2.06-2.06.94zm-11 1L8.5 8.5l.94-2.06 2.06-.94-2.06-.94L8.5 2.5l-.94 2.06-2.06.94zm10 10l.94 2.06.94-2.06 2.06-.94-2.06-.94-.94-2.06-.94 2.06-2.06.94z\"/><path d=\"M17.41 7.96l-1.37-1.37c-.4-.4-.92-.59-1.43-.59-.52 0-1.04.2-1.43.59L10.3 9.45l-7.72 7.72c-.78.78-.78 2.05 0 2.83L4 21.41c.39.39.9.59 1.41.59.51 0 1.02-.2 1.41-.59l7.78-7.78 2.81-2.81c.8-.78.8-2.07 0-2.86zM5.41 20L4 18.59l7.72-7.72 1.47 1.35L5.41 20z\"/>\n",
              "  </svg>\n",
              "      </button>\n",
              "      \n",
              "  <style>\n",
              "    .colab-df-container {\n",
              "      display:flex;\n",
              "      flex-wrap:wrap;\n",
              "      gap: 12px;\n",
              "    }\n",
              "\n",
              "    .colab-df-convert {\n",
              "      background-color: #E8F0FE;\n",
              "      border: none;\n",
              "      border-radius: 50%;\n",
              "      cursor: pointer;\n",
              "      display: none;\n",
              "      fill: #1967D2;\n",
              "      height: 32px;\n",
              "      padding: 0 0 0 0;\n",
              "      width: 32px;\n",
              "    }\n",
              "\n",
              "    .colab-df-convert:hover {\n",
              "      background-color: #E2EBFA;\n",
              "      box-shadow: 0px 1px 2px rgba(60, 64, 67, 0.3), 0px 1px 3px 1px rgba(60, 64, 67, 0.15);\n",
              "      fill: #174EA6;\n",
              "    }\n",
              "\n",
              "    [theme=dark] .colab-df-convert {\n",
              "      background-color: #3B4455;\n",
              "      fill: #D2E3FC;\n",
              "    }\n",
              "\n",
              "    [theme=dark] .colab-df-convert:hover {\n",
              "      background-color: #434B5C;\n",
              "      box-shadow: 0px 1px 3px 1px rgba(0, 0, 0, 0.15);\n",
              "      filter: drop-shadow(0px 1px 2px rgba(0, 0, 0, 0.3));\n",
              "      fill: #FFFFFF;\n",
              "    }\n",
              "  </style>\n",
              "\n",
              "      <script>\n",
              "        const buttonEl =\n",
              "          document.querySelector('#df-fd1584c9-4624-4457-9465-7bed004ff21f button.colab-df-convert');\n",
              "        buttonEl.style.display =\n",
              "          google.colab.kernel.accessAllowed ? 'block' : 'none';\n",
              "\n",
              "        async function convertToInteractive(key) {\n",
              "          const element = document.querySelector('#df-fd1584c9-4624-4457-9465-7bed004ff21f');\n",
              "          const dataTable =\n",
              "            await google.colab.kernel.invokeFunction('convertToInteractive',\n",
              "                                                     [key], {});\n",
              "          if (!dataTable) return;\n",
              "\n",
              "          const docLinkHtml = 'Like what you see? Visit the ' +\n",
              "            '<a target=\"_blank\" href=https://colab.research.google.com/notebooks/data_table.ipynb>data table notebook</a>'\n",
              "            + ' to learn more about interactive tables.';\n",
              "          element.innerHTML = '';\n",
              "          dataTable['output_type'] = 'display_data';\n",
              "          await google.colab.output.renderOutput(dataTable, element);\n",
              "          const docLink = document.createElement('div');\n",
              "          docLink.innerHTML = docLinkHtml;\n",
              "          element.appendChild(docLink);\n",
              "        }\n",
              "      </script>\n",
              "    </div>\n",
              "  </div>\n",
              "  "
            ]
          },
          "metadata": {},
          "execution_count": 42
        }
      ]
    },
    {
      "cell_type": "code",
      "source": [
        "#Let's go back to our EDA, and combine the dataframe \n",
        "\n",
        "sns.lmplot(x = 'age', y = 'pack_years', data = df, fit_reg=False, hue = 'cancer')"
      ],
      "metadata": {
        "id": "Ze3CJB6rubDg",
        "colab": {
          "base_uri": "https://localhost:8080/",
          "height": 387
        },
        "outputId": "a3621cc3-e658-4332-a7da-73901b680125"
      },
      "execution_count": null,
      "outputs": [
        {
          "output_type": "execute_result",
          "data": {
            "text/plain": [
              "<seaborn.axisgrid.FacetGrid at 0x7f2b5f53bc70>"
            ]
          },
          "metadata": {},
          "execution_count": 43
        },
        {
          "output_type": "display_data",
          "data": {
            "text/plain": [
              "<Figure size 422.685x360 with 1 Axes>"
            ],
            "image/png": "[encoded data removed]"
          },
          "metadata": {
            "needs_background": "light"
          }
        }
      ]
    },
    {
      "cell_type": "code",
      "source": [
        "#Now let's try the random forest with the new dataset \n",
        "#Create labels\n",
        "labels = np.array(df['cancer'])\n",
        "df.drop('cancer', axis = 1, inplace = True)\n",
        "\n",
        "#Create dummies/one hot encoding\n",
        "df_dum = pd.get_dummies(df)\n",
        "df_list_dum = list(df_dum.columns)\n",
        "\n",
        "# Split the data into training and testing sets\n",
        "train_df, test_df, train_labels, test_labels = train_test_split(df_dum, labels, test_size = 0.25, random_state = 42)\n",
        "print('Training Features Shape:', train_df.shape)\n",
        "print('Training Labels Shape:', train_labels.shape)\n",
        "print('Testing Features Shape:', test_df.shape)\n",
        "print('Testing Labels Shape:', test_labels.shape)"
      ],
      "metadata": {
        "id": "z_UTZYQQubGY",
        "colab": {
          "base_uri": "https://localhost:8080/"
        },
        "outputId": "e5cf01ea-1e29-4276-c203-8e8fc158b713"
      },
      "execution_count": null,
      "outputs": [
        {
          "output_type": "stream",
          "name": "stdout",
          "text": [
            "Training Features Shape: (925, 8)\n",
            "Training Labels Shape: (925,)\n",
            "Testing Features Shape: (309, 8)\n",
            "Testing Labels Shape: (309,)\n"
          ]
        }
      ]
    },
    {
      "cell_type": "code",
      "source": [
        "# Train the model on training data\n",
        "rf = RandomForestClassifier(n_estimators = 1000, random_state = 42)\n",
        "\n",
        "rf_model = rf.fit(train_df, train_labels)\n",
        "\n",
        "pred_train = rf_model.predict(train_df)\n",
        "pred_test = rf_model.predict(test_df)\n",
        "\n",
        "print(\"Accuracy train: \", metrics.accuracy_score(train_labels, pred_train))\n",
        "print(\"Accuracy test: \", metrics.accuracy_score(test_labels, pred_test))"
      ],
      "metadata": {
        "id": "Qy6iITg8ubLU",
        "colab": {
          "base_uri": "https://localhost:8080/"
        },
        "outputId": "b403604a-43bd-4348-fc61-c57559bed1ee"
      },
      "execution_count": null,
      "outputs": [
        {
          "output_type": "stream",
          "name": "stdout",
          "text": [
            "Accuracy train:  1.0\n",
            "Accuracy test:  0.9902912621359223\n"
          ]
        }
      ]
    },
    {
      "cell_type": "code",
      "source": [
        "feature_imp = pd.Series(rf.feature_importances_,index=df_dum.columns).sort_values(ascending=False)\n",
        "feature_imp"
      ],
      "metadata": {
        "id": "VYYvS4tDubOw",
        "colab": {
          "base_uri": "https://localhost:8080/"
        },
        "outputId": "6d1e1ebc-edc0-4b5c-a069-13baefe309f5"
      },
      "execution_count": null,
      "outputs": [
        {
          "output_type": "execute_result",
          "data": {
            "text/plain": [
              "first_sex           0.261813\n",
              "age                 0.154283\n",
              "num_preg            0.136172\n",
              "num_sex_partners    0.132834\n",
              "iud_years           0.124037\n",
              "contracept_years    0.115064\n",
              "stds_num            0.052130\n",
              "pack_years          0.023666\n",
              "dtype: float64"
            ]
          },
          "metadata": {},
          "execution_count": 46
        }
      ]
    },
    {
      "cell_type": "code",
      "source": [
        "%matplotlib inline\n",
        "# Creating a bar plot\n",
        "sns.barplot(x=feature_imp, y=feature_imp.index)\n",
        "# Add labels to your graph\n",
        "plt.xlabel('Feature Importance Score')\n",
        "plt.ylabel('Features')\n",
        "plt.title(\"Visualizing Important Features\")\n",
        "plt.legend()\n",
        "plt.show()"
      ],
      "metadata": {
        "id": "6sojYOWYuoKk",
        "colab": {
          "base_uri": "https://localhost:8080/",
          "height": 322
        },
        "outputId": "fe7e173f-33ce-4d7f-fe5b-da512255e943"
      },
      "execution_count": null,
      "outputs": [
        {
          "output_type": "stream",
          "name": "stderr",
          "text": [
            "WARNING:matplotlib.legend:No handles with labels found to put in legend.\n"
          ]
        },
        {
          "output_type": "display_data",
          "data": {
            "text/plain": [
              "<Figure size 432x288 with 1 Axes>"
            ],
            "image/png": "[encoded data removed]"
          },
          "metadata": {
            "needs_background": "light"
          }
        }
      ]
    },
    {
      "cell_type": "code",
      "source": [
        "#Confusion matrix\n",
        "\n",
        "print(confusion_matrix(test_labels, pred_test))\n",
        "color='black'\n",
        "matrix = plot_confusion_matrix(rf, test_df, test_labels, cmap=plt.cm.Blues)\n",
        "matrix.ax_.set_title('Confusion Matrix: Random Forest', color=color)\n",
        "plt.grid(b=None)\n",
        "plt.xlabel('Predicted Label', color=color)\n",
        "plt.ylabel('True Label', color=color)\n",
        "plt.gcf().axes[0].tick_params(colors=color)\n",
        "plt.gcf().axes[1].tick_params(colors=color)\n",
        "plt.show()\n",
        "\n",
        "#Classification report \n",
        "print(classification_report(test_labels, pred_test))"
      ],
      "metadata": {
        "id": "6M2lLeSzuoNb",
        "colab": {
          "base_uri": "https://localhost:8080/",
          "height": 538
        },
        "outputId": "5da104a7-8482-441c-d2b6-83ea837ad8f6"
      },
      "execution_count": null,
      "outputs": [
        {
          "output_type": "stream",
          "name": "stdout",
          "text": [
            "[[163   0]\n",
            " [  3 143]]\n"
          ]
        },
        {
          "output_type": "stream",
          "name": "stderr",
          "text": [
            "Function plot_confusion_matrix is deprecated; Function `plot_confusion_matrix` is deprecated in 1.0 and will be removed in 1.2. Use one of the class methods: ConfusionMatrixDisplay.from_predictions or ConfusionMatrixDisplay.from_estimator.\n"
          ]
        },
        {
          "output_type": "display_data",
          "data": {
            "text/plain": [
              "<Figure size 432x288 with 2 Axes>"
            ],
            "image/png": "[encoded data removed]"
          },
          "metadata": {
            "needs_background": "light"
          }
        },
        {
          "output_type": "stream",
          "name": "stdout",
          "text": [
            "              precision    recall  f1-score   support\n",
            "\n",
            "         0.0       0.98      1.00      0.99       163\n",
            "         1.0       1.00      0.98      0.99       146\n",
            "\n",
            "    accuracy                           0.99       309\n",
            "   macro avg       0.99      0.99      0.99       309\n",
            "weighted avg       0.99      0.99      0.99       309\n",
            "\n"
          ]
        }
      ]
    },
    {
      "cell_type": "code",
      "source": [
        "#Getting metrics \n",
        "y_pred_rf = rf.predict(test_df)\n",
        "train_pred_rf = rf.predict(train_df)\n",
        "print(\"Train Accuracy:\",metrics.accuracy_score(train_labels, train_pred_rf))\n",
        "print(\"Test Accuracy:\",metrics.accuracy_score(test_labels, y_pred_rf))\n",
        "print(\"Precision:\",metrics.precision_score(test_labels, y_pred_rf))\n",
        "print(\"Recall:\",metrics.recall_score(test_labels, y_pred_rf))\n",
        "\n",
        "#Justification for not using this model? "
      ],
      "metadata": {
        "id": "BLlxIDPSuoQB",
        "colab": {
          "base_uri": "https://localhost:8080/"
        },
        "outputId": "44e92437-d96f-4eab-cd19-8a3f7ce8d0e4"
      },
      "execution_count": null,
      "outputs": [
        {
          "output_type": "stream",
          "name": "stdout",
          "text": [
            "Train Accuracy: 1.0\n",
            "Test Accuracy: 0.9902912621359223\n",
            "Precision: 1.0\n",
            "Recall: 0.9794520547945206\n"
          ]
        }
      ]
    },
    {
      "cell_type": "code",
      "source": [
        "#SVM\n",
        "svm_clf = svm.SVC(kernel = 'rbf', gamma = 0.1)\n",
        "svm_clf.fit(train_df, train_labels)\n",
        "y_pred_svm = svm_clf.predict(test_df)\n",
        "train_pred_svm = svm_clf.predict(train_df)\n",
        "print(\"Train Accuracy:\",metrics.accuracy_score(train_labels, train_pred_svm))\n",
        "print(\"Test Accuracy:\",metrics.accuracy_score(test_labels, y_pred_svm))\n",
        "print(\"Precision:\",metrics.precision_score(test_labels, y_pred_svm))\n",
        "print(\"Recall:\",metrics.recall_score(test_labels, y_pred_svm))\n",
        "\n",
        "#Classification report SVM \n",
        "print(classification_report(test_labels, y_pred_svm))\n",
        "\n",
        "#Confusion matrix\n",
        "print(confusion_matrix(test_labels, y_pred_svm))\n",
        "color='black'\n",
        "matrix = plot_confusion_matrix(svm_clf, test_df, test_labels, cmap=plt.cm.Blues)\n",
        "matrix.ax_.set_title('Confusion Matrix: SVM', color=color)\n",
        "plt.grid(b=None)\n",
        "plt.xlabel('Predicted Label', color=color)\n",
        "plt.ylabel('True Label', color=color)\n",
        "plt.gcf().axes[0].tick_params(colors=color)\n",
        "plt.gcf().axes[1].tick_params(colors=color)\n",
        "plt.show()"
      ],
      "metadata": {
        "id": "zWLWejRKuoSq",
        "colab": {
          "base_uri": "https://localhost:8080/",
          "height": 610
        },
        "outputId": "5324aeb6-ec30-4f5d-f6e0-8f1f9e30c89b"
      },
      "execution_count": null,
      "outputs": [
        {
          "output_type": "stream",
          "name": "stdout",
          "text": [
            "Train Accuracy: 0.9837837837837838\n",
            "Test Accuracy: 0.9546925566343042\n",
            "Precision: 0.9459459459459459\n",
            "Recall: 0.958904109589041\n",
            "              precision    recall  f1-score   support\n",
            "\n",
            "         0.0       0.96      0.95      0.96       163\n",
            "         1.0       0.95      0.96      0.95       146\n",
            "\n",
            "    accuracy                           0.95       309\n",
            "   macro avg       0.95      0.95      0.95       309\n",
            "weighted avg       0.95      0.95      0.95       309\n",
            "\n",
            "[[155   8]\n",
            " [  6 140]]\n"
          ]
        },
        {
          "output_type": "stream",
          "name": "stderr",
          "text": [
            "Function plot_confusion_matrix is deprecated; Function `plot_confusion_matrix` is deprecated in 1.0 and will be removed in 1.2. Use one of the class methods: ConfusionMatrixDisplay.from_predictions or ConfusionMatrixDisplay.from_estimator.\n"
          ]
        },
        {
          "output_type": "display_data",
          "data": {
            "text/plain": [
              "<Figure size 432x288 with 2 Axes>"
            ],
            "image/png": "[encoded data removed]"
          },
          "metadata": {
            "needs_background": "light"
          }
        }
      ]
    },
    {
      "cell_type": "code",
      "source": [
        "#KNN\n",
        "knn = KNeighborsClassifier(n_neighbors=3)\n",
        "knn.fit(train_df, train_labels)\n",
        "y_pred_knn = knn.predict(test_df)\n",
        "train_pred_knn = knn.predict(train_df)\n",
        "print(\"Train Accuracy:\",metrics.accuracy_score(train_labels, train_pred_knn))\n",
        "print(\"Test Accuracy:\",metrics.accuracy_score(test_labels, y_pred_knn))\n",
        "print(\"Precision:\",metrics.precision_score(test_labels, y_pred_knn))\n",
        "print(\"Recall:\",metrics.recall_score(test_labels, y_pred_knn))\n",
        "\n",
        "#Classification report KNN \n",
        "print(classification_report(test_labels, y_pred_knn))\n",
        "\n",
        "#Confusion matrix\n",
        "print(confusion_matrix(test_labels, y_pred_knn))\n",
        "color='black'\n",
        "matrix = plot_confusion_matrix(knn, test_df, test_labels, cmap=plt.cm.Blues)\n",
        "matrix.ax_.set_title('Confusion Matrix: KNN', color=color)\n",
        "plt.grid(b=None)\n",
        "plt.xlabel('Predicted Label', color=color)\n",
        "plt.ylabel('True Label', color=color)\n",
        "plt.gcf().axes[0].tick_params(colors=color)\n",
        "plt.gcf().axes[1].tick_params(colors=color)\n",
        "plt.show()"
      ],
      "metadata": {
        "colab": {
          "base_uri": "https://localhost:8080/",
          "height": 610
        },
        "id": "O0urmmytb0Nl",
        "outputId": "c3394523-91da-4645-b619-8ae16c843dd5"
      },
      "execution_count": null,
      "outputs": [
        {
          "output_type": "stream",
          "name": "stdout",
          "text": [
            "Train Accuracy: 0.9589189189189189\n",
            "Test Accuracy: 0.9158576051779935\n",
            "Precision: 0.8614457831325302\n",
            "Recall: 0.9794520547945206\n",
            "              precision    recall  f1-score   support\n",
            "\n",
            "         0.0       0.98      0.86      0.92       163\n",
            "         1.0       0.86      0.98      0.92       146\n",
            "\n",
            "    accuracy                           0.92       309\n",
            "   macro avg       0.92      0.92      0.92       309\n",
            "weighted avg       0.92      0.92      0.92       309\n",
            "\n",
            "[[140  23]\n",
            " [  3 143]]\n"
          ]
        },
        {
          "output_type": "stream",
          "name": "stderr",
          "text": [
            "Function plot_confusion_matrix is deprecated; Function `plot_confusion_matrix` is deprecated in 1.0 and will be removed in 1.2. Use one of the class methods: ConfusionMatrixDisplay.from_predictions or ConfusionMatrixDisplay.from_estimator.\n"
          ]
        },
        {
          "output_type": "display_data",
          "data": {
            "text/plain": [
              "<Figure size 432x288 with 2 Axes>"
            ],
            "image/png": "[encoded data removed]"
          },
          "metadata": {
            "needs_background": "light"
          }
        }
      ]
    },
    {
      "cell_type": "code",
      "source": [
        "#Logistic Regression\n",
        "lr = LogisticRegression(penalty = 'l2')\n",
        "lr.fit(train_df, train_labels)\n",
        "y_pred_lr = lr.predict(test_df)\n",
        "train_pred_lr = lr.predict(train_df)\n",
        "print(\"Train Accuracy:\",metrics.accuracy_score(train_labels, train_pred_lr))\n",
        "print(\"Test Accuracy:\",metrics.accuracy_score(test_labels, y_pred_lr))\n",
        "print(\"Precision:\",metrics.precision_score(test_labels, y_pred_lr))\n",
        "print(\"Recall:\",metrics.recall_score(test_labels, y_pred_lr))\n",
        "\n",
        "#Classification report SVM \n",
        "print(classification_report(test_labels, y_pred_lr))\n",
        "\n",
        "#Confusion matrix\n",
        "print(confusion_matrix(test_labels, y_pred_lr))\n",
        "color='black'\n",
        "matrix = plot_confusion_matrix(lr, test_df, test_labels, cmap=plt.cm.Blues)\n",
        "matrix.ax_.set_title('Confusion Matrix: LR', color=color)\n",
        "plt.grid(b=None)\n",
        "plt.xlabel('Predicted Label', color=color)\n",
        "plt.ylabel('True Label', color=color)\n",
        "plt.gcf().axes[0].tick_params(colors=color)\n",
        "plt.gcf().axes[1].tick_params(colors=color)\n",
        "plt.show()"
      ],
      "metadata": {
        "colab": {
          "base_uri": "https://localhost:8080/",
          "height": 610
        },
        "id": "2KLf5mbsb3xk",
        "outputId": "83a7d118-5090-46b8-f41c-e7ed1a8dd19d"
      },
      "execution_count": null,
      "outputs": [
        {
          "output_type": "stream",
          "name": "stdout",
          "text": [
            "Train Accuracy: 0.7156756756756757\n",
            "Test Accuracy: 0.7637540453074434\n",
            "Precision: 0.7482993197278912\n",
            "Recall: 0.7534246575342466\n",
            "              precision    recall  f1-score   support\n",
            "\n",
            "         0.0       0.78      0.77      0.78       163\n",
            "         1.0       0.75      0.75      0.75       146\n",
            "\n",
            "    accuracy                           0.76       309\n",
            "   macro avg       0.76      0.76      0.76       309\n",
            "weighted avg       0.76      0.76      0.76       309\n",
            "\n",
            "[[126  37]\n",
            " [ 36 110]]\n"
          ]
        },
        {
          "output_type": "stream",
          "name": "stderr",
          "text": [
            "Function plot_confusion_matrix is deprecated; Function `plot_confusion_matrix` is deprecated in 1.0 and will be removed in 1.2. Use one of the class methods: ConfusionMatrixDisplay.from_predictions or ConfusionMatrixDisplay.from_estimator.\n"
          ]
        },
        {
          "output_type": "display_data",
          "data": {
            "text/plain": [
              "<Figure size 432x288 with 2 Axes>"
            ],
            "image/png": "[encoded data removed]"
          },
          "metadata": {
            "needs_background": "light"
          }
        }
      ]
    },
    {
      "cell_type": "code",
      "source": [
        "#Neural network - simple MLP \n",
        "nn_model = Sequential([\n",
        "    Dense(input_shape=[8], units=32, activation = tf.nn.relu,kernel_regularizer=tf.keras.regularizers.L2(0.0001)),\n",
        "    Dense(units=16, activation = tf.nn.relu,kernel_regularizer=tf.keras.regularizers.L2(0.0001)),\n",
        "    Dense(name = \"output_layer\", units = 1, activation = tf.nn.sigmoid)\n",
        "])"
      ],
      "metadata": {
        "id": "iTncjmYkb7E1"
      },
      "execution_count": null,
      "outputs": []
    },
    {
      "cell_type": "code",
      "source": [
        "nn_model.summary()"
      ],
      "metadata": {
        "colab": {
          "base_uri": "https://localhost:8080/"
        },
        "id": "O2FUc555cTg4",
        "outputId": "87d23f56-0369-4f52-8163-aa6560ca2acd"
      },
      "execution_count": null,
      "outputs": [
        {
          "output_type": "stream",
          "name": "stdout",
          "text": [
            "Model: \"sequential\"\n",
            "_________________________________________________________________\n",
            " Layer (type)                Output Shape              Param #   \n",
            "=================================================================\n",
            " dense (Dense)               (None, 32)                288       \n",
            "                                                                 \n",
            " dense_1 (Dense)             (None, 16)                528       \n",
            "                                                                 \n",
            " output_layer (Dense)        (None, 1)                 17        \n",
            "                                                                 \n",
            "=================================================================\n",
            "Total params: 833\n",
            "Trainable params: 833\n",
            "Non-trainable params: 0\n",
            "_________________________________________________________________\n"
          ]
        }
      ]
    },
    {
      "cell_type": "code",
      "source": [
        "nn_model.compile(optimizer='adam',           \n",
        "               loss = 'binary_crossentropy',\n",
        "               metrics=['accuracy'])\n",
        "#There are many optimizers to use -- also part of hyperparameter tuning"
      ],
      "metadata": {
        "id": "mIgJLCy2cWv6"
      },
      "execution_count": null,
      "outputs": []
    },
    {
      "cell_type": "code",
      "source": [
        "tf.config.run_functions_eagerly(True)\n",
        "\n",
        "nn_history = nn_model.fit(\n",
        "    train_df\n",
        "    ,train_labels\n",
        "    ,epochs = 100\n",
        "    ,batch_size = 20\n",
        "    ,validation_split=0.20 \n",
        "    ,callbacks=[tf.keras.callbacks.ModelCheckpoint(\"Risk_model_1.h5\",save_best_only=True,save_weights_only=False)\n",
        "                ,tf.keras.callbacks.EarlyStopping(monitor='val_accuracy', patience=2)]\n",
        "    )\n",
        "#The callbacks is a checkpoint to save the model object as a pretrained model so you can use it\n",
        "#Early stopping will stop training when the monitor value (val_accuracy) fails to improve over\n",
        "#the last couple of epochs \n",
        "#Training will terminate early with early stopping--prevents overfitting"
      ],
      "metadata": {
        "colab": {
          "base_uri": "https://localhost:8080/"
        },
        "id": "X2F1HdfRcZsi",
        "outputId": "b9859113-bb57-4795-d230-e09b94df7d95"
      },
      "execution_count": null,
      "outputs": [
        {
          "output_type": "stream",
          "name": "stdout",
          "text": [
            "Epoch 1/100\n"
          ]
        },
        {
          "output_type": "stream",
          "name": "stderr",
          "text": [
            "Even though the `tf.config.experimental_run_functions_eagerly` option is set, this option does not apply to tf.data functions. To force eager execution of tf.data functions, please use `tf.data.experimental.enable_debug_mode()`.\n",
            "Even though the `tf.config.experimental_run_functions_eagerly` option is set, this option does not apply to tf.data functions. To force eager execution of tf.data functions, please use `tf.data.experimental.enable_debug_mode()`.\n"
          ]
        },
        {
          "output_type": "stream",
          "name": "stdout",
          "text": [
            "36/37 [============================>.] - ETA: 0s - loss: 0.7790 - accuracy: 0.5417"
          ]
        },
        {
          "output_type": "stream",
          "name": "stderr",
          "text": [
            "Even though the `tf.config.experimental_run_functions_eagerly` option is set, this option does not apply to tf.data functions. To force eager execution of tf.data functions, please use `tf.data.experimental.enable_debug_mode()`.\n"
          ]
        },
        {
          "output_type": "stream",
          "name": "stdout",
          "text": [
            "\b\b\b\b\b\b\b\b\b\b\b\b\b\b\b\b\b\b\b\b\b\b\b\b\b\b\b\b\b\b\b\b\b\b\b\b\b\b\b\b\b\b\b\b\b\b\b\b\b\b\b\b\b\b\b\b\b\b\b\b\b\b\b\b\b\b\b\b\b\b\b\b\b\b\b\b\b\b\b\b\b\b\r37/37 [==============================] - 3s 87ms/step - loss: 0.7755 - accuracy: 0.5419 - val_loss: 0.6871 - val_accuracy: 0.5135\n",
            "Epoch 2/100\n",
            "37/37 [==============================] - 1s 39ms/step - loss: 0.6697 - accuracy: 0.5743 - val_loss: 0.6301 - val_accuracy: 0.6162\n",
            "Epoch 3/100\n",
            "37/37 [==============================] - 1s 39ms/step - loss: 0.6482 - accuracy: 0.6243 - val_loss: 0.5973 - val_accuracy: 0.7568\n",
            "Epoch 4/100\n",
            "37/37 [==============================] - 2s 44ms/step - loss: 0.5946 - accuracy: 0.7027 - val_loss: 0.5399 - val_accuracy: 0.7892\n",
            "Epoch 5/100\n",
            "37/37 [==============================] - 2s 51ms/step - loss: 0.5732 - accuracy: 0.7243 - val_loss: 0.5482 - val_accuracy: 0.6811\n",
            "Epoch 6/100\n",
            "37/37 [==============================] - 2s 53ms/step - loss: 0.5606 - accuracy: 0.7149 - val_loss: 0.5265 - val_accuracy: 0.7676\n"
          ]
        }
      ]
    },
    {
      "cell_type": "code",
      "source": [
        "#Test accuracy\n",
        "print(f\"Test acc: {nn_model.evaluate(test_df, test_labels)[1]:.3f}\")"
      ],
      "metadata": {
        "colab": {
          "base_uri": "https://localhost:8080/"
        },
        "id": "_EHTQVKWchkT",
        "outputId": "19f0ba67-c754-4a49-fa24-a99a18994a16"
      },
      "execution_count": null,
      "outputs": [
        {
          "output_type": "stream",
          "name": "stdout",
          "text": [
            "10/10 [==============================] - 0s 13ms/step - loss: 0.5052 - accuracy: 0.8058\n",
            "Test acc: 0.806\n"
          ]
        },
        {
          "output_type": "stream",
          "name": "stderr",
          "text": [
            "Even though the `tf.config.experimental_run_functions_eagerly` option is set, this option does not apply to tf.data functions. To force eager execution of tf.data functions, please use `tf.data.experimental.enable_debug_mode()`.\n"
          ]
        }
      ]
    },
    {
      "cell_type": "code",
      "source": [
        "#Ensemble model - max voting classifier\n",
        "\n",
        "#We will use RF, KNN, SVM, LR\n",
        "\n",
        "lr_ensemble = LogisticRegression(penalty = 'l2')\n",
        "svm_ensemble = svm.SVC(kernel = 'rbf', gamma = 0.1,probability=True)\n",
        "knn_ensemble = KNeighborsClassifier(n_neighbors=3)\n",
        "rf_ensemble = RandomForestClassifier(n_estimators = 1000, random_state = 42)\n",
        "\n",
        "ensemble_model = VotingClassifier(\n",
        "    estimators=[('lr', lr_ensemble), ('svm', svm_ensemble), ('rf', rf_ensemble), ('knn', knn_ensemble)], voting='soft')\n",
        "\n",
        "ensemble_model.fit(train_df, train_labels)\n",
        "pred_ensemble = ensemble_model.predict(test_df)\n",
        "train_pred_ensemble = ensemble_model.predict(train_df)\n",
        "print(\"Train Accuracy:\",metrics.accuracy_score(train_labels, train_pred_ensemble))\n",
        "print(\"Test Accuracy:\",metrics.accuracy_score(test_labels, pred_ensemble))\n",
        "print(\"Precision:\",metrics.precision_score(test_labels, pred_ensemble))\n",
        "print(\"Recall:\",metrics.recall_score(test_labels, pred_ensemble))\n",
        "\n",
        "#Classification report \n",
        "print(classification_report(test_labels, pred_ensemble))\n",
        "\n",
        "#Confusion matrix\n",
        "print(confusion_matrix(test_labels, pred_ensemble))\n",
        "color='black'\n",
        "matrix = plot_confusion_matrix(ensemble_model, test_df, test_labels, cmap=plt.cm.Blues)\n",
        "matrix.ax_.set_title('Confusion Matrix: Ensemble Model', color=color)\n",
        "plt.grid(b=None)\n",
        "plt.xlabel('Predicted Label', color=color)\n",
        "plt.ylabel('True Label', color=color)\n",
        "plt.gcf().axes[0].tick_params(colors=color)\n",
        "plt.gcf().axes[1].tick_params(colors=color)\n",
        "plt.show()"
      ],
      "metadata": {
        "colab": {
          "base_uri": "https://localhost:8080/",
          "height": 610
        },
        "id": "YLjz9wY-d54W",
        "outputId": "36431393-d2f6-4542-8531-2f95565bef75"
      },
      "execution_count": null,
      "outputs": [
        {
          "output_type": "stream",
          "name": "stdout",
          "text": [
            "Train Accuracy: 0.9967567567567568\n",
            "Test Accuracy: 0.9644012944983819\n",
            "Precision: 0.9470198675496688\n",
            "Recall: 0.9794520547945206\n",
            "              precision    recall  f1-score   support\n",
            "\n",
            "         0.0       0.98      0.95      0.97       163\n",
            "         1.0       0.95      0.98      0.96       146\n",
            "\n",
            "    accuracy                           0.96       309\n",
            "   macro avg       0.96      0.97      0.96       309\n",
            "weighted avg       0.96      0.96      0.96       309\n",
            "\n",
            "[[155   8]\n",
            " [  3 143]]\n"
          ]
        },
        {
          "output_type": "stream",
          "name": "stderr",
          "text": [
            "Function plot_confusion_matrix is deprecated; Function `plot_confusion_matrix` is deprecated in 1.0 and will be removed in 1.2. Use one of the class methods: ConfusionMatrixDisplay.from_predictions or ConfusionMatrixDisplay.from_estimator.\n"
          ]
        },
        {
          "output_type": "display_data",
          "data": {
            "text/plain": [
              "<Figure size 432x288 with 2 Axes>"
            ],
            "image/png": "[encoded data removed]"
          },
          "metadata": {
            "needs_background": "light"
          }
        }
      ]
    },
    {
      "cell_type": "code",
      "source": [
        "#Saving this model \n",
        "\n",
        "filename = 'final_risk_model.pkl'\n",
        "\n",
        "with open(filename, 'wb') as file:  \n",
        "    pickle.dump(ensemble_model, file)\n",
        "\n",
        "# some time later...\n",
        " \n",
        "# load the model from disk\n",
        "#with open(filename, 'rb') as file:  \n",
        "#    ensemble_model = pickle.load(file)\n",
        "\n",
        "#ensemble_model\n",
        "#result = loaded_model.score(test_df, test_labels)\n",
        "#print(result)\n",
        "\n",
        "# Load the Model back from file\n"
      ],
      "metadata": {
        "id": "ZED6txe2naql"
      },
      "execution_count": null,
      "outputs": []
    },
    {
      "cell_type": "code",
      "source": [
        "#Shap values for the ensemble model (can do this for our final model of choice)\n",
        "# Fits the explainer\n",
        "explainer = shap.Explainer(ensemble_model.predict, test_df)\n",
        "# Calculates the SHAP values - It takes some time\n",
        "shap_values = explainer(test_df)\n"
      ],
      "metadata": {
        "colab": {
          "base_uri": "https://localhost:8080/"
        },
        "id": "jxh_Zct0eU0e",
        "outputId": "0b0f8ad1-fdd0-4476-cdd6-86d035fbd9a9"
      },
      "execution_count": null,
      "outputs": [
        {
          "output_type": "stream",
          "name": "stderr",
          "text": [
            "\n",
            "Compilation is falling back to object mode WITH looplifting enabled because Function \"_delta_masking\" failed type inference due to: Invalid use of type(CPUDispatcher(<function _single_delta_mask at 0x7f2aa959b8b0>)) with parameters (int64, array(float16, 2d, C), array(bool, 1d, C), array(float16, 2d, C), array(float16, 1d, A), int64)\n",
            "\n",
            "During: resolving callee type: type(CPUDispatcher(<function _single_delta_mask at 0x7f2aa959b8b0>))\n",
            "During: typing of call at /usr/local/lib/python3.8/dist-packages/shap/maskers/_tabular.py (217)\n",
            "\n",
            "\n",
            "File \"../usr/local/lib/python3.8/dist-packages/shap/maskers/_tabular.py\", line 217:\n",
            "def _delta_masking(masks, x, curr_delta_inds, varying_rows_out,\n",
            "    <source elided>\n",
            "            curr_delta_inds[dpos] = -curr_delta_inds[dpos] - 1 # -value + 1 is the original index that needs flipped\n",
            "            _single_delta_mask(curr_delta_inds[dpos], masked_inputs_tmp, last_mask, data, x, noop_code)\n",
            "            ^\n",
            "\n",
            "Function \"_delta_masking\" was compiled in object mode without forceobj=True.\n",
            "\n",
            "File \"../usr/local/lib/python3.8/dist-packages/shap/maskers/_tabular.py\", line 197:\n",
            "@jit\n",
            "def _delta_masking(masks, x, curr_delta_inds, varying_rows_out,\n",
            "^\n",
            "\n",
            "\n",
            "Fall-back from the nopython compilation path to the object mode compilation path has been detected, this is deprecated behaviour.\n",
            "\n",
            "For more information visit https://numba.readthedocs.io/en/stable/reference/deprecation.html#deprecation-of-object-mode-fall-back-behaviour-when-using-jit\n",
            "\n",
            "File \"../usr/local/lib/python3.8/dist-packages/shap/maskers/_tabular.py\", line 197:\n",
            "@jit\n",
            "def _delta_masking(masks, x, curr_delta_inds, varying_rows_out,\n",
            "^\n",
            "\n",
            "\n",
            "Compilation is falling back to object mode WITH looplifting enabled because Function _build_fixed_single_output failed at nopython mode lowering due to: float16\n",
            "\n",
            "Compilation is falling back to object mode WITHOUT looplifting enabled because Function \"_build_fixed_single_output\" failed type inference due to: Cannot determine Numba type of <class 'numba.core.dispatcher.LiftedLoop'>\n",
            "\n",
            "File \"../usr/local/lib/python3.8/dist-packages/shap/utils/_masked_model.py\", line 371:\n",
            "def _build_fixed_single_output(averaged_outs, last_outs, outputs, batch_positions, varying_rows, num_varying_rows, link, linearizing_weights):\n",
            "    <source elided>\n",
            "    #     averaged_outs[0] = link(np.mean(last_outs))\n",
            "    for i in range(0, len(averaged_outs)):\n",
            "    ^\n",
            "\n",
            "Function \"_build_fixed_single_output\" was compiled in object mode without forceobj=True, but has lifted loops.\n",
            "\n",
            "File \"../usr/local/lib/python3.8/dist-packages/shap/utils/_masked_model.py\", line 366:\n",
            "def _build_fixed_single_output(averaged_outs, last_outs, outputs, batch_positions, varying_rows, num_varying_rows, link, linearizing_weights):\n",
            "    <source elided>\n",
            "    # to carry over evaluation outputs\n",
            "    sample_count = last_outs.shape[0]\n",
            "    ^\n",
            "\n",
            "\n",
            "Fall-back from the nopython compilation path to the object mode compilation path has been detected, this is deprecated behaviour.\n",
            "\n",
            "For more information visit https://numba.readthedocs.io/en/stable/reference/deprecation.html#deprecation-of-object-mode-fall-back-behaviour-when-using-jit\n",
            "\n",
            "File \"../usr/local/lib/python3.8/dist-packages/shap/utils/_masked_model.py\", line 366:\n",
            "def _build_fixed_single_output(averaged_outs, last_outs, outputs, batch_positions, varying_rows, num_varying_rows, link, linearizing_weights):\n",
            "    <source elided>\n",
            "    # to carry over evaluation outputs\n",
            "    sample_count = last_outs.shape[0]\n",
            "    ^\n",
            "\n",
            "\n",
            "Compilation is falling back to object mode WITHOUT looplifting enabled because Function \"_build_fixed_single_output\" failed type inference due to: No implementation of function Function(<built-in function mul>) found for signature:\n",
            " \n",
            " >>> mul(none, array(float64, 1d, C))\n",
            " \n",
            "There are 14 candidate implementations:\n",
            "  - Of which 12 did not match due to:\n",
            "  Overload of function 'mul': File: <numerous>: Line N/A.\n",
            "    With argument(s): '(none, array(float64, 1d, C))':\n",
            "   No match.\n",
            "  - Of which 2 did not match due to:\n",
            "  Operator Overload in function 'mul': File: unknown: Line unknown.\n",
            "    With argument(s): '(none, array(float64, 1d, C))':\n",
            "   No match for registered cases:\n",
            "    * (int64, int64) -> int64\n",
            "    * (int64, uint64) -> int64\n",
            "    * (uint64, int64) -> int64\n",
            "    * (uint64, uint64) -> uint64\n",
            "    * (float32, float32) -> float32\n",
            "    * (float64, float64) -> float64\n",
            "    * (complex64, complex64) -> complex64\n",
            "    * (complex128, complex128) -> complex128\n",
            "\n",
            "During: typing of intrinsic-call at /usr/local/lib/python3.8/dist-packages/shap/utils/_masked_model.py (378)\n",
            "\n",
            "File \"../usr/local/lib/python3.8/dist-packages/shap/utils/_masked_model.py\", line 378:\n",
            "def _build_fixed_single_output(averaged_outs, last_outs, outputs, batch_positions, varying_rows, num_varying_rows, link, linearizing_weights):\n",
            "    <source elided>\n",
            "            if linearizing_weights is not None:\n",
            "                averaged_outs[i] = np.mean(linearizing_weights * link(last_outs))\n",
            "                ^\n",
            "\n",
            "Function \"_build_fixed_single_output\" was compiled in object mode without forceobj=True.\n",
            "\n",
            "File \"../usr/local/lib/python3.8/dist-packages/shap/utils/_masked_model.py\", line 371:\n",
            "def _build_fixed_single_output(averaged_outs, last_outs, outputs, batch_positions, varying_rows, num_varying_rows, link, linearizing_weights):\n",
            "    <source elided>\n",
            "    #     averaged_outs[0] = link(np.mean(last_outs))\n",
            "    for i in range(0, len(averaged_outs)):\n",
            "    ^\n",
            "\n",
            "\n",
            "Fall-back from the nopython compilation path to the object mode compilation path has been detected, this is deprecated behaviour.\n",
            "\n",
            "For more information visit https://numba.readthedocs.io/en/stable/reference/deprecation.html#deprecation-of-object-mode-fall-back-behaviour-when-using-jit\n",
            "\n",
            "File \"../usr/local/lib/python3.8/dist-packages/shap/utils/_masked_model.py\", line 371:\n",
            "def _build_fixed_single_output(averaged_outs, last_outs, outputs, batch_positions, varying_rows, num_varying_rows, link, linearizing_weights):\n",
            "    <source elided>\n",
            "    #     averaged_outs[0] = link(np.mean(last_outs))\n",
            "    for i in range(0, len(averaged_outs)):\n",
            "    ^\n",
            "\n",
            "Exact explainer: 310it [11:26,  2.24s/it]\n"
          ]
        }
      ]
    },
    {
      "cell_type": "code",
      "source": [
        "def print_feature_importances_shap_values(shap_values, features):\n",
        "    '''\n",
        "    Prints the feature importances based on SHAP values in an ordered way\n",
        "    shap_values -> The SHAP values calculated from a shap.Explainer object\n",
        "    features -> The name of the features, on the order presented to the explainer\n",
        "    '''\n",
        "    # Calculates the feature importance (mean absolute shap value) for each feature\n",
        "    importances = []\n",
        "    for i in range(shap_values.values.shape[1]):\n",
        "        importances.append(np.mean(np.abs(shap_values.values[:, i])))\n",
        "    # Calculates the normalized version\n",
        "    importances_norm = softmax(importances)\n",
        "    # Organize the importances and columns in a dictionary\n",
        "    feature_importances = {fea: imp for imp, fea in zip(importances, features)}\n",
        "    feature_importances_norm = {fea: imp for imp, fea in zip(importances_norm, features)}\n",
        "    # Sorts the dictionary\n",
        "    feature_importances = {k: v for k, v in sorted(feature_importances.items(), key=lambda item: item[1], reverse = True)}\n",
        "    feature_importances_norm= {k: v for k, v in sorted(feature_importances_norm.items(), key=lambda item: item[1], reverse = True)}\n",
        "    # Prints the feature importances\n",
        "    for k, v in feature_importances.items():\n",
        "        print(f\"{k} -> {v:.4f} (softmax = {feature_importances_norm[k]:.4f})\")"
      ],
      "metadata": {
        "id": "BGwWmcwBg-EP"
      },
      "execution_count": null,
      "outputs": []
    },
    {
      "cell_type": "code",
      "source": [
        "print_feature_importances_shap_values(shap_values, df.columns)"
      ],
      "metadata": {
        "id": "5Ixqo6fehBXQ",
        "colab": {
          "base_uri": "https://localhost:8080/"
        },
        "outputId": "a5e69d5b-b315-43e5-e728-1593cea13fbc"
      },
      "execution_count": null,
      "outputs": [
        {
          "output_type": "stream",
          "name": "stdout",
          "text": [
            "iud_years -> 0.1463 (softmax = 0.1340)\n",
            "age -> 0.1210 (softmax = 0.1307)\n",
            "first_sex -> 0.1188 (softmax = 0.1304)\n",
            "contracept_years -> 0.0767 (softmax = 0.1250)\n",
            "num_preg -> 0.0507 (softmax = 0.1218)\n",
            "num_sex_partners -> 0.0488 (softmax = 0.1216)\n",
            "pack_years -> 0.0316 (softmax = 0.1195)\n",
            "stds_num -> 0.0103 (softmax = 0.1170)\n"
          ]
        }
      ]
    },
    {
      "cell_type": "code",
      "source": [
        "shap.plots.bar(shap_values)"
      ],
      "metadata": {
        "id": "QIt56p4nhIbS",
        "colab": {
          "base_uri": "https://localhost:8080/",
          "height": 366
        },
        "outputId": "6e507d04-ab1e-43c1-a5b4-e999e8bed656"
      },
      "execution_count": null,
      "outputs": [
        {
          "output_type": "display_data",
          "data": {
            "text/plain": [
              "<Figure size 576x396 with 1 Axes>"
            ],
            "image/png": "[encoded data removed]"
          },
          "metadata": {}
        }
      ]
    },
    {
      "cell_type": "code",
      "source": [
        "shap.summary_plot(shap_values, plot_type='violin')"
      ],
      "metadata": {
        "id": "6mwO2byuhPuN",
        "colab": {
          "base_uri": "https://localhost:8080/",
          "height": 348
        },
        "outputId": "98e3ff1b-82bc-4da2-ec02-408d6e2abbfb"
      },
      "execution_count": null,
      "outputs": [
        {
          "output_type": "display_data",
          "data": {
            "text/plain": [
              "<Figure size 576x338.4 with 2 Axes>"
            ],
            "image/png": "[encoded data removed]"
          },
          "metadata": {
            "needs_background": "light"
          }
        }
      ]
    },
    {
      "cell_type": "code",
      "source": [
        "df.columns"
      ],
      "metadata": {
        "id": "GaW8WkmOjs-W",
        "colab": {
          "base_uri": "https://localhost:8080/"
        },
        "outputId": "a544ff5b-34ef-4162-c89f-ca7c9a185d35"
      },
      "execution_count": null,
      "outputs": [
        {
          "output_type": "execute_result",
          "data": {
            "text/plain": [
              "Index(['age', 'num_sex_partners', 'first_sex', 'num_preg', 'pack_years',\n",
              "       'contracept_years', 'iud_years', 'stds_num'],\n",
              "      dtype='object')"
            ]
          },
          "metadata": {},
          "execution_count": 67
        }
      ]
    },
    {
      "cell_type": "code",
      "source": [
        "prediction_prob = ensemble_model.predict_proba(pd.DataFrame([[25, 1, 20, 1, 10, 10, 10, 1]]))"
      ],
      "metadata": {
        "colab": {
          "base_uri": "https://localhost:8080/"
        },
        "id": "hzVy86S_tu5G",
        "outputId": "64de4fd1-6c98-4577-f953-0df9d1df3088"
      },
      "execution_count": null,
      "outputs": [
        {
          "output_type": "stream",
          "name": "stderr",
          "text": [
            "X does not have valid feature names, but LogisticRegression was fitted with feature names\n",
            "X does not have valid feature names, but SVC was fitted with feature names\n",
            "X does not have valid feature names, but RandomForestClassifier was fitted with feature names\n",
            "X does not have valid feature names, but KNeighborsClassifier was fitted with feature names\n"
          ]
        }
      ]
    },
    {
      "cell_type": "code",
      "source": [
        "prediction_prob[:,1]\n"
      ],
      "metadata": {
        "colab": {
          "base_uri": "https://localhost:8080/"
        },
        "id": "ZcYRhariuR_6",
        "outputId": "66010cce-6c15-4f60-9cd3-2bbaf6c0692b"
      },
      "execution_count": null,
      "outputs": [
        {
          "output_type": "execute_result",
          "data": {
            "text/plain": [
              "array([0.29172091])"
            ]
          },
          "metadata": {},
          "execution_count": 81
        }
      ]
    },
    {
      "cell_type": "code",
      "source": [
        "ensemble_model.classes_"
      ],
      "metadata": {
        "colab": {
          "base_uri": "https://localhost:8080/"
        },
        "id": "JIB4MBuAufCY",
        "outputId": "c341b336-a2d9-47e7-d408-1ffe9b8273a4"
      },
      "execution_count": null,
      "outputs": [
        {
          "output_type": "execute_result",
          "data": {
            "text/plain": [
              "array([0., 1.], dtype=float16)"
            ]
          },
          "metadata": {},
          "execution_count": 74
        }
      ]
    },
    {
      "cell_type": "code",
      "source": [
        "# Define the prediction function\n",
        "import warnings\n",
        "warnings.filterwarnings(\"ignore\")\n",
        "def predict(model, age,num_sex_partners,first_sex,num_preg,pack_years,contracept_years,iud_years,stds_num):\n",
        "    #Predicting the price of the carat\n",
        "    prediction_prob = model.predict_proba(pd.DataFrame([[age,num_sex_partners,first_sex,num_preg,pack_years,contracept_years,iud_years,stds_num]]))\n",
        "    risk_array = prediction_prob[:, 1]\n",
        "    risk = risk_array.astype(float)\n",
        "    if risk < 0.25:\n",
        "        print('Low Risk')\n",
        "    elif (0.25 <= risk < 0.5):\n",
        "        print('Low Moderate Risk')\n",
        "    elif (0.5 <= risk < 0.75):\n",
        "        print('High Moderate Risk')\n",
        "    else:\n",
        "        print('High Risk')\n",
        "\n",
        "\n"
      ],
      "metadata": {
        "id": "XKMKDS2jkD_V"
      },
      "execution_count": null,
      "outputs": []
    },
    {
      "cell_type": "code",
      "source": [
        "predict(ensemble_model, 25, 1, 20, 1, 10, 10, 10, 1)\n"
      ],
      "metadata": {
        "id": "SD2q2Em5kEB_",
        "colab": {
          "base_uri": "https://localhost:8080/"
        },
        "outputId": "da233cb3-b7f2-4b14-9f9c-365edf6e160d"
      },
      "execution_count": null,
      "outputs": [
        {
          "output_type": "stream",
          "name": "stdout",
          "text": [
            "Low Moderate Risk\n"
          ]
        }
      ]
    },
    {
      "cell_type": "code",
      "source": [
        "# Define the prediction function\n",
        "import warnings\n",
        "warnings.filterwarnings(\"ignore\")\n",
        "def predict(model, age,num_sex_partners,first_sex,num_preg,pack_years,contracept_years,iud_years,stds_num):\n",
        "    #Predicting the price of the carat\n",
        "    prediction_prob = model.predict_proba(pd.DataFrame([[age,num_sex_partners,first_sex,num_preg,pack_years,contracept_years,iud_years,stds_num]]))\n",
        "    risk_array = prediction_prob[:, 1]\n",
        "    risk = risk_array.astype(float)\n",
        "    if risk < 0.25:\n",
        "        category = 'Low Risk'\n",
        "    elif (0.25 <= risk < 0.5):\n",
        "        category = 'Low Moderate Risk'\n",
        "    elif (0.5 <= risk < 0.75):\n",
        "        category = 'High Moderate Risk'\n",
        "    else:\n",
        "        category = 'High Risk'\n",
        "    return category "
      ],
      "metadata": {
        "id": "jmOYJvGQzAiX"
      },
      "execution_count": null,
      "outputs": []
    },
    {
      "cell_type": "code",
      "source": [
        "category = predict(ensemble_model, 25, 1, 20, 1, 10, 10, 10, 1)\n",
        "category\n",
        "print('Your risk category is {}'.format(category))"
      ],
      "metadata": {
        "colab": {
          "base_uri": "https://localhost:8080/"
        },
        "id": "BK1QtunWzIgc",
        "outputId": "6dc67da8-3beb-40d2-8689-f44149ab53bb"
      },
      "execution_count": null,
      "outputs": [
        {
          "output_type": "stream",
          "name": "stdout",
          "text": [
            "Your risk category is Low Moderate Risk\n"
          ]
        }
      ]
    }
  ]
}