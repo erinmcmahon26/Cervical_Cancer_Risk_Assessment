{
  "nbformat": 4,
  "nbformat_minor": 0,
  "metadata": {
    "colab": {
      "provenance": [],
      "collapsed_sections": [
        "mTTKyNNBpWyU",
        "dSU30-9Dp2Vp"
      ],
      "toc_visible": true,
      "authorship_tag": "ABX9TyPz8IU4VxxKc2cPYrekmyxu",
      "include_colab_link": true
    },
    "kernelspec": {
      "name": "python3",
      "display_name": "Python 3"
    },
    "language_info": {
      "name": "python"
    }
  },
  "cells": [
    {
      "cell_type": "markdown",
      "metadata": {
        "id": "view-in-github",
        "colab_type": "text"
      },
      "source": [
        "<a href=\"https://colab.research.google.com/github/erinmcmahon26/Cervical_Cancer_Risk_Assessment/blob/main/CervicalCancerImages.ipynb\" target=\"_parent\"><img src=\"https://colab.research.google.com/assets/colab-badge.svg\" alt=\"Open In Colab\"/></a>"
      ]
    },
    {
      "cell_type": "markdown",
      "source": [
        "The models in this notebook aren't outputted in the notebook itself. I wrote them to databricks."
      ],
      "metadata": {
        "id": "l2axWnByyCrt"
      }
    },
    {
      "cell_type": "code",
      "execution_count": 18,
      "metadata": {
        "colab": {
          "base_uri": "https://localhost:8080/"
        },
        "id": "xRL-qxpGj1zO",
        "outputId": "22739a69-24a3-4fc2-f6b1-52b1280e1aa6"
      },
      "outputs": [
        {
          "output_type": "stream",
          "name": "stdout",
          "text": [
            "Looking in indexes: https://pypi.org/simple, https://us-python.pkg.dev/colab-wheels/public/simple/\n",
            "Requirement already satisfied: kaggle in /usr/local/lib/python3.8/dist-packages (1.5.12)\n",
            "Requirement already satisfied: six>=1.10 in /usr/local/lib/python3.8/dist-packages (from kaggle) (1.15.0)\n",
            "Requirement already satisfied: python-slugify in /usr/local/lib/python3.8/dist-packages (from kaggle) (7.0.0)\n",
            "Requirement already satisfied: python-dateutil in /usr/local/lib/python3.8/dist-packages (from kaggle) (2.8.2)\n",
            "Requirement already satisfied: tqdm in /usr/local/lib/python3.8/dist-packages (from kaggle) (4.64.1)\n",
            "Requirement already satisfied: urllib3 in /usr/local/lib/python3.8/dist-packages (from kaggle) (1.26.14)\n",
            "Requirement already satisfied: requests in /usr/local/lib/python3.8/dist-packages (from kaggle) (2.28.2)\n",
            "Requirement already satisfied: certifi in /usr/local/lib/python3.8/dist-packages (from kaggle) (2022.12.7)\n",
            "Requirement already satisfied: text-unidecode>=1.3 in /usr/local/lib/python3.8/dist-packages (from python-slugify->kaggle) (1.3)\n",
            "Requirement already satisfied: idna<4,>=2.5 in /usr/local/lib/python3.8/dist-packages (from requests->kaggle) (2.10)\n",
            "Requirement already satisfied: charset-normalizer<4,>=2 in /usr/local/lib/python3.8/dist-packages (from requests->kaggle) (2.1.1)\n"
          ]
        }
      ],
      "source": [
        "!pip install kaggle"
      ]
    },
    {
      "cell_type": "markdown",
      "source": [
        "# Upload Kaggle API token"
      ],
      "metadata": {
        "id": "QPjlLdDCoBDQ"
      }
    },
    {
      "cell_type": "code",
      "source": [
        "from google.colab import files\n",
        "\n",
        "uploaded = files.upload()\n",
        "\n",
        "for fn in uploaded.keys():\n",
        "  print('User uploaded file \"{name}\" with length {length} bytes'.format(\n",
        "      name=fn, length=len(uploaded[fn])))\n",
        "  \n",
        "# Then move kaggle.json into the folder where the API expects to find it.\n",
        "!mkdir -p ~/.kaggle/ && mv kaggle.json ~/.kaggle/ && chmod 600 ~/.kaggle/kaggle.json"
      ],
      "metadata": {
        "colab": {
          "base_uri": "https://localhost:8080/",
          "height": 90
        },
        "id": "xFGRjzJsoDIr",
        "outputId": "e58e21a8-52eb-4d7d-e67e-fc9d28337591"
      },
      "execution_count": 19,
      "outputs": [
        {
          "output_type": "display_data",
          "data": {
            "text/plain": [
              "<IPython.core.display.HTML object>"
            ],
            "text/html": [
              "\n",
              "     <input type=\"file\" id=\"files-d2ce4e48-3679-4c17-bc8c-fc7c18cbf6b8\" name=\"files[]\" multiple disabled\n",
              "        style=\"border:none\" />\n",
              "     <output id=\"result-d2ce4e48-3679-4c17-bc8c-fc7c18cbf6b8\">\n",
              "      Upload widget is only available when the cell has been executed in the\n",
              "      current browser session. Please rerun this cell to enable.\n",
              "      </output>\n",
              "      <script>// Copyright 2017 Google LLC\n",
              "//\n",
              "// Licensed under the Apache License, Version 2.0 (the \"License\");\n",
              "// you may not use this file except in compliance with the License.\n",
              "// You may obtain a copy of the License at\n",
              "//\n",
              "//      http://www.apache.org/licenses/LICENSE-2.0\n",
              "//\n",
              "// Unless required by applicable law or agreed to in writing, software\n",
              "// distributed under the License is distributed on an \"AS IS\" BASIS,\n",
              "// WITHOUT WARRANTIES OR CONDITIONS OF ANY KIND, either express or implied.\n",
              "// See the License for the specific language governing permissions and\n",
              "// limitations under the License.\n",
              "\n",
              "/**\n",
              " * @fileoverview Helpers for google.colab Python module.\n",
              " */\n",
              "(function(scope) {\n",
              "function span(text, styleAttributes = {}) {\n",
              "  const element = document.createElement('span');\n",
              "  element.textContent = text;\n",
              "  for (const key of Object.keys(styleAttributes)) {\n",
              "    element.style[key] = styleAttributes[key];\n",
              "  }\n",
              "  return element;\n",
              "}\n",
              "\n",
              "// Max number of bytes which will be uploaded at a time.\n",
              "const MAX_PAYLOAD_SIZE = 100 * 1024;\n",
              "\n",
              "function _uploadFiles(inputId, outputId) {\n",
              "  const steps = uploadFilesStep(inputId, outputId);\n",
              "  const outputElement = document.getElementById(outputId);\n",
              "  // Cache steps on the outputElement to make it available for the next call\n",
              "  // to uploadFilesContinue from Python.\n",
              "  outputElement.steps = steps;\n",
              "\n",
              "  return _uploadFilesContinue(outputId);\n",
              "}\n",
              "\n",
              "// This is roughly an async generator (not supported in the browser yet),\n",
              "// where there are multiple asynchronous steps and the Python side is going\n",
              "// to poll for completion of each step.\n",
              "// This uses a Promise to block the python side on completion of each step,\n",
              "// then passes the result of the previous step as the input to the next step.\n",
              "function _uploadFilesContinue(outputId) {\n",
              "  const outputElement = document.getElementById(outputId);\n",
              "  const steps = outputElement.steps;\n",
              "\n",
              "  const next = steps.next(outputElement.lastPromiseValue);\n",
              "  return Promise.resolve(next.value.promise).then((value) => {\n",
              "    // Cache the last promise value to make it available to the next\n",
              "    // step of the generator.\n",
              "    outputElement.lastPromiseValue = value;\n",
              "    return next.value.response;\n",
              "  });\n",
              "}\n",
              "\n",
              "/**\n",
              " * Generator function which is called between each async step of the upload\n",
              " * process.\n",
              " * @param {string} inputId Element ID of the input file picker element.\n",
              " * @param {string} outputId Element ID of the output display.\n",
              " * @return {!Iterable<!Object>} Iterable of next steps.\n",
              " */\n",
              "function* uploadFilesStep(inputId, outputId) {\n",
              "  const inputElement = document.getElementById(inputId);\n",
              "  inputElement.disabled = false;\n",
              "\n",
              "  const outputElement = document.getElementById(outputId);\n",
              "  outputElement.innerHTML = '';\n",
              "\n",
              "  const pickedPromise = new Promise((resolve) => {\n",
              "    inputElement.addEventListener('change', (e) => {\n",
              "      resolve(e.target.files);\n",
              "    });\n",
              "  });\n",
              "\n",
              "  const cancel = document.createElement('button');\n",
              "  inputElement.parentElement.appendChild(cancel);\n",
              "  cancel.textContent = 'Cancel upload';\n",
              "  const cancelPromise = new Promise((resolve) => {\n",
              "    cancel.onclick = () => {\n",
              "      resolve(null);\n",
              "    };\n",
              "  });\n",
              "\n",
              "  // Wait for the user to pick the files.\n",
              "  const files = yield {\n",
              "    promise: Promise.race([pickedPromise, cancelPromise]),\n",
              "    response: {\n",
              "      action: 'starting',\n",
              "    }\n",
              "  };\n",
              "\n",
              "  cancel.remove();\n",
              "\n",
              "  // Disable the input element since further picks are not allowed.\n",
              "  inputElement.disabled = true;\n",
              "\n",
              "  if (!files) {\n",
              "    return {\n",
              "      response: {\n",
              "        action: 'complete',\n",
              "      }\n",
              "    };\n",
              "  }\n",
              "\n",
              "  for (const file of files) {\n",
              "    const li = document.createElement('li');\n",
              "    li.append(span(file.name, {fontWeight: 'bold'}));\n",
              "    li.append(span(\n",
              "        `(${file.type || 'n/a'}) - ${file.size} bytes, ` +\n",
              "        `last modified: ${\n",
              "            file.lastModifiedDate ? file.lastModifiedDate.toLocaleDateString() :\n",
              "                                    'n/a'} - `));\n",
              "    const percent = span('0% done');\n",
              "    li.appendChild(percent);\n",
              "\n",
              "    outputElement.appendChild(li);\n",
              "\n",
              "    const fileDataPromise = new Promise((resolve) => {\n",
              "      const reader = new FileReader();\n",
              "      reader.onload = (e) => {\n",
              "        resolve(e.target.result);\n",
              "      };\n",
              "      reader.readAsArrayBuffer(file);\n",
              "    });\n",
              "    // Wait for the data to be ready.\n",
              "    let fileData = yield {\n",
              "      promise: fileDataPromise,\n",
              "      response: {\n",
              "        action: 'continue',\n",
              "      }\n",
              "    };\n",
              "\n",
              "    // Use a chunked sending to avoid message size limits. See b/62115660.\n",
              "    let position = 0;\n",
              "    do {\n",
              "      const length = Math.min(fileData.byteLength - position, MAX_PAYLOAD_SIZE);\n",
              "      const chunk = new Uint8Array(fileData, position, length);\n",
              "      position += length;\n",
              "\n",
              "      const base64 = btoa(String.fromCharCode.apply(null, chunk));\n",
              "      yield {\n",
              "        response: {\n",
              "          action: 'append',\n",
              "          file: file.name,\n",
              "          data: base64,\n",
              "        },\n",
              "      };\n",
              "\n",
              "      let percentDone = fileData.byteLength === 0 ?\n",
              "          100 :\n",
              "          Math.round((position / fileData.byteLength) * 100);\n",
              "      percent.textContent = `${percentDone}% done`;\n",
              "\n",
              "    } while (position < fileData.byteLength);\n",
              "  }\n",
              "\n",
              "  // All done.\n",
              "  yield {\n",
              "    response: {\n",
              "      action: 'complete',\n",
              "    }\n",
              "  };\n",
              "}\n",
              "\n",
              "scope.google = scope.google || {};\n",
              "scope.google.colab = scope.google.colab || {};\n",
              "scope.google.colab._files = {\n",
              "  _uploadFiles,\n",
              "  _uploadFilesContinue,\n",
              "};\n",
              "})(self);\n",
              "</script> "
            ]
          },
          "metadata": {}
        },
        {
          "output_type": "stream",
          "name": "stdout",
          "text": [
            "Saving kaggle.json to kaggle.json\n",
            "User uploaded file \"kaggle.json\" with length 66 bytes\n"
          ]
        }
      ]
    },
    {
      "cell_type": "markdown",
      "source": [
        "# Get Data From Kaggle"
      ],
      "metadata": {
        "id": "6eihB8OGpURA"
      }
    },
    {
      "cell_type": "code",
      "source": [
        "!kaggle datasets download -d prahladmehandiratta/cervical-cancer-largest-dataset-sipakmed"
      ],
      "metadata": {
        "colab": {
          "base_uri": "https://localhost:8080/"
        },
        "id": "PzxEy0eOoKzy",
        "outputId": "3ce2a654-d53d-4175-cd5b-955346110526"
      },
      "execution_count": 20,
      "outputs": [
        {
          "output_type": "stream",
          "name": "stdout",
          "text": [
            "cervical-cancer-largest-dataset-sipakmed.zip: Skipping, found more recently modified local copy (use --force to force download)\n"
          ]
        }
      ]
    },
    {
      "cell_type": "markdown",
      "source": [
        "# Unzip Kaggle Data"
      ],
      "metadata": {
        "id": "mTTKyNNBpWyU"
      }
    },
    {
      "cell_type": "code",
      "source": [
        "!unzip cervical-cancer-largest-dataset-sipakmed.zip"
      ],
      "metadata": {
        "colab": {
          "base_uri": "https://localhost:8080/"
        },
        "id": "gp2tT7a5oT2G",
        "outputId": "5fe41354-c974-495b-8636-9184b59df4d4"
      },
      "execution_count": 21,
      "outputs": [
        {
          "output_type": "stream",
          "name": "stdout",
          "text": [
            "Archive:  cervical-cancer-largest-dataset-sipakmed.zip\n",
            "replace im_Dyskeratotic/im_Dyskeratotic/001.bmp? [y]es, [n]o, [A]ll, [N]one, [r]ename: "
          ]
        }
      ]
    },
    {
      "cell_type": "markdown",
      "source": [
        "# Set up MLFlow"
      ],
      "metadata": {
        "id": "4f2ShEvpv2c1"
      }
    },
    {
      "cell_type": "markdown",
      "source": [
        "https://medium.com/the-point-collections/intro-to-mlflow-with-colab-part-1-2-beb80c960ad9"
      ],
      "metadata": {
        "id": "7gc65tAaw6PF"
      }
    },
    {
      "cell_type": "code",
      "source": [
        "!pip install mlflow\n",
        "!databricks configure --host https://community.cloud.databricks.com/"
      ],
      "metadata": {
        "colab": {
          "base_uri": "https://localhost:8080/"
        },
        "id": "ZY0Tkgu1v03s",
        "outputId": "605fdce7-8eea-4979-b8b5-074949a1e980"
      },
      "execution_count": 22,
      "outputs": [
        {
          "output_type": "stream",
          "name": "stdout",
          "text": [
            "Looking in indexes: https://pypi.org/simple, https://us-python.pkg.dev/colab-wheels/public/simple/\n",
            "Requirement already satisfied: mlflow in /usr/local/lib/python3.8/dist-packages (2.1.1)\n",
            "Requirement already satisfied: protobuf<5,>=3.12.0 in /usr/local/lib/python3.8/dist-packages (from mlflow) (3.19.6)\n",
            "Requirement already satisfied: requests<3,>=2.17.3 in /usr/local/lib/python3.8/dist-packages (from mlflow) (2.28.2)\n",
            "Requirement already satisfied: importlib-metadata!=4.7.0,<6,>=3.7.0 in /usr/local/lib/python3.8/dist-packages (from mlflow) (5.2.0)\n",
            "Requirement already satisfied: scipy<2 in /usr/local/lib/python3.8/dist-packages (from mlflow) (1.7.3)\n",
            "Requirement already satisfied: entrypoints<1 in /usr/local/lib/python3.8/dist-packages (from mlflow) (0.4)\n",
            "Requirement already satisfied: sqlalchemy<2,>=1.4.0 in /usr/local/lib/python3.8/dist-packages (from mlflow) (1.4.46)\n",
            "Requirement already satisfied: numpy<2 in /usr/local/lib/python3.8/dist-packages (from mlflow) (1.21.6)\n",
            "Requirement already satisfied: sqlparse<1,>=0.4.0 in /usr/local/lib/python3.8/dist-packages (from mlflow) (0.4.3)\n",
            "Requirement already satisfied: markdown<4,>=3.3 in /usr/local/lib/python3.8/dist-packages (from mlflow) (3.4.1)\n",
            "Requirement already satisfied: alembic<2 in /usr/local/lib/python3.8/dist-packages (from mlflow) (1.9.2)\n",
            "Requirement already satisfied: gunicorn<21 in /usr/local/lib/python3.8/dist-packages (from mlflow) (20.1.0)\n",
            "Requirement already satisfied: docker<7,>=4.0.0 in /usr/local/lib/python3.8/dist-packages (from mlflow) (6.0.1)\n",
            "Requirement already satisfied: databricks-cli<1,>=0.8.7 in /usr/local/lib/python3.8/dist-packages (from mlflow) (0.17.4)\n",
            "Requirement already satisfied: gitpython<4,>=2.1.0 in /usr/local/lib/python3.8/dist-packages (from mlflow) (3.1.30)\n",
            "Requirement already satisfied: pyyaml<7,>=5.1 in /usr/local/lib/python3.8/dist-packages (from mlflow) (6.0)\n",
            "Requirement already satisfied: Jinja2<4,>=2.11 in /usr/local/lib/python3.8/dist-packages (from mlflow) (2.11.3)\n",
            "Requirement already satisfied: pyarrow<11,>=4.0.0 in /usr/local/lib/python3.8/dist-packages (from mlflow) (9.0.0)\n",
            "Requirement already satisfied: packaging<23 in /usr/local/lib/python3.8/dist-packages (from mlflow) (21.3)\n",
            "Requirement already satisfied: scikit-learn<2 in /usr/local/lib/python3.8/dist-packages (from mlflow) (1.0.2)\n",
            "Requirement already satisfied: cloudpickle<3 in /usr/local/lib/python3.8/dist-packages (from mlflow) (2.2.0)\n",
            "Requirement already satisfied: click<9,>=7.0 in /usr/local/lib/python3.8/dist-packages (from mlflow) (7.1.2)\n",
            "Requirement already satisfied: pytz<2023 in /usr/local/lib/python3.8/dist-packages (from mlflow) (2022.7)\n",
            "Requirement already satisfied: matplotlib<4 in /usr/local/lib/python3.8/dist-packages (from mlflow) (3.2.2)\n",
            "Requirement already satisfied: Flask<3 in /usr/local/lib/python3.8/dist-packages (from mlflow) (1.1.4)\n",
            "Requirement already satisfied: pandas<2 in /usr/local/lib/python3.8/dist-packages (from mlflow) (1.3.5)\n",
            "Requirement already satisfied: shap<1,>=0.40 in /usr/local/lib/python3.8/dist-packages (from mlflow) (0.41.0)\n",
            "Requirement already satisfied: querystring-parser<2 in /usr/local/lib/python3.8/dist-packages (from mlflow) (1.2.4)\n",
            "Requirement already satisfied: Mako in /usr/local/lib/python3.8/dist-packages (from alembic<2->mlflow) (1.2.4)\n",
            "Requirement already satisfied: importlib-resources in /usr/local/lib/python3.8/dist-packages (from alembic<2->mlflow) (5.10.2)\n",
            "Requirement already satisfied: six>=1.10.0 in /usr/local/lib/python3.8/dist-packages (from databricks-cli<1,>=0.8.7->mlflow) (1.15.0)\n",
            "Requirement already satisfied: tabulate>=0.7.7 in /usr/local/lib/python3.8/dist-packages (from databricks-cli<1,>=0.8.7->mlflow) (0.8.10)\n",
            "Requirement already satisfied: pyjwt>=1.7.0 in /usr/local/lib/python3.8/dist-packages (from databricks-cli<1,>=0.8.7->mlflow) (2.6.0)\n",
            "Requirement already satisfied: oauthlib>=3.1.0 in /usr/local/lib/python3.8/dist-packages (from databricks-cli<1,>=0.8.7->mlflow) (3.2.2)\n",
            "Requirement already satisfied: urllib3>=1.26.0 in /usr/local/lib/python3.8/dist-packages (from docker<7,>=4.0.0->mlflow) (1.26.14)\n",
            "Requirement already satisfied: websocket-client>=0.32.0 in /usr/local/lib/python3.8/dist-packages (from docker<7,>=4.0.0->mlflow) (1.5.0)\n",
            "Requirement already satisfied: itsdangerous<2.0,>=0.24 in /usr/local/lib/python3.8/dist-packages (from Flask<3->mlflow) (1.1.0)\n",
            "Requirement already satisfied: Werkzeug<2.0,>=0.15 in /usr/local/lib/python3.8/dist-packages (from Flask<3->mlflow) (1.0.1)\n",
            "Requirement already satisfied: gitdb<5,>=4.0.1 in /usr/local/lib/python3.8/dist-packages (from gitpython<4,>=2.1.0->mlflow) (4.0.10)\n",
            "Requirement already satisfied: setuptools>=3.0 in /usr/local/lib/python3.8/dist-packages (from gunicorn<21->mlflow) (57.4.0)\n",
            "Requirement already satisfied: zipp>=0.5 in /usr/local/lib/python3.8/dist-packages (from importlib-metadata!=4.7.0,<6,>=3.7.0->mlflow) (3.11.0)\n",
            "Requirement already satisfied: MarkupSafe>=0.23 in /usr/local/lib/python3.8/dist-packages (from Jinja2<4,>=2.11->mlflow) (2.0.1)\n",
            "Requirement already satisfied: pyparsing!=2.0.4,!=2.1.2,!=2.1.6,>=2.0.1 in /usr/local/lib/python3.8/dist-packages (from matplotlib<4->mlflow) (3.0.9)\n",
            "Requirement already satisfied: kiwisolver>=1.0.1 in /usr/local/lib/python3.8/dist-packages (from matplotlib<4->mlflow) (1.4.4)\n",
            "Requirement already satisfied: cycler>=0.10 in /usr/local/lib/python3.8/dist-packages (from matplotlib<4->mlflow) (0.11.0)\n",
            "Requirement already satisfied: python-dateutil>=2.1 in /usr/local/lib/python3.8/dist-packages (from matplotlib<4->mlflow) (2.8.2)\n",
            "Requirement already satisfied: idna<4,>=2.5 in /usr/local/lib/python3.8/dist-packages (from requests<3,>=2.17.3->mlflow) (2.10)\n",
            "Requirement already satisfied: certifi>=2017.4.17 in /usr/local/lib/python3.8/dist-packages (from requests<3,>=2.17.3->mlflow) (2022.12.7)\n",
            "Requirement already satisfied: charset-normalizer<4,>=2 in /usr/local/lib/python3.8/dist-packages (from requests<3,>=2.17.3->mlflow) (2.1.1)\n",
            "Requirement already satisfied: threadpoolctl>=2.0.0 in /usr/local/lib/python3.8/dist-packages (from scikit-learn<2->mlflow) (3.1.0)\n",
            "Requirement already satisfied: joblib>=0.11 in /usr/local/lib/python3.8/dist-packages (from scikit-learn<2->mlflow) (1.2.0)\n",
            "Requirement already satisfied: numba in /usr/local/lib/python3.8/dist-packages (from shap<1,>=0.40->mlflow) (0.56.4)\n",
            "Requirement already satisfied: tqdm>4.25.0 in /usr/local/lib/python3.8/dist-packages (from shap<1,>=0.40->mlflow) (4.64.1)\n",
            "Requirement already satisfied: slicer==0.0.7 in /usr/local/lib/python3.8/dist-packages (from shap<1,>=0.40->mlflow) (0.0.7)\n",
            "Requirement already satisfied: greenlet!=0.4.17 in /usr/local/lib/python3.8/dist-packages (from sqlalchemy<2,>=1.4.0->mlflow) (2.0.1)\n",
            "Requirement already satisfied: smmap<6,>=3.0.1 in /usr/local/lib/python3.8/dist-packages (from gitdb<5,>=4.0.1->gitpython<4,>=2.1.0->mlflow) (5.0.0)\n",
            "Requirement already satisfied: llvmlite<0.40,>=0.39.0dev0 in /usr/local/lib/python3.8/dist-packages (from numba->shap<1,>=0.40->mlflow) (0.39.1)\n",
            "Username: rachelsickler2024@u.northwestern.edu\n",
            "Password: \n",
            "Repeat for confirmation: \n"
          ]
        }
      ]
    },
    {
      "cell_type": "code",
      "source": [
        "import mlflow\n",
        "mlflow.set_tracking_uri(\"databricks\")\n",
        "mlflow.set_experiment(\"/Users/rachelsickler2024@u.northwestern.edu/cervical_cancer_img\")"
      ],
      "metadata": {
        "colab": {
          "base_uri": "https://localhost:8080/"
        },
        "id": "37tA3bB8wKN3",
        "outputId": "e7130f58-3084-4b1e-8683-ee6eb0d2347e"
      },
      "execution_count": 23,
      "outputs": [
        {
          "output_type": "execute_result",
          "data": {
            "text/plain": [
              "<Experiment: artifact_location='dbfs:/databricks/mlflow-tracking/1726028455844524', creation_time=1674932314140, experiment_id='1726028455844524', last_update_time=1674932314140, lifecycle_stage='active', name='/Users/rachelsickler2024@u.northwestern.edu/cervical_cancer_img', tags={'mlflow.experiment.sourceName': '/Users/rachelsickler2024@u.northwestern.edu/cervical_cancer_img',\n",
              " 'mlflow.experimentType': 'MLFLOW_EXPERIMENT',\n",
              " 'mlflow.ownerEmail': 'rachelsickler2024@u.northwestern.edu',\n",
              " 'mlflow.ownerId': '382620755183241'}>"
            ]
          },
          "metadata": {},
          "execution_count": 23
        }
      ]
    },
    {
      "cell_type": "markdown",
      "source": [
        "# Other Imports"
      ],
      "metadata": {
        "id": "bnJAkzyb2RY6"
      }
    },
    {
      "cell_type": "code",
      "source": [
        "from sklearn.metrics import accuracy_score, precision_score, classification_report, confusion_matrix, roc_curve, roc_auc_score, make_scorer, recall_score, f1_score\n",
        "from keras.applications.resnet import ResNet50\n",
        "from keras.applications.densenet import DenseNet121\n",
        "from keras.applications.efficientnet import EfficientNetB5"
      ],
      "metadata": {
        "id": "5WBdVT2M2PuW"
      },
      "execution_count": 88,
      "outputs": []
    },
    {
      "cell_type": "markdown",
      "source": [
        "# EDA"
      ],
      "metadata": {
        "id": "dSU30-9Dp2Vp"
      }
    },
    {
      "cell_type": "code",
      "source": [
        "# Import modules\n",
        "import pandas as pd\n",
        "import numpy as np\n",
        "import matplotlib.pyplot as plt\n",
        "import seaborn as sns\n",
        "\n",
        "# from matplotlib.image import imread\n",
        "# from os import makedirs\n",
        "# from os import listdir\n",
        "import os\n",
        "# from shutil import copyfile\n",
        "# from random import seed\n",
        "# from random import random\n",
        "from PIL import Image\n",
        "import cv2\n",
        "\n",
        "import tensorflow as tf\n",
        "from tensorflow import keras\n",
        "# import sys\n",
        "from tensorflow.keras.utils import to_categorical\n",
        "from keras.models import Sequential\n",
        "from keras.layers import Conv2D\n",
        "from keras.layers import MaxPooling2D\n",
        "from keras.layers import Dense\n",
        "from keras.layers import Flatten\n",
        "from keras.layers import Dropout\n",
        "from tensorflow.keras.optimizers import SGD\n",
        "from keras.applications.vgg16 import VGG16\n",
        "from keras.models import Model\n",
        "from keras.preprocessing.image import ImageDataGenerator\n",
        "\n",
        "import warnings\n",
        "warnings.filterwarnings(\"ignore\")"
      ],
      "metadata": {
        "id": "nTcDzZL5pNbB"
      },
      "execution_count": 24,
      "outputs": []
    },
    {
      "cell_type": "code",
      "source": [
        "data=[]\n",
        "labels=[]\n",
        "\n",
        "height = 64\n",
        "width = 64\n",
        "channels = 3\n",
        "classes = 43\n",
        "n_inputs = height * width * channels\n",
        "\n",
        "path1 = \"im_Dyskeratotic/im_Dyskeratotic/CROPPED/\"\n",
        "path2 = \"im_Koilocytotic/im_Koilocytotic/CROPPED/\"\n",
        "path3 = \"im_Metaplastic/im_Metaplastic/CROPPED/\"\n",
        "path4 = \"im_Parabasal/im_Parabasal/CROPPED/\"\n",
        "path5 = \"im_Superficial-Intermediate/im_Superficial-Intermediate/CROPPED/\"\n",
        "\n",
        "path = [path1, path2, path3, path4, path5]\n",
        "\n",
        "# print(Class)\n",
        "i = 0\n",
        "for p in path:\n",
        "    Class=os.listdir(p)\n",
        "    for a in Class:\n",
        "        if(a[-1] == 'p'):\n",
        "            labels.append(i)\n",
        "            try:\n",
        "                image=cv2.imread(p+a)\n",
        "                image_from_array = Image.fromarray(image, 'RGB')\n",
        "                size_image = image_from_array.resize((height, width))\n",
        "                data.append(np.array(size_image))\n",
        "            except AttributeError:\n",
        "                print(\" \")\n",
        "    i+=1\n",
        "\n",
        "# Converting data to ndarray - \n",
        "labels = np.array(labels)\n",
        "data = np.array(data)\n",
        "\n",
        "print(data.shape)\n",
        "print(labels.shape)\n",
        "print(labels)\n",
        "\n",
        "# Randomize the order of the input images\n",
        "s = np.arange(data.shape[0])\n",
        "np.random.seed(43)\n",
        "np.random.shuffle(s)\n",
        "data = data[s]\n",
        "labels = labels[s]\n"
      ],
      "metadata": {
        "colab": {
          "base_uri": "https://localhost:8080/"
        },
        "id": "NYLvCw6ht7xy",
        "outputId": "3dc2b208-b76a-406d-849c-d41a4edecf43"
      },
      "execution_count": 25,
      "outputs": [
        {
          "output_type": "stream",
          "name": "stdout",
          "text": [
            "(4049, 64, 64, 3)\n",
            "(4049,)\n",
            "[0 0 0 ... 4 4 4]\n"
          ]
        }
      ]
    },
    {
      "cell_type": "code",
      "source": [
        "categories = [\"Dyskeratotic\", \"Koilocytotic\", \"Metaplastic\", \"Parabasal\", \"Superficial-Intermediate\"]\n",
        "\n",
        "def show_the_image(i):\n",
        "    plt.imshow(data[i])\n",
        "    plt.xlabel(categories[labels[i]])\n",
        "    \n",
        "show_the_image(0)"
      ],
      "metadata": {
        "colab": {
          "base_uri": "https://localhost:8080/",
          "height": 0
        },
        "id": "JIxmwtE5vEcs",
        "outputId": "cece5ee9-a728-41fd-f696-34353df0cdc1"
      },
      "execution_count": 26,
      "outputs": [
        {
          "output_type": "display_data",
          "data": {
            "text/plain": [
              "<Figure size 432x288 with 1 Axes>"
            ],
            "image/png": "[encoded data removed]"
          },
          "metadata": {
            "needs_background": "light"
          }
        }
      ]
    },
    {
      "cell_type": "code",
      "source": [
        "for i in range(10):\n",
        "  # plt.subplot(330 + 1 + i) # rows, cols, idx\n",
        "  plt.subplot(3, 5, i+1) # rows, cols, idx\n",
        "  plt.imshow(data[i])\n",
        "  plt.xlabel(categories[labels[i]])\n",
        "  plt.tight_layout()\n",
        "  plt.rcParams[\"figure.figsize\"] = (10, 15)"
      ],
      "metadata": {
        "colab": {
          "base_uri": "https://localhost:8080/",
          "height": 0
        },
        "id": "zEta5NnVvFn2",
        "outputId": "851e4373-3622-412e-f08a-e99b7111e35c"
      },
      "execution_count": 27,
      "outputs": [
        {
          "output_type": "display_data",
          "data": {
            "text/plain": [
              "<Figure size 432x288 with 10 Axes>"
            ],
            "image/png": "[encoded data removed]"
          },
          "metadata": {
            "needs_background": "light"
          }
        }
      ]
    },
    {
      "cell_type": "code",
      "source": [
        "for p in path:\n",
        "  print(p, len(os.listdir(p)))"
      ],
      "metadata": {
        "colab": {
          "base_uri": "https://localhost:8080/"
        },
        "id": "-GPvl-QivuRn",
        "outputId": "1fdc5b29-18d8-493c-da75-d8a629fd08b5"
      },
      "execution_count": 28,
      "outputs": [
        {
          "output_type": "stream",
          "name": "stdout",
          "text": [
            "im_Dyskeratotic/im_Dyskeratotic/CROPPED/ 2439\n",
            "im_Koilocytotic/im_Koilocytotic/CROPPED/ 2475\n",
            "im_Metaplastic/im_Metaplastic/CROPPED/ 2379\n",
            "im_Parabasal/im_Parabasal/CROPPED/ 2361\n",
            "im_Superficial-Intermediate/im_Superficial-Intermediate/CROPPED/ 2493\n"
          ]
        }
      ]
    },
    {
      "cell_type": "markdown",
      "source": [
        "# Model 1"
      ],
      "metadata": {
        "id": "IAl5vNloqI01"
      }
    },
    {
      "cell_type": "markdown",
      "source": [
        "https://www.kaggle.com/code/sohamgovande/low-res-cervical-cancer-classification"
      ],
      "metadata": {
        "id": "sPuiVpj7qpWW"
      }
    },
    {
      "cell_type": "code",
      "source": [
        "from sklearn.preprocessing import LabelEncoder\n",
        "from PIL import Image\n",
        "import numpy as np\n",
        "import matplotlib.pyplot as plt\n",
        "import os\n",
        "from sklearn.preprocessing import MinMaxScaler\n",
        "from sklearn.decomposition import PCA\n",
        "from keras.models import Sequential\n",
        "from keras.layers import Dense, Flatten, Dropout\n",
        "from sklearn.model_selection import train_test_split\n",
        "import tensorflow\n",
        "import cv2\n",
        "from keras.applications.efficientnet import EfficientNetB7\n",
        "from sklearn.metrics import accuracy_score\n",
        "\n",
        "imgdata = []\n",
        "labels = []\n",
        "###### FEEDBACK - how to determine the correct image size?\n",
        "compressed_img_size = 32\n",
        "\n",
        "celltypes = ['im_Koilocytotic', 'im_Metaplastic', 'im_Dyskeratotic', 'im_Parabasal', 'im_Superficial-Intermediate']\n",
        "path = [celltype  + \"/\" + celltype + \"/CROPPED/\" for celltype in celltypes]\n",
        "\n",
        "# Low pass filter\n",
        "LOW_PASS_FILTER = False\n",
        "# High pass filter\n",
        "HIGH_PASS_FILTER = False\n",
        "\n",
        "cur_label = -1\n",
        "for celltype in path:\n",
        "    cur_label += 1\n",
        "    # Iterate over each cell's individual image\n",
        "    cellimages = os.listdir(celltype)\n",
        "    for cellimage in cellimages:\n",
        "        if cellimage.lower().endswith(\".bmp\"):\n",
        "            # Mark each cell with a cell type\n",
        "            labels.append(cur_label)\n",
        "            img = cv2.imread(celltype+cellimage)\n",
        "            img = np.array(Image.fromarray(img, 'RGB').resize((compressed_img_size, compressed_img_size)))\n",
        "            if LOW_PASS_FILTER:\n",
        "                img = cv2.GaussianBlur(img, (3, 3), cv2.BORDER_DEFAULT)\n",
        "            elif HIGH_PASS_FILTER:\n",
        "                img = img - cv2.GaussianBlur(img, (3, 3), cv2.BORDER_DEFAULT) + 127\n",
        "            imgdata.append(img)\n",
        "\n",
        "labels = np.array(labels)\n",
        "imgdata = np.array(imgdata)\n",
        "\n",
        "# Shuffle/randomize order\n",
        "random_order = np.arange(imgdata.shape[0])\n",
        "np.random.shuffle(random_order)\n",
        "labels = labels[random_order]\n",
        "imgdata = imgdata[random_order]\n",
        "\n",
        "# Get # of each cell type\n",
        "unique, counts = np.unique(labels, return_counts=True)\n",
        "print(np.asarray((unique, counts)).T)\n",
        "\n",
        "# Used for generating figures (displaying cell images)\n",
        "def disp_img(i):\n",
        "    plt.imshow(imgdata[i])\n",
        "    plt.xlabel(celltypes[labels[i]][len('im_'):])\n",
        "    \n",
        "for i in range(0, len(labels)):\n",
        "    # Replace this with 0, 1, 2, 3, or 4 depending on the type of figure being generated\n",
        "    if labels[i] == 2:\n",
        "        disp_img(i)\n",
        "        break\n",
        "\n",
        "# Initialize neural networks\n",
        "# do not include the fully-connected layer at the top of the network\n",
        "model_efficientnet = EfficientNetB7(weights=None, include_top = False)\n",
        "features_efficientnet = model_efficientnet.predict(imgdata, batch_size=32)\n",
        "\n",
        "cur = features_efficientnet\n",
        "extracted_features = []\n",
        "zipped_data = zip(cur, labels)\n",
        "for cur, label in zipped_data:\n",
        "    cur = np.append(cur.reshape(cur.shape[0] * cur.shape[1] * cur.shape[2]), label)\n",
        "    extracted_features.append(cur)\n",
        "extracted_features = np.array(extracted_features)\n",
        "\n",
        "# Use min-max scaling to normalize the data\n",
        "X = extracted_features[:, 0:-1]\n",
        "y = extracted_features[:, -1]\n",
        "scaler = MinMaxScaler()\n",
        "scaled_X = scaler.fit_transform(X)\n",
        "\n",
        "# PCA\n",
        "pca = PCA(n_components = 0.95) # represent 95% of the variation through principal components\n",
        "pca.fit(scaled_X)\n",
        "pca_x = pca.transform(scaled_X)\n",
        "\n",
        "X_train, X_test, y_train, y_test = train_test_split(pca_x, y, test_size = 0.2, random_state = 49)\n",
        "\n",
        "# Neural network for classification\n",
        "model = Sequential([\n",
        "    Flatten(input_shape=(X_train.shape[1], 1)),\n",
        "    Dense(256, activation='relu'),\n",
        "    Dropout(rate=0.8),\n",
        "    Dense(5, activation='softmax')\n",
        "])\n",
        "\n",
        "model.compile(loss='sparse_categorical_crossentropy',  optimizer='adam', metrics=['accuracy'])"
      ],
      "metadata": {
        "colab": {
          "base_uri": "https://localhost:8080/",
          "height": 724
        },
        "id": "oW-n3PM5qMZN",
        "outputId": "44ef512e-4564-4951-ba4b-edbea68ded92"
      },
      "execution_count": 29,
      "outputs": [
        {
          "output_type": "stream",
          "name": "stdout",
          "text": [
            "[[  0 825]\n",
            " [  1 793]\n",
            " [  2 813]\n",
            " [  3 787]\n",
            " [  4 831]]\n",
            "127/127 [==============================] - 52s 368ms/step\n"
          ]
        },
        {
          "output_type": "display_data",
          "data": {
            "text/plain": [
              "<Figure size 720x1080 with 1 Axes>"
            ],
            "image/png": "[encoded data removed]"
          },
          "metadata": {
            "needs_background": "light"
          }
        }
      ]
    },
    {
      "cell_type": "code",
      "source": [
        "# Train the neural network\n",
        "nn = model.fit(X_train, y_train, batch_size=32, epochs=50)"
      ],
      "metadata": {
        "colab": {
          "base_uri": "https://localhost:8080/"
        },
        "id": "EqAZbp2SqY5h",
        "outputId": "29562f2d-c78a-4b81-bcad-633c88a8a32c"
      },
      "execution_count": 30,
      "outputs": [
        {
          "output_type": "stream",
          "name": "stdout",
          "text": [
            "Epoch 1/50\n",
            "102/102 [==============================] - 1s 2ms/step - loss: 1.4550 - accuracy: 0.4310\n",
            "Epoch 2/50\n",
            "102/102 [==============================] - 0s 2ms/step - loss: 1.0845 - accuracy: 0.5823\n",
            "Epoch 3/50\n",
            "102/102 [==============================] - 0s 2ms/step - loss: 0.9518 - accuracy: 0.6422\n",
            "Epoch 4/50\n",
            "102/102 [==============================] - 0s 2ms/step - loss: 0.8736 - accuracy: 0.6761\n",
            "Epoch 5/50\n",
            "102/102 [==============================] - 0s 2ms/step - loss: 0.8451 - accuracy: 0.6934\n",
            "Epoch 6/50\n",
            "102/102 [==============================] - 0s 2ms/step - loss: 0.8000 - accuracy: 0.7110\n",
            "Epoch 7/50\n",
            "102/102 [==============================] - 0s 2ms/step - loss: 0.7848 - accuracy: 0.7095\n",
            "Epoch 8/50\n",
            "102/102 [==============================] - 0s 2ms/step - loss: 0.7450 - accuracy: 0.7339\n",
            "Epoch 9/50\n",
            "102/102 [==============================] - 0s 2ms/step - loss: 0.7359 - accuracy: 0.7320\n",
            "Epoch 10/50\n",
            "102/102 [==============================] - 0s 2ms/step - loss: 0.7284 - accuracy: 0.7357\n",
            "Epoch 11/50\n",
            "102/102 [==============================] - 0s 2ms/step - loss: 0.6960 - accuracy: 0.7524\n",
            "Epoch 12/50\n",
            "102/102 [==============================] - 0s 2ms/step - loss: 0.7118 - accuracy: 0.7391\n",
            "Epoch 13/50\n",
            "102/102 [==============================] - 0s 2ms/step - loss: 0.6754 - accuracy: 0.7567\n",
            "Epoch 14/50\n",
            "102/102 [==============================] - 0s 2ms/step - loss: 0.6729 - accuracy: 0.7564\n",
            "Epoch 15/50\n",
            "102/102 [==============================] - 0s 2ms/step - loss: 0.6761 - accuracy: 0.7604\n",
            "Epoch 16/50\n",
            "102/102 [==============================] - 0s 2ms/step - loss: 0.6673 - accuracy: 0.7549\n",
            "Epoch 17/50\n",
            "102/102 [==============================] - 0s 2ms/step - loss: 0.6404 - accuracy: 0.7629\n",
            "Epoch 18/50\n",
            "102/102 [==============================] - 0s 2ms/step - loss: 0.6343 - accuracy: 0.7749\n",
            "Epoch 19/50\n",
            "102/102 [==============================] - 0s 2ms/step - loss: 0.6205 - accuracy: 0.7774\n",
            "Epoch 20/50\n",
            "102/102 [==============================] - 0s 2ms/step - loss: 0.6141 - accuracy: 0.7746\n",
            "Epoch 21/50\n",
            "102/102 [==============================] - 0s 2ms/step - loss: 0.6161 - accuracy: 0.7728\n",
            "Epoch 22/50\n",
            "102/102 [==============================] - 0s 2ms/step - loss: 0.6115 - accuracy: 0.7654\n",
            "Epoch 23/50\n",
            "102/102 [==============================] - 0s 2ms/step - loss: 0.6004 - accuracy: 0.7839\n",
            "Epoch 24/50\n",
            "102/102 [==============================] - 0s 2ms/step - loss: 0.6076 - accuracy: 0.7839\n",
            "Epoch 25/50\n",
            "102/102 [==============================] - 0s 2ms/step - loss: 0.5980 - accuracy: 0.7851\n",
            "Epoch 26/50\n",
            "102/102 [==============================] - 0s 2ms/step - loss: 0.5839 - accuracy: 0.7901\n",
            "Epoch 27/50\n",
            "102/102 [==============================] - 0s 2ms/step - loss: 0.5753 - accuracy: 0.7916\n",
            "Epoch 28/50\n",
            "102/102 [==============================] - 0s 2ms/step - loss: 0.5818 - accuracy: 0.7864\n",
            "Epoch 29/50\n",
            "102/102 [==============================] - 0s 2ms/step - loss: 0.5831 - accuracy: 0.7873\n",
            "Epoch 30/50\n",
            "102/102 [==============================] - 0s 2ms/step - loss: 0.5611 - accuracy: 0.7978\n",
            "Epoch 31/50\n",
            "102/102 [==============================] - 0s 2ms/step - loss: 0.5603 - accuracy: 0.7987\n",
            "Epoch 32/50\n",
            "102/102 [==============================] - 0s 2ms/step - loss: 0.5587 - accuracy: 0.7984\n",
            "Epoch 33/50\n",
            "102/102 [==============================] - 0s 2ms/step - loss: 0.5560 - accuracy: 0.7981\n",
            "Epoch 34/50\n",
            "102/102 [==============================] - 0s 2ms/step - loss: 0.5524 - accuracy: 0.8036\n",
            "Epoch 35/50\n",
            "102/102 [==============================] - 0s 2ms/step - loss: 0.5563 - accuracy: 0.7891\n",
            "Epoch 36/50\n",
            "102/102 [==============================] - 0s 2ms/step - loss: 0.5477 - accuracy: 0.8002\n",
            "Epoch 37/50\n",
            "102/102 [==============================] - 0s 2ms/step - loss: 0.5321 - accuracy: 0.7938\n",
            "Epoch 38/50\n",
            "102/102 [==============================] - 0s 2ms/step - loss: 0.5482 - accuracy: 0.7953\n",
            "Epoch 39/50\n",
            "102/102 [==============================] - 0s 2ms/step - loss: 0.5337 - accuracy: 0.8129\n",
            "Epoch 40/50\n",
            "102/102 [==============================] - 0s 2ms/step - loss: 0.5412 - accuracy: 0.7922\n",
            "Epoch 41/50\n",
            "102/102 [==============================] - 0s 2ms/step - loss: 0.5432 - accuracy: 0.8002\n",
            "Epoch 42/50\n",
            "102/102 [==============================] - 0s 2ms/step - loss: 0.5195 - accuracy: 0.8132\n",
            "Epoch 43/50\n",
            "102/102 [==============================] - 0s 2ms/step - loss: 0.5098 - accuracy: 0.8080\n",
            "Epoch 44/50\n",
            "102/102 [==============================] - 0s 2ms/step - loss: 0.5143 - accuracy: 0.8129\n",
            "Epoch 45/50\n",
            "102/102 [==============================] - 0s 2ms/step - loss: 0.5217 - accuracy: 0.8194\n",
            "Epoch 46/50\n",
            "102/102 [==============================] - 0s 2ms/step - loss: 0.5157 - accuracy: 0.8101\n",
            "Epoch 47/50\n",
            "102/102 [==============================] - 0s 2ms/step - loss: 0.4961 - accuracy: 0.8160\n",
            "Epoch 48/50\n",
            "102/102 [==============================] - 0s 2ms/step - loss: 0.5200 - accuracy: 0.8104\n",
            "Epoch 49/50\n",
            "102/102 [==============================] - 0s 2ms/step - loss: 0.5053 - accuracy: 0.8077\n",
            "Epoch 50/50\n",
            "102/102 [==============================] - 0s 2ms/step - loss: 0.5095 - accuracy: 0.8058\n"
          ]
        }
      ]
    },
    {
      "cell_type": "code",
      "source": [
        "# Predict on the test set and determine the accuracy\n",
        "y_pred = np.argmax(model.predict(X_test), axis=1)\n",
        "print(\"Accuracy is: \" + str(accuracy_score(y_test, y_pred)*100) + '%')"
      ],
      "metadata": {
        "colab": {
          "base_uri": "https://localhost:8080/"
        },
        "id": "DY-9iCv_qnFI",
        "outputId": "5d93ec48-a844-49f6-96be-c5bb792c7c18"
      },
      "execution_count": 31,
      "outputs": [
        {
          "output_type": "stream",
          "name": "stdout",
          "text": [
            "26/26 [==============================] - 0s 2ms/step\n",
            "Accuracy is: 83.08641975308642%\n"
          ]
        }
      ]
    },
    {
      "cell_type": "code",
      "source": [
        "history_dict = nn.history\n",
        "history_dict.keys()"
      ],
      "metadata": {
        "colab": {
          "base_uri": "https://localhost:8080/"
        },
        "id": "FjcX1rdz1FgV",
        "outputId": "ebe8b2d2-7cfe-4e49-eea2-d02a6c4e046e"
      },
      "execution_count": 33,
      "outputs": [
        {
          "output_type": "execute_result",
          "data": {
            "text/plain": [
              "dict_keys(['loss', 'accuracy'])"
            ]
          },
          "metadata": {},
          "execution_count": 33
        }
      ]
    },
    {
      "cell_type": "code",
      "source": [
        "history_df=pd.DataFrame(history_dict)\n",
        "history_df.tail().round(3)"
      ],
      "metadata": {
        "colab": {
          "base_uri": "https://localhost:8080/",
          "height": 206
        },
        "id": "otDrmSto1QHQ",
        "outputId": "85d27f3c-64a5-4d9b-9765-4553f075f284"
      },
      "execution_count": 34,
      "outputs": [
        {
          "output_type": "execute_result",
          "data": {
            "text/plain": [
              "     loss  accuracy\n",
              "45  0.516     0.810\n",
              "46  0.496     0.816\n",
              "47  0.520     0.810\n",
              "48  0.505     0.808\n",
              "49  0.509     0.806"
            ],
            "text/html": [
              "\n",
              "  <div id=\"df-e473343b-9936-4e08-a4f5-4123e5b66d12\">\n",
              "    <div class=\"colab-df-container\">\n",
              "      <div>\n",
              "<style scoped>\n",
              "    .dataframe tbody tr th:only-of-type {\n",
              "        vertical-align: middle;\n",
              "    }\n",
              "\n",
              "    .dataframe tbody tr th {\n",
              "        vertical-align: top;\n",
              "    }\n",
              "\n",
              "    .dataframe thead th {\n",
              "        text-align: right;\n",
              "    }\n",
              "</style>\n",
              "<table border=\"1\" class=\"dataframe\">\n",
              "  <thead>\n",
              "    <tr style=\"text-align: right;\">\n",
              "      <th></th>\n",
              "      <th>loss</th>\n",
              "      <th>accuracy</th>\n",
              "    </tr>\n",
              "  </thead>\n",
              "  <tbody>\n",
              "    <tr>\n",
              "      <th>45</th>\n",
              "      <td>0.516</td>\n",
              "      <td>0.810</td>\n",
              "    </tr>\n",
              "    <tr>\n",
              "      <th>46</th>\n",
              "      <td>0.496</td>\n",
              "      <td>0.816</td>\n",
              "    </tr>\n",
              "    <tr>\n",
              "      <th>47</th>\n",
              "      <td>0.520</td>\n",
              "      <td>0.810</td>\n",
              "    </tr>\n",
              "    <tr>\n",
              "      <th>48</th>\n",
              "      <td>0.505</td>\n",
              "      <td>0.808</td>\n",
              "    </tr>\n",
              "    <tr>\n",
              "      <th>49</th>\n",
              "      <td>0.509</td>\n",
              "      <td>0.806</td>\n",
              "    </tr>\n",
              "  </tbody>\n",
              "</table>\n",
              "</div>\n",
              "      <button class=\"colab-df-convert\" onclick=\"convertToInteractive('df-e473343b-9936-4e08-a4f5-4123e5b66d12')\"\n",
              "              title=\"Convert this dataframe to an interactive table.\"\n",
              "              style=\"display:none;\">\n",
              "        \n",
              "  <svg xmlns=\"http://www.w3.org/2000/svg\" height=\"24px\"viewBox=\"0 0 24 24\"\n",
              "       width=\"24px\">\n",
              "    <path d=\"M0 0h24v24H0V0z\" fill=\"none\"/>\n",
              "    <path d=\"M18.56 5.44l.94 2.06.94-2.06 2.06-.94-2.06-.94-.94-2.06-.94 2.06-2.06.94zm-11 1L8.5 8.5l.94-2.06 2.06-.94-2.06-.94L8.5 2.5l-.94 2.06-2.06.94zm10 10l.94 2.06.94-2.06 2.06-.94-2.06-.94-.94-2.06-.94 2.06-2.06.94z\"/><path d=\"M17.41 7.96l-1.37-1.37c-.4-.4-.92-.59-1.43-.59-.52 0-1.04.2-1.43.59L10.3 9.45l-7.72 7.72c-.78.78-.78 2.05 0 2.83L4 21.41c.39.39.9.59 1.41.59.51 0 1.02-.2 1.41-.59l7.78-7.78 2.81-2.81c.8-.78.8-2.07 0-2.86zM5.41 20L4 18.59l7.72-7.72 1.47 1.35L5.41 20z\"/>\n",
              "  </svg>\n",
              "      </button>\n",
              "      \n",
              "  <style>\n",
              "    .colab-df-container {\n",
              "      display:flex;\n",
              "      flex-wrap:wrap;\n",
              "      gap: 12px;\n",
              "    }\n",
              "\n",
              "    .colab-df-convert {\n",
              "      background-color: #E8F0FE;\n",
              "      border: none;\n",
              "      border-radius: 50%;\n",
              "      cursor: pointer;\n",
              "      display: none;\n",
              "      fill: #1967D2;\n",
              "      height: 32px;\n",
              "      padding: 0 0 0 0;\n",
              "      width: 32px;\n",
              "    }\n",
              "\n",
              "    .colab-df-convert:hover {\n",
              "      background-color: #E2EBFA;\n",
              "      box-shadow: 0px 1px 2px rgba(60, 64, 67, 0.3), 0px 1px 3px 1px rgba(60, 64, 67, 0.15);\n",
              "      fill: #174EA6;\n",
              "    }\n",
              "\n",
              "    [theme=dark] .colab-df-convert {\n",
              "      background-color: #3B4455;\n",
              "      fill: #D2E3FC;\n",
              "    }\n",
              "\n",
              "    [theme=dark] .colab-df-convert:hover {\n",
              "      background-color: #434B5C;\n",
              "      box-shadow: 0px 1px 3px 1px rgba(0, 0, 0, 0.15);\n",
              "      filter: drop-shadow(0px 1px 2px rgba(0, 0, 0, 0.3));\n",
              "      fill: #FFFFFF;\n",
              "    }\n",
              "  </style>\n",
              "\n",
              "      <script>\n",
              "        const buttonEl =\n",
              "          document.querySelector('#df-e473343b-9936-4e08-a4f5-4123e5b66d12 button.colab-df-convert');\n",
              "        buttonEl.style.display =\n",
              "          google.colab.kernel.accessAllowed ? 'block' : 'none';\n",
              "\n",
              "        async function convertToInteractive(key) {\n",
              "          const element = document.querySelector('#df-e473343b-9936-4e08-a4f5-4123e5b66d12');\n",
              "          const dataTable =\n",
              "            await google.colab.kernel.invokeFunction('convertToInteractive',\n",
              "                                                     [key], {});\n",
              "          if (!dataTable) return;\n",
              "\n",
              "          const docLinkHtml = 'Like what you see? Visit the ' +\n",
              "            '<a target=\"_blank\" href=https://colab.research.google.com/notebooks/data_table.ipynb>data table notebook</a>'\n",
              "            + ' to learn more about interactive tables.';\n",
              "          element.innerHTML = '';\n",
              "          dataTable['output_type'] = 'display_data';\n",
              "          await google.colab.output.renderOutput(dataTable, element);\n",
              "          const docLink = document.createElement('div');\n",
              "          docLink.innerHTML = docLinkHtml;\n",
              "          element.appendChild(docLink);\n",
              "        }\n",
              "      </script>\n",
              "    </div>\n",
              "  </div>\n",
              "  "
            ]
          },
          "metadata": {},
          "execution_count": 34
        }
      ]
    },
    {
      "cell_type": "code",
      "source": [
        "def plot_confusion_matrix_labeled(y_true, y_pred, CLASSES_LIST):\n",
        "    mtx = confusion_matrix(y_true, y_pred)\n",
        "    # define classes \n",
        "    classes = CLASSES_LIST\n",
        "    temp_df = pd.DataFrame(data=mtx,columns=classes)\n",
        "    temp_df.index = classes\n",
        "    fig, ax = plt.subplots(figsize=(5,5))\n",
        "    sns.heatmap(temp_df, annot=True, fmt='d', linewidths=.75,  cbar=False, ax=ax,cmap='Blues',linecolor='white')\n",
        "    #  square=True,\n",
        "    plt.ylabel('true label')\n",
        "    plt.xlabel('predicted label')\n",
        "    return plt"
      ],
      "metadata": {
        "id": "4C77nX5-2A9E"
      },
      "execution_count": 37,
      "outputs": []
    },
    {
      "cell_type": "code",
      "source": [
        "CLASS_LIST = ['Koilocytotic', 'Metaplastic', 'Dyskeratotic', 'Parabasal', 'Superficial-Intermediate']"
      ],
      "metadata": {
        "id": "lXFBozOz2ruK"
      },
      "execution_count": 44,
      "outputs": []
    },
    {
      "cell_type": "code",
      "source": [
        "# compute and print classification report\n",
        "print(classification_report(y_test, y_pred, target_names=CLASS_LIST))"
      ],
      "metadata": {
        "colab": {
          "base_uri": "https://localhost:8080/"
        },
        "id": "6kHn3OxW2G4a",
        "outputId": "b81ec7bd-adcc-48ed-80cf-0b490e6b5251"
      },
      "execution_count": 74,
      "outputs": [
        {
          "output_type": "stream",
          "name": "stdout",
          "text": [
            "                          precision    recall  f1-score   support\n",
            "\n",
            "            Koilocytotic       0.86      0.71      0.78       163\n",
            "             Metaplastic       0.87      0.87      0.87       166\n",
            "            Dyskeratotic       0.85      0.96      0.90       145\n",
            "               Parabasal       0.88      0.92      0.90       168\n",
            "Superficial-Intermediate       0.80      0.81      0.80       168\n",
            "\n",
            "                accuracy                           0.85       810\n",
            "               macro avg       0.85      0.85      0.85       810\n",
            "            weighted avg       0.85      0.85      0.85       810\n",
            "\n"
          ]
        }
      ]
    },
    {
      "cell_type": "code",
      "source": [
        "report = classification_report(y_test, y_pred, target_names=CLASS_LIST, output_dict=True)"
      ],
      "metadata": {
        "id": "peIM4l0C_BBm"
      },
      "execution_count": 72,
      "outputs": []
    },
    {
      "cell_type": "code",
      "source": [
        "report"
      ],
      "metadata": {
        "colab": {
          "base_uri": "https://localhost:8080/"
        },
        "id": "4G02jhA7_GmC",
        "outputId": "c7731487-136a-489d-bb8c-456f8972d1f7"
      },
      "execution_count": 73,
      "outputs": [
        {
          "output_type": "execute_result",
          "data": {
            "text/plain": [
              "{'Koilocytotic': {'precision': 0.8592592592592593,\n",
              "  'recall': 0.7116564417177914,\n",
              "  'f1-score': 0.7785234899328859,\n",
              "  'support': 163},\n",
              " 'Metaplastic': {'precision': 0.8682634730538922,\n",
              "  'recall': 0.8734939759036144,\n",
              "  'f1-score': 0.8708708708708709,\n",
              "  'support': 166},\n",
              " 'Dyskeratotic': {'precision': 0.852760736196319,\n",
              "  'recall': 0.9586206896551724,\n",
              "  'f1-score': 0.9025974025974026,\n",
              "  'support': 145},\n",
              " 'Parabasal': {'precision': 0.88,\n",
              "  'recall': 0.9166666666666666,\n",
              "  'f1-score': 0.8979591836734694,\n",
              "  'support': 168},\n",
              " 'Superficial-Intermediate': {'precision': 0.8,\n",
              "  'recall': 0.8095238095238095,\n",
              "  'f1-score': 0.8047337278106509,\n",
              "  'support': 168},\n",
              " 'accuracy': 0.8518518518518519,\n",
              " 'macro avg': {'precision': 0.8520566937018941,\n",
              "  'recall': 0.8539923166934109,\n",
              "  'f1-score': 0.8509369349770559,\n",
              "  'support': 810},\n",
              " 'weighted avg': {'precision': 0.8519522253514464,\n",
              "  'recall': 0.8518518518518519,\n",
              "  'f1-score': 0.8498678097896056,\n",
              "  'support': 810}}"
            ]
          },
          "metadata": {},
          "execution_count": 73
        }
      ]
    },
    {
      "cell_type": "code",
      "source": [
        "report['accuracy']"
      ],
      "metadata": {
        "colab": {
          "base_uri": "https://localhost:8080/"
        },
        "id": "be2c_LoN_uPM",
        "outputId": "7ad98809-22db-420a-cf04-2c60f8e0107b"
      },
      "execution_count": 61,
      "outputs": [
        {
          "output_type": "execute_result",
          "data": {
            "text/plain": [
              "0.8395061728395061"
            ]
          },
          "metadata": {},
          "execution_count": 61
        }
      ]
    },
    {
      "cell_type": "code",
      "source": [
        "c = confusion_matrix(y_test, y_pred)\n",
        "c"
      ],
      "metadata": {
        "colab": {
          "base_uri": "https://localhost:8080/"
        },
        "id": "BsExoVM8CHuE",
        "outputId": "ad837fc5-bdc6-4427-e48a-21d36c994541"
      },
      "execution_count": 77,
      "outputs": [
        {
          "output_type": "execute_result",
          "data": {
            "text/plain": [
              "array([[116,   9,  15,   5,  18],\n",
              "       [  7, 145,   0,   6,   8],\n",
              "       [  5,   0, 139,   0,   1],\n",
              "       [  0,   2,   5, 154,   7],\n",
              "       [  7,  11,   4,  10, 136]])"
            ]
          },
          "metadata": {},
          "execution_count": 77
        }
      ]
    },
    {
      "cell_type": "code",
      "source": [
        "c[1][1]"
      ],
      "metadata": {
        "colab": {
          "base_uri": "https://localhost:8080/"
        },
        "id": "dKEcmuRrDso7",
        "outputId": "52bf7fcf-3c9c-4cbb-efa7-9a1d329d91a2"
      },
      "execution_count": 79,
      "outputs": [
        {
          "output_type": "execute_result",
          "data": {
            "text/plain": [
              "145"
            ]
          },
          "metadata": {},
          "execution_count": 79
        }
      ]
    },
    {
      "cell_type": "code",
      "source": [
        "plot = plot_confusion_matrix_labeled(y_test, y_pred, CLASSES_LIST=CLASS_LIST)\n",
        "plot.savefig(\"confusionMatrix.png\")\n",
        "plot.show()\n",
        "plot.close()\n",
        "\n",
        "mlflow.log_artifact(\"confusionMatrix.png\")"
      ],
      "metadata": {
        "colab": {
          "base_uri": "https://localhost:8080/",
          "height": 445
        },
        "id": "QjjnOv-b22Aq",
        "outputId": "be136f48-a607-4032-b4ff-a78fc0504859"
      },
      "execution_count": 47,
      "outputs": [
        {
          "output_type": "display_data",
          "data": {
            "text/plain": [
              "<Figure size 360x360 with 1 Axes>"
            ],
            "image/png": "[encoded data removed]"
          },
          "metadata": {
            "needs_background": "light"
          }
        }
      ]
    },
    {
      "cell_type": "code",
      "source": [
        "import joblib\n",
        "joblib.dump(model, 'model1.pkl')"
      ],
      "metadata": {
        "colab": {
          "base_uri": "https://localhost:8080/"
        },
        "id": "D1EtSnmCrg3x",
        "outputId": "a5ebc1c7-83d8-4e57-b1dc-2033e7350544"
      },
      "execution_count": 32,
      "outputs": [
        {
          "output_type": "execute_result",
          "data": {
            "text/plain": [
              "['model1.pkl']"
            ]
          },
          "metadata": {},
          "execution_count": 32
        }
      ]
    },
    {
      "cell_type": "markdown",
      "source": [
        "## MLFlow"
      ],
      "metadata": {
        "id": "Ztzb53RtVTzU"
      }
    },
    {
      "cell_type": "code",
      "source": [
        "# mlflow.end_run()"
      ],
      "metadata": {
        "id": "DuGoTC_AENuC"
      },
      "execution_count": 64,
      "outputs": []
    },
    {
      "cell_type": "code",
      "source": [
        "# write to an existing experiment\n",
        "experiment = mlflow.get_experiment_by_name('/Users/rachelsickler2024@u.northwestern.edu/cervical_cancer_img')\n",
        "experiment_id = experiment.experiment_id\n",
        "run_name = 'model1'\n",
        "description = 'efficientnetb7, cnn'"
      ],
      "metadata": {
        "id": "slen9gCW48_u"
      },
      "execution_count": 65,
      "outputs": []
    },
    {
      "cell_type": "code",
      "source": [
        "import mlflow.tensorflow\n",
        "mlflow.tensorflow.autolog(every_n_iter=1)"
      ],
      "metadata": {
        "id": "AkoYf0jC9DNi"
      },
      "execution_count": 84,
      "outputs": []
    },
    {
      "cell_type": "code",
      "source": [
        "with mlflow.start_run(\n",
        "        experiment_id=experiment_id,\n",
        "        run_name=run_name,\n",
        "        description=description,\n",
        ") as run:\n",
        "\n",
        "  # Low pass filter\n",
        "  LOW_PASS_FILTER = False\n",
        "  # High pass filter\n",
        "  HIGH_PASS_FILTER = False\n",
        "\n",
        "  # Initialize neural networks\n",
        "  # do not include the fully-connected layer at the top of the network\n",
        "  model_efficientnet = EfficientNetB7(weights=None, include_top = False)\n",
        "  features_efficientnet = model_efficientnet.predict(imgdata, batch_size=32)\n",
        "\n",
        "  cur = features_efficientnet\n",
        "  extracted_features = []\n",
        "  zipped_data = zip(cur, labels)\n",
        "  for cur, label in zipped_data:\n",
        "      cur = np.append(cur.reshape(cur.shape[0] * cur.shape[1] * cur.shape[2]), label)\n",
        "      extracted_features.append(cur)\n",
        "  extracted_features = np.array(extracted_features)\n",
        "\n",
        "  # Use min-max scaling to normalize the data\n",
        "  X = extracted_features[:, 0:-1]\n",
        "  y = extracted_features[:, -1]\n",
        "  scaler = MinMaxScaler()\n",
        "  scaled_X = scaler.fit_transform(X)\n",
        "\n",
        "  # PCA\n",
        "  pca = PCA(n_components = 0.95) # represent 95% of the variation through principal components\n",
        "  pca.fit(scaled_X)\n",
        "  pca_x = pca.transform(scaled_X)\n",
        "\n",
        "  X_train, X_test, y_train, y_test = train_test_split(pca_x, y, test_size = 0.2, random_state = 49)\n",
        "\n",
        "  # Neural network for classification\n",
        "  model = Sequential([\n",
        "      Flatten(input_shape=(X_train.shape[1], 1)),\n",
        "      Dense(256, activation='relu'),\n",
        "      Dropout(rate=0.8),\n",
        "      Dense(5, activation='softmax')\n",
        "  ])\n",
        "\n",
        "  model.compile(loss='sparse_categorical_crossentropy',  optimizer='adam', metrics=['accuracy'])\n",
        "\n",
        "  # Train the neural network\n",
        "  nn = model.fit(X_train, y_train, batch_size=32, epochs=50)\n",
        "\n",
        "  # Predict on the test set and determine the accuracy\n",
        "  y_pred = np.argmax(model.predict(X_test), axis=1)\n",
        "  print(\"Accuracy is: \" + str(accuracy_score(y_test, y_pred)*100) + '%')\n",
        "\n",
        "  # compute and print classification report\n",
        "  confusion = confusion_matrix(y_test, y_pred)\n",
        "\n",
        "  # compute and print classification report\n",
        "  # print(classification_report(y_test, y_pred))\n",
        "  plot = plot_confusion_matrix_labeled(y_test, y_pred, CLASSES_LIST=CLASS_LIST)\n",
        "  plot.savefig(\"confusionMatrix.png\")\n",
        "  # plot.show()\n",
        "  plot.close()\n",
        "  mlflow.log_artifact(\"confusionMatrix.png\")\n",
        "\n",
        "  report = classification_report(y_test, y_pred, target_names=CLASS_LIST, output_dict=True)\n",
        "\n",
        "  metrics = {}\n",
        "  metrics['Koilocytotic_precision'] = report['Koilocytotic']['precision']\n",
        "  metrics['Koilocytotic_recall'] = report['Koilocytotic']['recall']\n",
        "  metrics['Koilocytotic_f1'] = report['Koilocytotic']['f1-score']\n",
        "  metrics['Koilocytotic_support'] = report['Koilocytotic']['support']\n",
        "  metrics['Metaplastic_precision'] = report['Metaplastic']['precision']\n",
        "  metrics['Metaplastic_recall'] = report['Metaplastic']['recall']\n",
        "  metrics['Metaplastic_f1'] = report['Metaplastic']['f1-score']\n",
        "  metrics['Metaplastic_support'] = report['Metaplastic']['support']\n",
        "  metrics['Dyskeratotic_precision'] = report['Dyskeratotic']['precision']\n",
        "  metrics['Dyskeratotic_recall'] = report['Dyskeratotic']['recall']\n",
        "  metrics['Dyskeratotic_f1'] = report['Dyskeratotic']['f1-score']\n",
        "  metrics['Dyskeratotic_support'] = report['Dyskeratotic']['support']\n",
        "  metrics['Parabasal_precision'] = report['Parabasal']['precision']\n",
        "  metrics['Parabasal_recall'] = report['Parabasal']['recall']\n",
        "  metrics['Parabasal_f1'] = report['Parabasal']['f1-score']\n",
        "  metrics['Parabasal_support'] = report['Parabasal']['support']\n",
        "  metrics['SI_precision'] = report['Superficial-Intermediate']['precision']\n",
        "  metrics['SI_recall'] = report['Superficial-Intermediate']['recall']\n",
        "  metrics['SI_f1'] = report['Superficial-Intermediate']['f1-score']\n",
        "  metrics['SI_support'] = report['Superficial-Intermediate']['support']\n",
        "  metrics['accuracy'] = report['accuracy']\n",
        "  metrics['tp_Koilocytotic'] = confusion[0][0]\n",
        "  metrics['tp_Metaplastic'] = confusion[1][1]\n",
        "  metrics['tp_Dyskeratotic'] = confusion[2][2]\n",
        "  metrics['tp_Parabasal'] = confusion[3][3]\n",
        "  metrics['tp_SI'] = confusion[4][4]\n",
        "  metrics['f1_score'] = f1_score(y_test, y_pred, average='weighted')\n",
        "  metrics['low_pass_filer'] = LOW_PASS_FILTER\n",
        "  metrics['high_pass_filter'] = HIGH_PASS_FILTER\n",
        "\n",
        "  mlflow.log_metrics(metrics)\n",
        "\n",
        "  joblib.dump(model, 'model1.pkl')\n",
        "  mlflow.log_artifact('model1.pkl')"
      ],
      "metadata": {
        "colab": {
          "base_uri": "https://localhost:8080/"
        },
        "id": "zcOjfSKV41I6",
        "outputId": "c633d09c-5e28-444f-9b71-df3676fd32d2"
      },
      "execution_count": 85,
      "outputs": [
        {
          "output_type": "stream",
          "name": "stdout",
          "text": [
            "127/127 [==============================] - 54s 373ms/step\n",
            "Epoch 1/50\n",
            "102/102 [==============================] - 1s 4ms/step - loss: 1.5256 - accuracy: 0.4159\n",
            "Epoch 2/50\n",
            "102/102 [==============================] - 0s 2ms/step - loss: 1.0873 - accuracy: 0.5783\n",
            "Epoch 3/50\n",
            "102/102 [==============================] - 0s 2ms/step - loss: 0.9577 - accuracy: 0.6406\n",
            "Epoch 4/50\n",
            "102/102 [==============================] - 0s 2ms/step - loss: 0.8837 - accuracy: 0.6761\n",
            "Epoch 5/50\n",
            "102/102 [==============================] - 0s 2ms/step - loss: 0.8335 - accuracy: 0.6974\n",
            "Epoch 6/50\n",
            "102/102 [==============================] - 0s 2ms/step - loss: 0.7962 - accuracy: 0.7061\n",
            "Epoch 7/50\n",
            "102/102 [==============================] - 0s 4ms/step - loss: 0.7768 - accuracy: 0.7228\n",
            "Epoch 8/50\n",
            "102/102 [==============================] - 0s 2ms/step - loss: 0.7353 - accuracy: 0.7311\n",
            "Epoch 9/50\n",
            "102/102 [==============================] - 0s 2ms/step - loss: 0.7166 - accuracy: 0.7410\n",
            "Epoch 10/50\n",
            "102/102 [==============================] - 0s 2ms/step - loss: 0.7181 - accuracy: 0.7404\n",
            "Epoch 11/50\n",
            "102/102 [==============================] - 0s 2ms/step - loss: 0.7059 - accuracy: 0.7397\n",
            "Epoch 12/50\n",
            "102/102 [==============================] - 0s 2ms/step - loss: 0.6876 - accuracy: 0.7505\n",
            "Epoch 13/50\n",
            "102/102 [==============================] - 0s 4ms/step - loss: 0.6898 - accuracy: 0.7499\n",
            "Epoch 14/50\n",
            "102/102 [==============================] - 0s 2ms/step - loss: 0.6698 - accuracy: 0.7567\n",
            "Epoch 15/50\n",
            "102/102 [==============================] - 0s 2ms/step - loss: 0.6509 - accuracy: 0.7666\n",
            "Epoch 16/50\n",
            "102/102 [==============================] - 0s 2ms/step - loss: 0.6493 - accuracy: 0.7613\n",
            "Epoch 17/50\n",
            "102/102 [==============================] - 0s 2ms/step - loss: 0.6429 - accuracy: 0.7657\n",
            "Epoch 18/50\n",
            "102/102 [==============================] - 0s 2ms/step - loss: 0.6358 - accuracy: 0.7678\n",
            "Epoch 19/50\n",
            "102/102 [==============================] - 0s 2ms/step - loss: 0.6302 - accuracy: 0.7632\n",
            "Epoch 20/50\n",
            "102/102 [==============================] - 0s 4ms/step - loss: 0.6336 - accuracy: 0.7669\n",
            "Epoch 21/50\n",
            "102/102 [==============================] - 0s 2ms/step - loss: 0.6163 - accuracy: 0.7666\n",
            "Epoch 22/50\n",
            "102/102 [==============================] - 0s 2ms/step - loss: 0.6300 - accuracy: 0.7660\n",
            "Epoch 23/50\n",
            "102/102 [==============================] - 0s 2ms/step - loss: 0.6043 - accuracy: 0.7762\n",
            "Epoch 24/50\n",
            "102/102 [==============================] - 0s 3ms/step - loss: 0.6142 - accuracy: 0.7811\n",
            "Epoch 25/50\n",
            "102/102 [==============================] - 0s 2ms/step - loss: 0.5877 - accuracy: 0.7777\n",
            "Epoch 26/50\n",
            "102/102 [==============================] - 0s 2ms/step - loss: 0.5818 - accuracy: 0.7854\n",
            "Epoch 27/50\n",
            "102/102 [==============================] - 0s 4ms/step - loss: 0.5908 - accuracy: 0.7854\n",
            "Epoch 28/50\n",
            "102/102 [==============================] - 0s 2ms/step - loss: 0.5748 - accuracy: 0.7873\n",
            "Epoch 29/50\n",
            "102/102 [==============================] - 0s 2ms/step - loss: 0.5744 - accuracy: 0.7894\n",
            "Epoch 30/50\n",
            "102/102 [==============================] - 0s 2ms/step - loss: 0.5861 - accuracy: 0.7860\n",
            "Epoch 31/50\n",
            "102/102 [==============================] - 0s 2ms/step - loss: 0.5573 - accuracy: 0.7916\n",
            "Epoch 32/50\n",
            "102/102 [==============================] - 0s 2ms/step - loss: 0.5631 - accuracy: 0.7882\n",
            "Epoch 33/50\n",
            "102/102 [==============================] - 0s 4ms/step - loss: 0.5423 - accuracy: 0.8089\n",
            "Epoch 34/50\n",
            "102/102 [==============================] - 0s 2ms/step - loss: 0.5640 - accuracy: 0.7916\n",
            "Epoch 35/50\n",
            "102/102 [==============================] - 0s 2ms/step - loss: 0.5533 - accuracy: 0.7972\n",
            "Epoch 36/50\n",
            "102/102 [==============================] - 0s 2ms/step - loss: 0.5545 - accuracy: 0.7897\n",
            "Epoch 37/50\n",
            "102/102 [==============================] - 0s 2ms/step - loss: 0.5500 - accuracy: 0.7999\n",
            "Epoch 38/50\n",
            "102/102 [==============================] - 0s 2ms/step - loss: 0.5429 - accuracy: 0.8006\n",
            "Epoch 39/50\n",
            "102/102 [==============================] - 0s 4ms/step - loss: 0.5378 - accuracy: 0.7941\n",
            "Epoch 40/50\n",
            "102/102 [==============================] - 0s 2ms/step - loss: 0.5534 - accuracy: 0.7950\n",
            "Epoch 41/50\n",
            "102/102 [==============================] - 0s 2ms/step - loss: 0.5505 - accuracy: 0.7999\n",
            "Epoch 42/50\n",
            "102/102 [==============================] - 0s 2ms/step - loss: 0.5313 - accuracy: 0.8018\n",
            "Epoch 43/50\n",
            "102/102 [==============================] - 0s 2ms/step - loss: 0.5301 - accuracy: 0.8012\n",
            "Epoch 44/50\n",
            "102/102 [==============================] - 0s 2ms/step - loss: 0.5196 - accuracy: 0.8040\n",
            "Epoch 45/50\n",
            "102/102 [==============================] - 0s 4ms/step - loss: 0.5371 - accuracy: 0.8012\n",
            "Epoch 46/50\n",
            "102/102 [==============================] - 0s 2ms/step - loss: 0.5204 - accuracy: 0.8030\n",
            "Epoch 47/50\n",
            "102/102 [==============================] - 0s 2ms/step - loss: 0.5429 - accuracy: 0.7969\n",
            "Epoch 48/50\n",
            "102/102 [==============================] - 0s 2ms/step - loss: 0.5156 - accuracy: 0.8043\n",
            "Epoch 49/50\n",
            "102/102 [==============================] - 0s 2ms/step - loss: 0.5151 - accuracy: 0.8157\n",
            "Epoch 50/50\n",
            "102/102 [==============================] - 0s 2ms/step - loss: 0.5087 - accuracy: 0.8114\n",
            "1/1 [==============================] - 0s 50ms/step\n"
          ]
        },
        {
          "output_type": "stream",
          "name": "stderr",
          "text": [
            "2023/01/28 21:48:52 WARNING mlflow.utils.requirements_utils: Found jaxlib version (0.3.25+cuda11.cudnn805) contains a local version label (+cuda11.cudnn805). MLflow logged a pip requirement for this package as 'jaxlib==0.3.25' without the local version label to make it installable from PyPI. To specify pip requirements containing local version labels, please use `conda_env` or `pip_requirements`.\n"
          ]
        },
        {
          "output_type": "stream",
          "name": "stdout",
          "text": [
            "26/26 [==============================] - 0s 2ms/step\n",
            "Accuracy is: 83.08641975308642%\n"
          ]
        }
      ]
    },
    {
      "cell_type": "markdown",
      "source": [
        "# Model 2"
      ],
      "metadata": {
        "id": "8sU_NsJiSTiM"
      }
    },
    {
      "cell_type": "markdown",
      "source": [
        "https://www.kaggle.com/code/kanishk26/sipkamed-dataset"
      ],
      "metadata": {
        "id": "p3MPeNSHYVNx"
      }
    },
    {
      "cell_type": "code",
      "source": [
        "data=[]\n",
        "labels=[]\n",
        "\n",
        "height = 64\n",
        "width = 64\n",
        "channels = 3\n",
        "classes = 43\n",
        "n_inputs = height * width * channels\n",
        "\n",
        "path1 = \"im_Dyskeratotic/im_Dyskeratotic/CROPPED/\"\n",
        "path2 = \"im_Koilocytotic/im_Koilocytotic/CROPPED/\"\n",
        "path3 = \"im_Metaplastic/im_Metaplastic/CROPPED/\"\n",
        "path4 = \"im_Parabasal/im_Parabasal/CROPPED/\"\n",
        "path5 = \"im_Superficial-Intermediate/im_Superficial-Intermediate/CROPPED/\"\n",
        "\n",
        "path = [path1, path2, path3, path4, path5]\n",
        "\n",
        "# print(Class)\n",
        "i = 0\n",
        "for p in path:\n",
        "    Class=os.listdir(p)\n",
        "    for a in Class:\n",
        "        if(a[-1] == 'p'):\n",
        "            labels.append(i)\n",
        "            try:\n",
        "                image=cv2.imread(p+a)\n",
        "                image_from_array = Image.fromarray(image, 'RGB')\n",
        "                size_image = image_from_array.resize((height, width))\n",
        "                data.append(np.array(size_image))\n",
        "            except AttributeError:\n",
        "                print(\" \")\n",
        "    i+=1\n",
        "\n",
        "# Converting data to ndarray - \n",
        "labels = np.array(labels)\n",
        "data = np.array(data)\n",
        "\n",
        "print(data.shape)\n",
        "print(labels.shape)\n",
        "print(labels)\n",
        "\n",
        "# Randomize the order of the input images\n",
        "s = np.arange(data.shape[0])\n",
        "np.random.seed(43)\n",
        "np.random.shuffle(s)\n",
        "data = data[s]\n",
        "labels = labels[s]"
      ],
      "metadata": {
        "colab": {
          "base_uri": "https://localhost:8080/"
        },
        "id": "kVsOjeMZYGKy",
        "outputId": "7034afc8-b5cf-4c84-eee2-14c8e5991833"
      },
      "execution_count": 89,
      "outputs": [
        {
          "output_type": "stream",
          "name": "stdout",
          "text": [
            "(4049, 64, 64, 3)\n",
            "(4049,)\n",
            "[0 0 0 ... 4 4 4]\n"
          ]
        }
      ]
    },
    {
      "cell_type": "code",
      "source": [
        "# mlflow.end_run()"
      ],
      "metadata": {
        "id": "t-OEmB-vSgp0"
      },
      "execution_count": null,
      "outputs": []
    },
    {
      "cell_type": "code",
      "source": [
        "# write to an existing experiment\n",
        "experiment = mlflow.get_experiment_by_name('/Users/rachelsickler2024@u.northwestern.edu/cervical_cancer_img')\n",
        "experiment_id = experiment.experiment_id\n",
        "run_name = 'model2'\n",
        "description = 'efficientnetb5, DenseNet121, ResNet50, cnn'"
      ],
      "metadata": {
        "id": "HoVQOZfc9baj"
      },
      "execution_count": 90,
      "outputs": []
    },
    {
      "cell_type": "code",
      "source": [
        "with mlflow.start_run(\n",
        "        experiment_id=experiment_id,\n",
        "        run_name=run_name,\n",
        "        description=description,\n",
        ") as run:\n",
        "  # Loading ResNet50 wit imagenet weights, include_top means that we loading model without last fully connected layers\n",
        "  model_resnet       = ResNet50(weights = 'imagenet', include_top = False)\n",
        "  model_densenet     = DenseNet121(weights = 'imagenet', include_top = False)\n",
        "  model_efficientnet = EfficientNetB5(weights = 'imagenet', include_top = False)\n",
        "\n",
        "  features_resnet       = model_resnet.predict(data, batch_size=32)\n",
        "  features_densenet     = model_densenet.predict(data, batch_size=32)\n",
        "  features_efficientnet = model_densenet.predict(data, batch_size=32)\n",
        "\n",
        "  extracted_features = []\n",
        "  for f_r, f_d, f_e, label in zip(features_resnet, features_densenet, features_efficientnet, labels):\n",
        "    f_r = f_r.reshape(f_r.shape[0] * f_r.shape[1] * f_r.shape[2])\n",
        "    f_d = f_d.reshape(f_d.shape[0] * f_d.shape[1] * f_d.shape[2])\n",
        "    f_e = f_e.reshape(f_e.shape[0] * f_e.shape[1] * f_e.shape[2])\n",
        "    \n",
        "    f_r = np.append(f_r, f_d)\n",
        "    f_r = np.append(f_r, f_e)\n",
        "    f_r = np.append(f_r, label)\n",
        "    extracted_features.append(f_r)\n",
        "    # extracted_features.append(f_d)\n",
        "    # extracted_features.append(f_e)\n",
        "\n",
        "  extracted_features = np.array(extracted_features)\n",
        "\n",
        "  # Normalization\n",
        "  X = extracted_features[:, 0:-1]\n",
        "  y = extracted_features[:, -1]\n",
        "\n",
        "  scaler = MinMaxScaler()\n",
        "  scaled_X = scaler.fit_transform(X)\n",
        "      \n",
        "  extracted_features = np.array(extracted_features)\n",
        "\n",
        "  # PCA\n",
        "  pca = PCA(n_components = 0.95)\n",
        "  pca.fit(scaled_X)\n",
        "  principal_X = pca.transform(scaled_X)\n",
        "\n",
        "  X_train, X_test, y_train, y_test = train_test_split(principal_X, y, test_size = 0.2, random_state = 6140)\n",
        "\n",
        "  model = Sequential()\n",
        "\n",
        "  model.add(Flatten(input_shape=(X_train.shape[1], 1)))\n",
        "  model.add(Dense(256, activation='relu'))\n",
        "  model.add(Dropout(rate=0.5))\n",
        "  model.add(Dense(5, activation='softmax'))\n",
        "\n",
        "  #Compilation of the model\n",
        "  model.compile(\n",
        "      loss='sparse_categorical_crossentropy', \n",
        "      optimizer='adam', \n",
        "      metrics=['accuracy']\n",
        "  )\n",
        "\n",
        "  epochs = 10\n",
        "\n",
        "  # Train the neural network\n",
        "  nn = model.fit(X_train, y_train, batch_size=32, epochs=50)\n",
        "\n",
        "  # Predict on the test set and determine the accuracy\n",
        "  y_pred = np.argmax(model.predict(X_test), axis=1)\n",
        "  print(\"Accuracy is: \" + str(accuracy_score(y_test, y_pred)*100) + '%')\n",
        "\n",
        "  #########################################\n",
        "  # compute and print classification report\n",
        "  confusion = confusion_matrix(y_test, y_pred)\n",
        "\n",
        "  # compute and print classification report\n",
        "  # print(classification_report(y_test, y_pred))\n",
        "  plot = plot_confusion_matrix_labeled(y_test, y_pred, CLASSES_LIST=CLASS_LIST)\n",
        "  plot.savefig(\"confusionMatrix.png\", bbox_inches=\"tight\")\n",
        "  # plot.show()\n",
        "  plot.close()\n",
        "  mlflow.log_artifact(\"confusionMatrix.png\")\n",
        "\n",
        "  report = classification_report(y_test, y_pred, target_names=CLASS_LIST, output_dict=True)\n",
        "\n",
        "  metrics = {}\n",
        "  metrics['Koilocytotic_precision'] = report['Koilocytotic']['precision']\n",
        "  metrics['Koilocytotic_recall'] = report['Koilocytotic']['recall']\n",
        "  metrics['Koilocytotic_f1'] = report['Koilocytotic']['f1-score']\n",
        "  metrics['Koilocytotic_support'] = report['Koilocytotic']['support']\n",
        "  metrics['Metaplastic_precision'] = report['Metaplastic']['precision']\n",
        "  metrics['Metaplastic_recall'] = report['Metaplastic']['recall']\n",
        "  metrics['Metaplastic_f1'] = report['Metaplastic']['f1-score']\n",
        "  metrics['Metaplastic_support'] = report['Metaplastic']['support']\n",
        "  metrics['Dyskeratotic_precision'] = report['Dyskeratotic']['precision']\n",
        "  metrics['Dyskeratotic_recall'] = report['Dyskeratotic']['recall']\n",
        "  metrics['Dyskeratotic_f1'] = report['Dyskeratotic']['f1-score']\n",
        "  metrics['Dyskeratotic_support'] = report['Dyskeratotic']['support']\n",
        "  metrics['Parabasal_precision'] = report['Parabasal']['precision']\n",
        "  metrics['Parabasal_recall'] = report['Parabasal']['recall']\n",
        "  metrics['Parabasal_f1'] = report['Parabasal']['f1-score']\n",
        "  metrics['Parabasal_support'] = report['Parabasal']['support']\n",
        "  metrics['SI_precision'] = report['Superficial-Intermediate']['precision']\n",
        "  metrics['SI_recall'] = report['Superficial-Intermediate']['recall']\n",
        "  metrics['SI_f1'] = report['Superficial-Intermediate']['f1-score']\n",
        "  metrics['SI_support'] = report['Superficial-Intermediate']['support']\n",
        "  metrics['accuracy'] = report['accuracy']\n",
        "  metrics['tp_Koilocytotic'] = confusion[0][0]\n",
        "  metrics['tp_Metaplastic'] = confusion[1][1]\n",
        "  metrics['tp_Dyskeratotic'] = confusion[2][2]\n",
        "  metrics['tp_Parabasal'] = confusion[3][3]\n",
        "  metrics['tp_SI'] = confusion[4][4]\n",
        "  metrics['f1_score'] = f1_score(y_test, y_pred, average='weighted')\n",
        "\n",
        "  mlflow.log_metrics(metrics)\n",
        "\n",
        "  joblib.dump(model, 'model2.pkl')\n",
        "  mlflow.log_artifact('model2.pkl')"
      ],
      "metadata": {
        "colab": {
          "base_uri": "https://localhost:8080/"
        },
        "id": "0x5jWKnFTsx3",
        "outputId": "e11879dd-0385-4221-f70c-417e73b6f631"
      },
      "execution_count": 95,
      "outputs": [
        {
          "output_type": "stream",
          "name": "stdout",
          "text": [
            "127/127 [==============================] - 57s 438ms/step\n",
            "127/127 [==============================] - 51s 384ms/step\n",
            "127/127 [==============================] - 49s 384ms/step\n",
            "Epoch 1/50\n",
            "102/102 [==============================] - 1s 7ms/step - loss: 0.7226 - accuracy: 0.7570\n",
            "Epoch 2/50\n",
            "102/102 [==============================] - 1s 5ms/step - loss: 0.1714 - accuracy: 0.9605\n",
            "Epoch 3/50\n",
            "102/102 [==============================] - 1s 5ms/step - loss: 0.0829 - accuracy: 0.9846\n",
            "Epoch 4/50\n",
            "102/102 [==============================] - 1s 6ms/step - loss: 0.0417 - accuracy: 0.9966\n",
            "Epoch 5/50\n",
            "102/102 [==============================] - 1s 5ms/step - loss: 0.0273 - accuracy: 0.9978\n",
            "Epoch 6/50\n",
            "102/102 [==============================] - 1s 5ms/step - loss: 0.0195 - accuracy: 0.9978\n",
            "Epoch 7/50\n",
            "102/102 [==============================] - 1s 7ms/step - loss: 0.0134 - accuracy: 0.9994\n",
            "Epoch 8/50\n",
            "102/102 [==============================] - 1s 5ms/step - loss: 0.0097 - accuracy: 0.9991\n",
            "Epoch 9/50\n",
            "102/102 [==============================] - 1s 5ms/step - loss: 0.0079 - accuracy: 0.9997\n",
            "Epoch 10/50\n",
            "102/102 [==============================] - 1s 6ms/step - loss: 0.0064 - accuracy: 0.9997\n",
            "Epoch 11/50\n",
            "102/102 [==============================] - 0s 5ms/step - loss: 0.0052 - accuracy: 1.0000\n",
            "Epoch 12/50\n",
            "102/102 [==============================] - 0s 5ms/step - loss: 0.0043 - accuracy: 1.0000\n",
            "Epoch 13/50\n",
            "102/102 [==============================] - 1s 7ms/step - loss: 0.0036 - accuracy: 0.9997\n",
            "Epoch 14/50\n",
            "102/102 [==============================] - 1s 5ms/step - loss: 0.0032 - accuracy: 1.0000\n",
            "Epoch 15/50\n",
            "102/102 [==============================] - 0s 5ms/step - loss: 0.0025 - accuracy: 1.0000\n",
            "Epoch 16/50\n",
            "102/102 [==============================] - 1s 7ms/step - loss: 0.0026 - accuracy: 0.9997\n",
            "Epoch 17/50\n",
            "102/102 [==============================] - 1s 5ms/step - loss: 0.0019 - accuracy: 1.0000\n",
            "Epoch 18/50\n",
            "102/102 [==============================] - 1s 7ms/step - loss: 0.0019 - accuracy: 1.0000\n",
            "Epoch 19/50\n",
            "102/102 [==============================] - 1s 5ms/step - loss: 0.0017 - accuracy: 1.0000\n",
            "Epoch 20/50\n",
            "102/102 [==============================] - 1s 5ms/step - loss: 0.0015 - accuracy: 1.0000\n",
            "Epoch 21/50\n",
            "102/102 [==============================] - 1s 6ms/step - loss: 0.0014 - accuracy: 1.0000\n",
            "Epoch 22/50\n",
            "102/102 [==============================] - 1s 5ms/step - loss: 0.0015 - accuracy: 0.9997\n",
            "Epoch 23/50\n",
            "102/102 [==============================] - 1s 5ms/step - loss: 0.0026 - accuracy: 0.9994\n",
            "Epoch 24/50\n",
            "102/102 [==============================] - 1s 7ms/step - loss: 0.0034 - accuracy: 0.9994\n",
            "Epoch 25/50\n",
            "102/102 [==============================] - 1s 5ms/step - loss: 9.6288e-04 - accuracy: 1.0000\n",
            "Epoch 26/50\n",
            "102/102 [==============================] - 0s 5ms/step - loss: 0.0012 - accuracy: 1.0000\n",
            "Epoch 27/50\n",
            "102/102 [==============================] - 0s 5ms/step - loss: 0.0011 - accuracy: 1.0000\n",
            "Epoch 28/50\n",
            "102/102 [==============================] - 1s 6ms/step - loss: 7.8691e-04 - accuracy: 1.0000\n",
            "Epoch 29/50\n",
            "102/102 [==============================] - 0s 5ms/step - loss: 5.9857e-04 - accuracy: 1.0000\n",
            "Epoch 30/50\n",
            "102/102 [==============================] - 1s 5ms/step - loss: 6.8352e-04 - accuracy: 1.0000\n",
            "Epoch 31/50\n",
            "102/102 [==============================] - 1s 7ms/step - loss: 5.5702e-04 - accuracy: 1.0000\n",
            "Epoch 32/50\n",
            "102/102 [==============================] - 1s 5ms/step - loss: 0.0018 - accuracy: 0.9997\n",
            "Epoch 33/50\n",
            "102/102 [==============================] - 1s 7ms/step - loss: 0.0014 - accuracy: 0.9997\n",
            "Epoch 34/50\n",
            "102/102 [==============================] - 1s 5ms/step - loss: 4.6012e-04 - accuracy: 1.0000\n",
            "Epoch 35/50\n",
            "102/102 [==============================] - 1s 5ms/step - loss: 5.6537e-04 - accuracy: 1.0000\n",
            "Epoch 36/50\n",
            "102/102 [==============================] - 0s 5ms/step - loss: 3.5147e-04 - accuracy: 1.0000\n",
            "Epoch 37/50\n",
            "102/102 [==============================] - 1s 7ms/step - loss: 3.9074e-04 - accuracy: 1.0000\n",
            "Epoch 38/50\n",
            "102/102 [==============================] - 1s 5ms/step - loss: 2.9883e-04 - accuracy: 1.0000\n",
            "Epoch 39/50\n",
            "102/102 [==============================] - 1s 6ms/step - loss: 3.4497e-04 - accuracy: 1.0000\n",
            "Epoch 40/50\n",
            "102/102 [==============================] - 1s 5ms/step - loss: 2.6666e-04 - accuracy: 1.0000\n",
            "Epoch 41/50\n",
            "102/102 [==============================] - 1s 5ms/step - loss: 2.6280e-04 - accuracy: 1.0000\n",
            "Epoch 42/50\n",
            "102/102 [==============================] - 1s 7ms/step - loss: 2.6329e-04 - accuracy: 1.0000\n",
            "Epoch 43/50\n",
            "102/102 [==============================] - 1s 5ms/step - loss: 2.4062e-04 - accuracy: 1.0000\n",
            "Epoch 44/50\n",
            "102/102 [==============================] - 1s 5ms/step - loss: 1.9577e-04 - accuracy: 1.0000\n",
            "Epoch 45/50\n",
            "102/102 [==============================] - 0s 5ms/step - loss: 2.7220e-04 - accuracy: 1.0000\n",
            "Epoch 46/50\n",
            "102/102 [==============================] - 1s 7ms/step - loss: 2.0419e-04 - accuracy: 1.0000\n",
            "Epoch 47/50\n",
            "102/102 [==============================] - 0s 5ms/step - loss: 1.9037e-04 - accuracy: 1.0000\n",
            "Epoch 48/50\n",
            "102/102 [==============================] - 1s 7ms/step - loss: 2.2258e-04 - accuracy: 1.0000\n",
            "Epoch 49/50\n",
            "102/102 [==============================] - 1s 5ms/step - loss: 1.4193e-04 - accuracy: 1.0000\n",
            "Epoch 50/50\n",
            "102/102 [==============================] - 1s 5ms/step - loss: 1.2686e-04 - accuracy: 1.0000\n",
            "1/1 [==============================] - 0s 57ms/step\n"
          ]
        },
        {
          "output_type": "stream",
          "name": "stderr",
          "text": [
            "2023/01/28 23:46:54 WARNING mlflow.utils.requirements_utils: Found jaxlib version (0.3.25+cuda11.cudnn805) contains a local version label (+cuda11.cudnn805). MLflow logged a pip requirement for this package as 'jaxlib==0.3.25' without the local version label to make it installable from PyPI. To specify pip requirements containing local version labels, please use `conda_env` or `pip_requirements`.\n"
          ]
        },
        {
          "output_type": "stream",
          "name": "stdout",
          "text": [
            "26/26 [==============================] - 0s 2ms/step\n",
            "Accuracy is: 93.45679012345678%\n"
          ]
        }
      ]
    },
    {
      "cell_type": "code",
      "source": [],
      "metadata": {
        "id": "tBhGF-l2aUDO"
      },
      "execution_count": null,
      "outputs": []
    }
  ]
}